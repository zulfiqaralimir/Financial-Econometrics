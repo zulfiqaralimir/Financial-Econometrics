{
  "cells": [
    {
      "cell_type": "markdown",
      "metadata": {
        "id": "view-in-github",
        "colab_type": "text"
      },
      "source": [
        "<a href=\"https://colab.research.google.com/github/zulfiqaralimir/Financial-Econometrics/blob/master/ROBUST_REGRESSION_001.ipynb\" target=\"_parent\"><img src=\"https://colab.research.google.com/assets/colab-badge.svg\" alt=\"Open In Colab\"/></a>"
      ]
    },
    {
      "cell_type": "markdown",
      "id": "wlWgQpSzJ3w7",
      "metadata": {
        "id": "wlWgQpSzJ3w7",
        "editable": true,
        "deletable": true
      },
      "source": [
        "\n",
        "## FINANCIAL ECONOMETRICS\n",
        "MODULE 2 | LESSON 2\n",
        "\n",
        "---"
      ]
    },
    {
      "cell_type": "markdown",
      "id": "e28dce36",
      "metadata": {
        "id": "e28dce36",
        "editable": true,
        "deletable": true
      },
      "source": [
        "# **ROBUST REGRESSION**\n",
        "\n"
      ]
    },
    {
      "cell_type": "markdown",
      "id": "ebtyjC92J-UT",
      "metadata": {
        "id": "ebtyjC92J-UT",
        "editable": true,
        "deletable": true
      },
      "source": [
        "|  |  |\n",
        "|:---|:---|\n",
        "|**Reading Time** |  90 minutes |\n",
        "|**Prior Knowledge** | OLS regression, Weighted Least Square Regression, Linear Algebra  |\n",
        "|**Keywords** | Objective Function, Robust Regression, Quadratic Function, M-Estimation, Huber Method, Bisquare Method, <br> Iterative Reweighted Least Square Regression (IRLS) |\n",
        "\n",
        "\n",
        "---"
      ]
    },
    {
      "cell_type": "markdown",
      "id": "151c44d3",
      "metadata": {
        "id": "151c44d3",
        "editable": true,
        "deletable": true
      },
      "source": [
        "*In the last lesson, we discussed how to use weights to handle **unequal error terms from observations (heteroskedasticity)** in a regression model. We also briefly mentioned that **using weights can deal with outlier issues** as well. In this lesson, we will **dive deeper into how outliers can influence OLS regression model results**. We will then propose an **adjusted regression method** to handle outliers: **robust regression**. **There are several methods** for robust regression. We will focus **on two types**: **M-estimation and L1 regression**.*\n",
        "\n"
      ]
    },
    {
      "cell_type": "code",
      "source": [
        "from google.colab import drive\n",
        "drive.mount('/content/drive')"
      ],
      "metadata": {
        "colab": {
          "base_uri": "https://localhost:8080/"
        },
        "id": "0YZBUwcqWCj8",
        "outputId": "28d44b07-550e-4b54-cc85-0bee99b2bb6c",
        "editable": true,
        "deletable": true
      },
      "execution_count": null,
      "outputs": [
        {
          "output_type": "stream",
          "name": "stdout",
          "text": [
            "Mounted at /content/drive\n"
          ]
        }
      ],
      "id": "0YZBUwcqWCj8"
    },
    {
      "cell_type": "code",
      "source": [
        "# Navigate to your file location in Google Drive\n",
        "import pandas as pd\n",
        "\n",
        "import pandas as pd\n",
        "\n",
        "file_id = '1t4ynou2oRi7gvC7fOYfShLejXGQS4LqZ'\n",
        "url = f'https://drive.google.com/uc?id={file_id}'\n",
        "df = pd.read_csv(url)\n",
        "df.head()"
      ],
      "metadata": {
        "colab": {
          "base_uri": "https://localhost:8080/",
          "height": 206
        },
        "id": "-jSR8oO5XVID",
        "outputId": "95eb3934-72db-4b5b-abd6-3b779b21f328",
        "editable": true,
        "deletable": true
      },
      "execution_count": null,
      "outputs": [
        {
          "output_type": "execute_result",
          "data": {
            "text/plain": [
              "       Date       DXY    METALS       OIL    US_STK  INTL_STK   X13W_TB  \\\n",
              "0  1/4/2016  0.002433  0.024283 -0.007559 -0.013980 -0.019802  0.047297   \n",
              "1  1/5/2016  0.005361 -0.004741 -0.021491  0.001691 -0.001263  0.322581   \n",
              "2  1/6/2016 -0.002213  0.013642 -0.055602 -0.012614 -0.015171  0.000000   \n",
              "3  1/7/2016 -0.009679  0.035249 -0.020606 -0.023992 -0.019255 -0.073171   \n",
              "4  1/8/2016  0.003258 -0.028064 -0.003306 -0.010977 -0.010471  0.000000   \n",
              "\n",
              "   X10Y_TBY    EURUSD  YEAR  \n",
              "0 -0.010577 -0.007316  2016  \n",
              "1  0.001336 -0.002436  2016  \n",
              "2 -0.031584 -0.006978  2016  \n",
              "3 -0.011024  0.002512  2016  \n",
              "4 -0.010683  0.013636  2016  "
            ],
            "text/html": [
              "\n",
              "  <div id=\"df-eed81d9e-0bb4-4738-a9e1-1407d3c61433\" class=\"colab-df-container\">\n",
              "    <div>\n",
              "<style scoped>\n",
              "    .dataframe tbody tr th:only-of-type {\n",
              "        vertical-align: middle;\n",
              "    }\n",
              "\n",
              "    .dataframe tbody tr th {\n",
              "        vertical-align: top;\n",
              "    }\n",
              "\n",
              "    .dataframe thead th {\n",
              "        text-align: right;\n",
              "    }\n",
              "</style>\n",
              "<table border=\"1\" class=\"dataframe\">\n",
              "  <thead>\n",
              "    <tr style=\"text-align: right;\">\n",
              "      <th></th>\n",
              "      <th>Date</th>\n",
              "      <th>DXY</th>\n",
              "      <th>METALS</th>\n",
              "      <th>OIL</th>\n",
              "      <th>US_STK</th>\n",
              "      <th>INTL_STK</th>\n",
              "      <th>X13W_TB</th>\n",
              "      <th>X10Y_TBY</th>\n",
              "      <th>EURUSD</th>\n",
              "      <th>YEAR</th>\n",
              "    </tr>\n",
              "  </thead>\n",
              "  <tbody>\n",
              "    <tr>\n",
              "      <th>0</th>\n",
              "      <td>1/4/2016</td>\n",
              "      <td>0.002433</td>\n",
              "      <td>0.024283</td>\n",
              "      <td>-0.007559</td>\n",
              "      <td>-0.013980</td>\n",
              "      <td>-0.019802</td>\n",
              "      <td>0.047297</td>\n",
              "      <td>-0.010577</td>\n",
              "      <td>-0.007316</td>\n",
              "      <td>2016</td>\n",
              "    </tr>\n",
              "    <tr>\n",
              "      <th>1</th>\n",
              "      <td>1/5/2016</td>\n",
              "      <td>0.005361</td>\n",
              "      <td>-0.004741</td>\n",
              "      <td>-0.021491</td>\n",
              "      <td>0.001691</td>\n",
              "      <td>-0.001263</td>\n",
              "      <td>0.322581</td>\n",
              "      <td>0.001336</td>\n",
              "      <td>-0.002436</td>\n",
              "      <td>2016</td>\n",
              "    </tr>\n",
              "    <tr>\n",
              "      <th>2</th>\n",
              "      <td>1/6/2016</td>\n",
              "      <td>-0.002213</td>\n",
              "      <td>0.013642</td>\n",
              "      <td>-0.055602</td>\n",
              "      <td>-0.012614</td>\n",
              "      <td>-0.015171</td>\n",
              "      <td>0.000000</td>\n",
              "      <td>-0.031584</td>\n",
              "      <td>-0.006978</td>\n",
              "      <td>2016</td>\n",
              "    </tr>\n",
              "    <tr>\n",
              "      <th>3</th>\n",
              "      <td>1/7/2016</td>\n",
              "      <td>-0.009679</td>\n",
              "      <td>0.035249</td>\n",
              "      <td>-0.020606</td>\n",
              "      <td>-0.023992</td>\n",
              "      <td>-0.019255</td>\n",
              "      <td>-0.073171</td>\n",
              "      <td>-0.011024</td>\n",
              "      <td>0.002512</td>\n",
              "      <td>2016</td>\n",
              "    </tr>\n",
              "    <tr>\n",
              "      <th>4</th>\n",
              "      <td>1/8/2016</td>\n",
              "      <td>0.003258</td>\n",
              "      <td>-0.028064</td>\n",
              "      <td>-0.003306</td>\n",
              "      <td>-0.010977</td>\n",
              "      <td>-0.010471</td>\n",
              "      <td>0.000000</td>\n",
              "      <td>-0.010683</td>\n",
              "      <td>0.013636</td>\n",
              "      <td>2016</td>\n",
              "    </tr>\n",
              "  </tbody>\n",
              "</table>\n",
              "</div>\n",
              "    <div class=\"colab-df-buttons\">\n",
              "\n",
              "  <div class=\"colab-df-container\">\n",
              "    <button class=\"colab-df-convert\" onclick=\"convertToInteractive('df-eed81d9e-0bb4-4738-a9e1-1407d3c61433')\"\n",
              "            title=\"Convert this dataframe to an interactive table.\"\n",
              "            style=\"display:none;\">\n",
              "\n",
              "  <svg xmlns=\"http://www.w3.org/2000/svg\" height=\"24px\" viewBox=\"0 -960 960 960\">\n",
              "    <path d=\"M120-120v-720h720v720H120Zm60-500h600v-160H180v160Zm220 220h160v-160H400v160Zm0 220h160v-160H400v160ZM180-400h160v-160H180v160Zm440 0h160v-160H620v160ZM180-180h160v-160H180v160Zm440 0h160v-160H620v160Z\"/>\n",
              "  </svg>\n",
              "    </button>\n",
              "\n",
              "  <style>\n",
              "    .colab-df-container {\n",
              "      display:flex;\n",
              "      gap: 12px;\n",
              "    }\n",
              "\n",
              "    .colab-df-convert {\n",
              "      background-color: #E8F0FE;\n",
              "      border: none;\n",
              "      border-radius: 50%;\n",
              "      cursor: pointer;\n",
              "      display: none;\n",
              "      fill: #1967D2;\n",
              "      height: 32px;\n",
              "      padding: 0 0 0 0;\n",
              "      width: 32px;\n",
              "    }\n",
              "\n",
              "    .colab-df-convert:hover {\n",
              "      background-color: #E2EBFA;\n",
              "      box-shadow: 0px 1px 2px rgba(60, 64, 67, 0.3), 0px 1px 3px 1px rgba(60, 64, 67, 0.15);\n",
              "      fill: #174EA6;\n",
              "    }\n",
              "\n",
              "    .colab-df-buttons div {\n",
              "      margin-bottom: 4px;\n",
              "    }\n",
              "\n",
              "    [theme=dark] .colab-df-convert {\n",
              "      background-color: #3B4455;\n",
              "      fill: #D2E3FC;\n",
              "    }\n",
              "\n",
              "    [theme=dark] .colab-df-convert:hover {\n",
              "      background-color: #434B5C;\n",
              "      box-shadow: 0px 1px 3px 1px rgba(0, 0, 0, 0.15);\n",
              "      filter: drop-shadow(0px 1px 2px rgba(0, 0, 0, 0.3));\n",
              "      fill: #FFFFFF;\n",
              "    }\n",
              "  </style>\n",
              "\n",
              "    <script>\n",
              "      const buttonEl =\n",
              "        document.querySelector('#df-eed81d9e-0bb4-4738-a9e1-1407d3c61433 button.colab-df-convert');\n",
              "      buttonEl.style.display =\n",
              "        google.colab.kernel.accessAllowed ? 'block' : 'none';\n",
              "\n",
              "      async function convertToInteractive(key) {\n",
              "        const element = document.querySelector('#df-eed81d9e-0bb4-4738-a9e1-1407d3c61433');\n",
              "        const dataTable =\n",
              "          await google.colab.kernel.invokeFunction('convertToInteractive',\n",
              "                                                    [key], {});\n",
              "        if (!dataTable) return;\n",
              "\n",
              "        const docLinkHtml = 'Like what you see? Visit the ' +\n",
              "          '<a target=\"_blank\" href=https://colab.research.google.com/notebooks/data_table.ipynb>data table notebook</a>'\n",
              "          + ' to learn more about interactive tables.';\n",
              "        element.innerHTML = '';\n",
              "        dataTable['output_type'] = 'display_data';\n",
              "        await google.colab.output.renderOutput(dataTable, element);\n",
              "        const docLink = document.createElement('div');\n",
              "        docLink.innerHTML = docLinkHtml;\n",
              "        element.appendChild(docLink);\n",
              "      }\n",
              "    </script>\n",
              "  </div>\n",
              "\n",
              "\n",
              "    <div id=\"df-3c9f6c24-f230-421c-93b2-81753a120d8c\">\n",
              "      <button class=\"colab-df-quickchart\" onclick=\"quickchart('df-3c9f6c24-f230-421c-93b2-81753a120d8c')\"\n",
              "                title=\"Suggest charts\"\n",
              "                style=\"display:none;\">\n",
              "\n",
              "<svg xmlns=\"http://www.w3.org/2000/svg\" height=\"24px\"viewBox=\"0 0 24 24\"\n",
              "     width=\"24px\">\n",
              "    <g>\n",
              "        <path d=\"M19 3H5c-1.1 0-2 .9-2 2v14c0 1.1.9 2 2 2h14c1.1 0 2-.9 2-2V5c0-1.1-.9-2-2-2zM9 17H7v-7h2v7zm4 0h-2V7h2v10zm4 0h-2v-4h2v4z\"/>\n",
              "    </g>\n",
              "</svg>\n",
              "      </button>\n",
              "\n",
              "<style>\n",
              "  .colab-df-quickchart {\n",
              "      --bg-color: #E8F0FE;\n",
              "      --fill-color: #1967D2;\n",
              "      --hover-bg-color: #E2EBFA;\n",
              "      --hover-fill-color: #174EA6;\n",
              "      --disabled-fill-color: #AAA;\n",
              "      --disabled-bg-color: #DDD;\n",
              "  }\n",
              "\n",
              "  [theme=dark] .colab-df-quickchart {\n",
              "      --bg-color: #3B4455;\n",
              "      --fill-color: #D2E3FC;\n",
              "      --hover-bg-color: #434B5C;\n",
              "      --hover-fill-color: #FFFFFF;\n",
              "      --disabled-bg-color: #3B4455;\n",
              "      --disabled-fill-color: #666;\n",
              "  }\n",
              "\n",
              "  .colab-df-quickchart {\n",
              "    background-color: var(--bg-color);\n",
              "    border: none;\n",
              "    border-radius: 50%;\n",
              "    cursor: pointer;\n",
              "    display: none;\n",
              "    fill: var(--fill-color);\n",
              "    height: 32px;\n",
              "    padding: 0;\n",
              "    width: 32px;\n",
              "  }\n",
              "\n",
              "  .colab-df-quickchart:hover {\n",
              "    background-color: var(--hover-bg-color);\n",
              "    box-shadow: 0 1px 2px rgba(60, 64, 67, 0.3), 0 1px 3px 1px rgba(60, 64, 67, 0.15);\n",
              "    fill: var(--button-hover-fill-color);\n",
              "  }\n",
              "\n",
              "  .colab-df-quickchart-complete:disabled,\n",
              "  .colab-df-quickchart-complete:disabled:hover {\n",
              "    background-color: var(--disabled-bg-color);\n",
              "    fill: var(--disabled-fill-color);\n",
              "    box-shadow: none;\n",
              "  }\n",
              "\n",
              "  .colab-df-spinner {\n",
              "    border: 2px solid var(--fill-color);\n",
              "    border-color: transparent;\n",
              "    border-bottom-color: var(--fill-color);\n",
              "    animation:\n",
              "      spin 1s steps(1) infinite;\n",
              "  }\n",
              "\n",
              "  @keyframes spin {\n",
              "    0% {\n",
              "      border-color: transparent;\n",
              "      border-bottom-color: var(--fill-color);\n",
              "      border-left-color: var(--fill-color);\n",
              "    }\n",
              "    20% {\n",
              "      border-color: transparent;\n",
              "      border-left-color: var(--fill-color);\n",
              "      border-top-color: var(--fill-color);\n",
              "    }\n",
              "    30% {\n",
              "      border-color: transparent;\n",
              "      border-left-color: var(--fill-color);\n",
              "      border-top-color: var(--fill-color);\n",
              "      border-right-color: var(--fill-color);\n",
              "    }\n",
              "    40% {\n",
              "      border-color: transparent;\n",
              "      border-right-color: var(--fill-color);\n",
              "      border-top-color: var(--fill-color);\n",
              "    }\n",
              "    60% {\n",
              "      border-color: transparent;\n",
              "      border-right-color: var(--fill-color);\n",
              "    }\n",
              "    80% {\n",
              "      border-color: transparent;\n",
              "      border-right-color: var(--fill-color);\n",
              "      border-bottom-color: var(--fill-color);\n",
              "    }\n",
              "    90% {\n",
              "      border-color: transparent;\n",
              "      border-bottom-color: var(--fill-color);\n",
              "    }\n",
              "  }\n",
              "</style>\n",
              "\n",
              "      <script>\n",
              "        async function quickchart(key) {\n",
              "          const quickchartButtonEl =\n",
              "            document.querySelector('#' + key + ' button');\n",
              "          quickchartButtonEl.disabled = true;  // To prevent multiple clicks.\n",
              "          quickchartButtonEl.classList.add('colab-df-spinner');\n",
              "          try {\n",
              "            const charts = await google.colab.kernel.invokeFunction(\n",
              "                'suggestCharts', [key], {});\n",
              "          } catch (error) {\n",
              "            console.error('Error during call to suggestCharts:', error);\n",
              "          }\n",
              "          quickchartButtonEl.classList.remove('colab-df-spinner');\n",
              "          quickchartButtonEl.classList.add('colab-df-quickchart-complete');\n",
              "        }\n",
              "        (() => {\n",
              "          let quickchartButtonEl =\n",
              "            document.querySelector('#df-3c9f6c24-f230-421c-93b2-81753a120d8c button');\n",
              "          quickchartButtonEl.style.display =\n",
              "            google.colab.kernel.accessAllowed ? 'block' : 'none';\n",
              "        })();\n",
              "      </script>\n",
              "    </div>\n",
              "\n",
              "    </div>\n",
              "  </div>\n"
            ],
            "application/vnd.google.colaboratory.intrinsic+json": {
              "type": "dataframe",
              "variable_name": "df",
              "summary": "{\n  \"name\": \"df\",\n  \"rows\": 250,\n  \"fields\": [\n    {\n      \"column\": \"Date\",\n      \"properties\": {\n        \"dtype\": \"object\",\n        \"num_unique_values\": 250,\n        \"samples\": [\n          \"7/27/2016\",\n          \"1/12/2016\",\n          \"5/23/2016\"\n        ],\n        \"semantic_type\": \"\",\n        \"description\": \"\"\n      }\n    },\n    {\n      \"column\": \"DXY\",\n      \"properties\": {\n        \"dtype\": \"number\",\n        \"std\": 0.004754348650951777,\n        \"min\": -0.016010873,\n        \"max\": 0.020528152,\n        \"num_unique_values\": 249,\n        \"samples\": [\n          -0.002057582,\n          0.002430852,\n          -0.000839314\n        ],\n        \"semantic_type\": \"\",\n        \"description\": \"\"\n      }\n    },\n    {\n      \"column\": \"METALS\",\n      \"properties\": {\n        \"dtype\": \"number\",\n        \"std\": 0.030883594007664373,\n        \"min\": -0.093950277,\n        \"max\": 0.104277691,\n        \"num_unique_values\": 250,\n        \"samples\": [\n          0.044563068,\n          -0.034475056,\n          -0.003979447\n        ],\n        \"semantic_type\": \"\",\n        \"description\": \"\"\n      }\n    },\n    {\n      \"column\": \"OIL\",\n      \"properties\": {\n        \"dtype\": \"number\",\n        \"std\": 0.029692222233485117,\n        \"min\": -0.067111736,\n        \"max\": 0.123235406,\n        \"num_unique_values\": 216,\n        \"samples\": [\n          0.012981904,\n          0.00296846,\n          -0.027650728\n        ],\n        \"semantic_type\": \"\",\n        \"description\": \"\"\n      }\n    },\n    {\n      \"column\": \"US_STK\",\n      \"properties\": {\n        \"dtype\": \"number\",\n        \"std\": 0.008228037710657546,\n        \"min\": -0.035909121,\n        \"max\": 0.024377354,\n        \"num_unique_values\": 250,\n        \"samples\": [\n          -0.001061077,\n          0.008068631,\n          -0.00136249\n        ],\n        \"semantic_type\": \"\",\n        \"description\": \"\"\n      }\n    },\n    {\n      \"column\": \"INTL_STK\",\n      \"properties\": {\n        \"dtype\": \"number\",\n        \"std\": 0.01056619036478002,\n        \"min\": -0.070853549,\n        \"max\": 0.031032895,\n        \"num_unique_values\": 247,\n        \"samples\": [\n          0.01206447,\n          0.003982204,\n          -0.009838501\n        ],\n        \"semantic_type\": \"\",\n        \"description\": \"\"\n      }\n    },\n    {\n      \"column\": \"X13W_TB\",\n      \"properties\": {\n        \"dtype\": \"number\",\n        \"std\": 0.08174859158750669,\n        \"min\": -0.282511211,\n        \"max\": 0.473988439,\n        \"num_unique_values\": 210,\n        \"samples\": [\n          -0.017361111,\n          -0.036923077,\n          0.007462687\n        ],\n        \"semantic_type\": \"\",\n        \"description\": \"\"\n      }\n    },\n    {\n      \"column\": \"X10Y_TBY\",\n      \"properties\": {\n        \"dtype\": \"number\",\n        \"std\": 0.024636671634475388,\n        \"min\": -0.092006901,\n        \"max\": 0.112781955,\n        \"num_unique_values\": 249,\n        \"samples\": [\n          0.014120668,\n          -0.025949954,\n          -0.005949162\n        ],\n        \"semantic_type\": \"\",\n        \"description\": \"\"\n      }\n    },\n    {\n      \"column\": \"EURUSD\",\n      \"properties\": {\n        \"dtype\": \"number\",\n        \"std\": 0.005380133367432868,\n        \"min\": -0.025438008,\n        \"max\": 0.017844333,\n        \"num_unique_values\": 248,\n        \"samples\": [\n          0.001168213,\n          -0.007589772,\n          0.002596758\n        ],\n        \"semantic_type\": \"\",\n        \"description\": \"\"\n      }\n    },\n    {\n      \"column\": \"YEAR\",\n      \"properties\": {\n        \"dtype\": \"number\",\n        \"std\": 0,\n        \"min\": 2016,\n        \"max\": 2016,\n        \"num_unique_values\": 1,\n        \"samples\": [\n          2016\n        ],\n        \"semantic_type\": \"\",\n        \"description\": \"\"\n      }\n    }\n  ]\n}"
            }
          },
          "metadata": {},
          "execution_count": 2
        }
      ],
      "id": "-jSR8oO5XVID"
    },
    {
      "cell_type": "code",
      "execution_count": null,
      "id": "2349a852-654c-4ceb-aba3-409c7950d8d8",
      "metadata": {
        "id": "2349a852-654c-4ceb-aba3-409c7950d8d8",
        "editable": true,
        "deletable": true
      },
      "outputs": [],
      "source": [
        "# Libraries\n",
        "import matplotlib.pyplot as plt\n",
        "import numpy as np\n",
        "import pandas as pd\n",
        "import statsmodels.api as sm\n",
        "import statsmodels.formula.api as smf\n",
        "from statsmodels.graphics.regressionplots import abline_plot\n",
        "\n",
        "plt.rcParams[\"figure.figsize\"] = (16, 9)  # Figure size and width"
      ]
    },
    {
      "cell_type": "code",
      "execution_count": null,
      "id": "266cdff7-bc25-4120-b74e-78350efaab03",
      "metadata": {
        "id": "266cdff7-bc25-4120-b74e-78350efaab03",
        "editable": true,
        "deletable": true
      },
      "outputs": [],
      "source": [
        "# Import data\n",
        "data_set = pd.read_csv(\"M2. module_2_data.csv\")"
      ]
    },
    {
      "cell_type": "markdown",
      "id": "4pgyRwFQRKje",
      "metadata": {
        "id": "4pgyRwFQRKje",
        "editable": true,
        "deletable": true
      },
      "source": [
        "## **1. Problems of Extreme Points for Ordinary Least Square (OLS) Regression**"
      ]
    },
    {
      "cell_type": "markdown",
      "id": "wK0qKfc_RKZm",
      "metadata": {
        "id": "wK0qKfc_RKZm",
        "editable": true,
        "deletable": true
      },
      "source": [
        "**In many financial problems, it is common to have extreme points in the dataset for analysis**. These can come from **measurement error** by the person who records the measurements, incorrect data input, or simply an outlier. **Not all extreme points are bad data points**. In asset return analysis, abnormal returns show up every now and again. These **abnormal returns** are actually an interesting topic for a lot of researchers. Assume that, after cleaning up the dataset and removing all the bad data points, you still find extreme points in your dataset. What should you do?\n",
        "\n",
        "In Module 1, Lesson 1, we discussed the impact of extreme points (**outliers** and **leverage points**) on the estimation of an OLS (ordinary least square) regression model. We know that **not all extreme points have significant impacts on the OLS regression results**. The extreme points that we are worried about are **influential points**, which usually change OLS regression results. Let's first use graphs to demonstrate this issue."
      ]
    },
    {
      "cell_type": "markdown",
      "id": "HHYos68ARKMB",
      "metadata": {
        "id": "HHYos68ARKMB",
        "editable": true,
        "deletable": true
      },
      "source": [
        "**Figure 1: Impact of Outliers and Leverage Points on OLS Regression**\n",
        "\n",
        "![image.png](data:image/png;base64,iVBORw0KGgoAAAANSUhEUgAABWkAAAKwCAYAAADqe/22AAAgAElEQVR4nOzdTZAc53kg6DerAW+PhxYbIsiFdw/bit2NgU4q0uEYcEaOaYRlG3CELOAk8CTgZPJkQtYPSRFm0aBEipIN+gT6BOhE6ATIihjA4x9gQraJCYeJ1onwRmwAE7EbxFKAuylrhj0Gur49ZJdQnZVVXdVdVdnV9TwRFSAzqyq/zt+33nzz+yIAAAAAAAAAAAAAAAAAAAAAAAAAAAAAAAAAAAAAAAAAAAAAAAAAAAAAAAAAAAAAAAAAAAAAAAAAAAAAAAAAAAAAAAAAAAAAAAAAAAAAAAAAAAAAAAAAAAAAAAAAAAAAAAAAAAAAAAAAAAAAAAAAAAAAgMiqbgAAAAAwdvsjYt/afy9GxHKFbQEAAAAA2LJ6RDTWXscjYrba5vT0fESkttdSRMxX2iKAKber6gYAAABTYT4iDkVeubccEdcir96DQdUjYm6D91wbR0Pa1CPiRmHafOQJ2+3o3xb+fy4iDkTE7TEs27mASTEfEQtr/34m8uPkdkT813hYfT7IuWaY+/6+te9qb9tKRPzniLiyhe8FAABgh3s/1lfupWqbw4R6PTr3o26vGxHxbGyc0B2GYmVqioirY1juZl2NzvYeH9OynQvY7g5Ffv7o5zyzFP0fO8PY9/dFxJmI+HiDdt2KiCOb+H4AAAB2uFshMcPWlSU5Nnq9H3n/q6N0vGS5xcraUZiLh10stF79JKXLkrT1EbWxyLmgWpvdZ6bBbERcjMHPMSkiLsfGXYZsdd+f6/IdvRLIAAAAsI7EDMMwSIKi/fVxjDYJOVeyzHF0dXCsZLkLfXzu3cJnPhhVA0s4F1Rrs/vMTjcbncfFZs4zB3osY6v7ftnNlY1eTBB90jKIhYj4ejzsAH8xIk52eW+rP6M7Y2jXVpyJ/K53q2+ZFyPiQqUtAgAABvFq238/GvkjvsWKttmIeCUijo6oDcsR8cvxsGJ3OcbTJ+RmBifbF50J628PoS1Mhu08oF2VXojyBGur79j/EhHXI8+LfGbtvfsK752NiHci4tOR9w87TEeiM5m+HPn571rk+Yz62ut3Iz8XLQ+5DTDx6pEfSMXXJDoXG9+VeTbW941yI7bvoxP7oppHkmDSbOfz2L7Ynu0CoJPqOYah3/2o7LdLit5VbpOorJuFjeKhM4X3vxvjTdw5F1RrM/vMTrcvyvt4fTe65zPmonu/tc93+cxW9v2y/rh79YV7JPLEMxNEJe1oHIiI34u8s+leCcrrkd/1uDKORo3JK7H+Al+P/ORwvprm9FTWL9U4EsoHIn9MoX09PRMqeNleRnEeG9a+Pxv5DaGvR+fd65ZrkVeE7KTzKwDrzUZ+balHfq26GXkl0fUen5mLhxWEKxu8t2V/PLze3IzeT4ptpk0t++JhfHo9HlZh7Yv8h/js2rLPR3mFVvso5C2t9l7v8pmN2tL6O26vvcpsNLL5VtbJVpyIzvURa//fa9n7197TSuZej7y9N/tYZvv+dafLZ7pt54h8XS3Ew6cSF6N7NW7re/5Nybz2Ktnifj4b6xM7K5Gvq277R3H7RTzcp0ZdKdxrXc1Fvq7qbfO7xX3tN/Jb67Tb/tzPsucj7zKgdUwOui6GeaxGdG6jlcjXRbFNm91nNmsrx9KwjpN+nYnOGxXXIuJwdN8eyxHxdOS/b4o3f343It7aYpuKyrpr6fVb59KQlw8TZy7y0vZB+wi5HN0TDaM2SPVZP5W0ZX/fuEYJHdRClN8pG7WyO5fj6K+K9VRelhvleWwY+3498j7T+m2XEU0Bto9hVc/ti/y60+v8X3Z9mS1539UNlvV8yWfKrnebbVP759vf23q663h0Vne1V2jNRV4ptVE/rR9EfoNzI/MxeBxwtsfftJV10s0g+1HZAEDd9o1idWnx9XH0rkorq8Qrvr/bdu4Vf92K8uTMIPHQ622fK+7T3faL2bX39lrOjdjcgGz9bMPNrKviAHEHovtAc+9E9+rh4rIvt03vNqjUx5EXN3Qz7GO11Z5ex9j7hTZtdp8ZxLCOpWEdJ/3Y3+U7+/2+sj5+U5QfG1u5DpZV7R4b4PMwVeaje6l7P6+lGH8yodgp9uXeb+8rSVvW0faoR1LdrLIk7WYvRoOQpK3eoPv+tBj1eWyr+/6go5k6tgC2l2EkaQ9F/4mGd6OzirKsDb1G4y7GDGUjZW+1TbE2rZhwONLlO1rXttkuf0+vV7eEakSe0NrM9b8s0T2MddLNIPtR2ePBxeRQr0Re2ev9KE/eFLdhWRxStp3397H8j6OzsGCQbXSu7XPty7pY8ne09Jus38zvp3624WbX1VI8rD7fqO03ojxRW1x2q1JyaYPv+zjKC5SGfaxG5Mm5jdrTerV+j292n+nXqI6lrRwn/Xi25LsG6QZxNsrPd2UJ1K1cB8uOya0kp2FH65XYWIr8xH41ep9IP4hq+wLaqJKgnyTt/shPHq2/dzvf2SneRf44xpNQlqSt3qD7/rQY9Xlsq/t+WeXCx5HfrW+svc4W2ufYAtg+tpqkrZd8vnXt6TYidzEJdbbkPd2q1srGLygmLobRpojOpMRSdL/etq5tm02qliUxut0Ifb9HO1qvd0a0TrrZaiVt+w3l/VHeD+VGr/ejM97ZTJK213YuvopJo0Ha3Z7we3atXa0uNMqUVZC3YsHiNtxMMm8zSdpB11W/66bs92px2R/EYOu7+JtymMdqRH6MDdKe1vdsdp/pxyiPpa0cJ/0ou5nTbzVzS1kC9UzJ+7ZyHXyh5LOt9dOI7TsWEIxdt/L2c1F+V7jXYwllB/KojCJJO0mKf/84qmgjJGm3A0naTuM4j2113y8GZ0td2tZa1q3Yvt2tAEyjrSZpiwm3pVifxJiN8iRs+3vKnqTq9kRNWXVV8XHmYbQpojzBV/ze1vprXdvak6HvR35NXYiHP9TrJe1L0ZlUjehMyn0Q6/tYPBKdlWLPry2v2P3DsNZJN/3uR90GAmpvb9n6uRH5Ol6IfHt3e3S7ODDQZpK0xdfVyH+TdKsYbN//jq99f9nfcC4e3sBuxOCVdldL2lVMAB2L/NjpNkBSL5tJ0hZfFyPfjzaq2P448n3+XHQfGGqQZX+8ttxG9B8LD/NYjS7LvREPj8kXYv02bB1bo9xnRn0sbfY42WzbBy02K/vbym5gbOU6uC967++tfXOQJxNgx+lW2t7PHcWypOfHMb6DajsmaedjuHeA6lFeHVt8fKzboy5FxQ7qN2OYSdq56H9/ORDDrdSei62Pjtvq4H5Y2gf26GVcSdphrKMyszHc88S4zmNb2ffLqnK6Ba4AbE9b+XFadh3o1sVOsYqumIQtXvM+jvL4s5gIWYrOAXKH1aZeSYn2BMb+Qhte6LHMiPLHrMuSUsUqsLL+IouJ1bLk9jDXSTf97EdzUZ7I+qDtPWUJ+xtRvi+UxTDFp4e2kqRdivW/WWajM1HabbuUtW2rYy4Ub4xvJhHby1aStLdifZw5H90TV8XteajkPR9vYdkR+TYu257F313DOlbLukEpDszbcijK9+lh7zPjOJa2epz0UlZ5Pej6KNsPyp4Q2OrNyn668UiRJ41V1jKVyg7GfkvsZ6O8bL/s0YLn4+EBvRS9K26PxcO7Sh/H+pNDa3T1q9F5J7H9cear0XlS6SdJe6zwHRslUeYi/3uL7fk4Ht4h65VYPBYPL8rtfdq0Ty+7wLWfzDfq5uB4lD+atRT5Ohk0ydhvoqrb37Yv8vVSvJhcLGnLgegMUN+PfJ33u15vxMNgZC7yfa8YCL0f/fWpfCzyfaJbIHW5z+9p2bf2fcXt07pj3n5x3cq+P4hnS9rTCj6uxsZBQ6/t3ih8d6vdW00Ej+s8tpUkbVmlr76EASbLVn6cFquUPujx3uJ17f3C/LIqzmLV1Fx0xgvFm5fDbFO3pMQwkmNlla1FxYq0stiimOC6VfKeYa6Tbsr2o/YKwF6xZnuFXdlvm15xaFl81x57bzZJuxTlvyfKHpEv+w04iiRtWaw/zIGuN5uk7bauyqoYuyUJy5L3xb+tbNkfRPciibK/ZzPboJ9jtez8NWjl6LD3mXEcS1s9Tnopq7AetCCmbJ2W/VYZRt/sR6K/7h9affnCVCkrsR8kmCo7yZYdzMU7RGVBUUuvZGpZMqbXq/3k1E+SdpBq234HFOg1amhxeceje18tLcU7/N2212z0159R2d3XXvpNVJX9bRt1EN/eWXq39dC+XrtdfIrLXlh7bbS9uiUgD/Tx2fbXu7Fx1e/xDdZFsU1b2ff7sT+697NW9vcNsk/3s90H7Tep3bjOY1tJ0pYFYB/HaCqVARiNrfw4LSZWej0FU3a9aY8ryqq+ignYspuDxUTIMNtUlpQY1pM+/cTnxb+l7Ppc/BvKrvXDXCfdDDoAU+tVvIFcjNt6JZQjyvtpbU9EbTZJ2y0W6qdP5IjRJGm7VSE3YjjJ2s0mabutq7J10K3Lq7L+R4tx/yDLjujvxk8/+jlWi3mBjfbbMsPeZ6o4llr6PU56KUvSDvobo+y3d1nRyjCStBH5312235Udt8O8wcKI1apuwA5QPKGvRMT5AT7/vT6+c5hWRvjdgzge+cW/nxNGPfITfz/v/a3YuG/Z/RFxbe31RkS81eV970R/VbLDfvS8my9G3qZejy3Mrr3n9dh4PdSj/7uMX4r+ttfrUZ7c+70+PtvuQPSuOH0h8otvP49w/Nbav6Pc949FnvTu92J+YO39/exf/W73s31+X5lJOI/dLJnWesTp+RjvoIsAjF/xulKWaO31A709DrkWEXcK84/E+mvJbxXmL699blRtKvOfN5hf/K5n15ZTfHKon/7Zi9fZL8X6G8r7IuLrG3wmYvTrZDNWIo/5TxamF9ta3CeKyv7eUVapbdSeUfp2ybR9EfFK5Emfsif4JsX/GMF3/mPJtG6x8FaP1eI+V+V+0lLlsTSMv7/sOwbtKuB/LplWtl8My52IeC4iPhURb0f337r7YrzjHrFFkrRbMx+diYE7kQdx/So7IYwy4Xd9gPfeXnsN21x0JhDvRMSJiDi49nqj5DPFwLBMtzuW7SetC23LebHL++vR+YjGpbbPHYyIV+Ph+hlkm29Wv4+x7Iv+++E5Ev0FWMXRXxej+wXx69F5XBQD7guRr79nIg+YL3T5nrKLYytALLoTD5PvZfvtqPb92cgvfMW/+Wbkf9cb0fmjrvW5fgarG+TxpS8N8N6WSTmPLUfElZLprfV/K/Jkrb6XAHamrSbDij9gLxX+v70f+dkojwOL3zHsNm3GXOQJsw8iv2HbGqRnIQa7gfmnhfbMR/6kzY3Ik0jvx/q/dyXKb9Juh3XSshz5TedPRR7zt3/3XHTGpxvFPmVt+9823brt7Vp0JrXbHYl83yiLgadR2b5TXC/DOFZnY/D9dtR2wrFU1p5BbxiV/QYZRS6lbBntydoyx8JxOjEkabemLAgZ9EAse3/ZyXdYrkVEtvYqLrt9Xhb5gT4Kr8T6v28lIp6OPIhqJdlejDyJ1+7Z6D/wW448sDgYDxOBgygmLlfWvuda26sR+Tp6OsZ7cVyMiMORb6M9a//fzbXI29fanmX72yBJwMWI+HREPBkRvxz5OinaV/KdP1hb9sm1Nj8T+fq7EHkl8zPRWdE8G+XbuywYvBD539dKoH8q8qT/nXj4N49q3389Oo/XK5Gvo2ci35cPRr7NigHAoei/D97FiDja1sayCvDNPFY1SeexE9H9WGvdJb4V+U0KgQgAEQ+fDineUPx+yXu/uPbvgej8wV32/mG3aVBzkSdQB+nPv5vWzeWieqwfhb7l1egdgw5qq+ukvZCiFfvuiYfx4Kj8fyP87qq9Ffm6LN7QaPd8qNLrpj1mHdaxupPj2yqPpbLK3s8M8PnZKP9NPY4kbUursva5LvP1TTshJGm3pqxSbDNBwLiraas0G519Z74d5Sew4p2g2eiv6nMl8gDtrciTbxdKvmsjxUC0V5cGg1RobtVi5H9bq6JwOfLgs8yVyBODrfbdjvLK4bJHM3otu/0i1qoULSpWdL4VeeLzreieZCv78VO8mMxFZyKyVYVdTIC2KicGTdAPYi469+c7kSdTi+25EuXrv5/q19a6bw+ST0ZnQLGZpOgkncfuRL4eerWvVanfPugaAJNvoxus3V7/KspjpbIuD1o/sr9YmF7W1cEo2jSoM9F5rbsUeRzyy23L66cLo4Xo71Hr25G3vSz+a81vN6510l5I0U9svhydMelGcVRZXFOW3NlJrke+P3068t9TZXH8IIU0O1XZvtF+LAzrWN3MfjtqO+FY+i8l0wapPj0UnX/zSlTzN3XLrezU/NKOI0m7NaM8IVb92MKolD1a3a2/rbJHrvsJAIZxZ7/shHo1+gteR+lgdK6Txeg8EfdKFBb1+3j40ZJlR5QnVzdzEegnyVf2veej+6NxKzHaY2l/lFf1dmtPWVv7WVdl2z2i/AfjoOt+0s5ji5FXKZdV+7Sbj7wv660OnAHA9lCMdYbxg7NYITgfeSKlWBFV1tXBqNo0iGJf+Fcij9cuxeA3XNv7h12JPCn3XORx9atr/916WqlXIqnqdTKIYrw/H73jon/bx3dsF8Pu/ulm5PvAL0f574lpuDHe63H8Yh/WEeuPhWEeq2XH2DDi+a3sM5N+LJX9pip7OrTMbJR3y9irn9hRK9unxlnVyxZI0m5N2c6/mRNk2We26wV/q8qSrK/Ew07Ti69iAqyfvmq63dkfxPXo3L77Ig9gP4jyR9zHod+k10qUXxS2kjTrdmJfLFnWRuvmQOTJs0bb6/f6aEPZ/jPKDtk3UvbD48c93r8cm/vx0m27DeOxoEk8j92JvCuJjZK1s5Efszv50TCAaVF2/dxqYqjsRvMr0Xlt7tbVwSja1K+56IyLyqrBIja+Ds7H+r95JfK/7e14GKe9HeWJjKIq18mgim2dje4FGftK5rXWU9XKYrn/MKJlrUR5xfN2TsYPy/HIj4WiA9GZhG3fN4Z5rEaU77fFJ/va55X9bh32PjPpx9L1KC/yOhe9Cz5mI+9nuGz7lw2+txVzkQ/kvVHiuOycuxzD7Z6GEZKk3ZqyJNigF6jtVuo/amV/b6uvq7JXVcmV5ciTQN06EX8h8r4vXw8JoIjyhHbRvsjX163IKxyvRv5DqPV6vo/lbPQo0bhtpj/X4rqai2oHu5rk89hi5Mdpr6qe+ehv3wKgGo0er/bEQ1mi9Gz0fsqqvvY93W4+9uryoKVbVwejalO/lqPzGv6Fkvc9G4P3WT8XeazWvh1asXkxGVFU5ToZ1J+UTHslOveBVnKkGPO/GNvj6cduY0604st9Mfi6vRzdk2xl23JaEkCvxPrxMRYiT9IVtXcNMexjtWzAvleic3u1Bnd7ITr36WHvMzvhWCr7G1rtfT3W981dj3x7dUuafjsGq5Du5zrYesrjcuTn5+LA3hEP98fi9Gk5PneEXVU3YMKVndzmIj8o+i1tH8agPZNkq8mobncdR6E16Na5KK8AmI38oncgygeFmmZlj/Rfja3fZf83fSxrnPrtz3cjVf4NO+E81uof7/tRHpgM0vE/AOP1ygbzb0Yek12J/NHg9oF3DkSehLge67vP+szavFaS4XZ0v5l3KdYng4vXkG5dHcQI29Svm7E+Rq1HxDuRD9g6G/kj2P0kfW6vfVf79bwevStgWwP9Fvt/rXqdDOJ6dLZ1NvIkyJ3I18lslCem78TgY16Myu3I99H2fXd/RCy1/f/b0X1AoaL5yJNBhyJPTl2K/Mm125FXW5Ylb8c5RkfVno+NCwCKidRhHasR+fZYjM7j89zaq3gslxn2PrMTjqXzUb5/t37zv9Dn99yOwZ/s7ec62K5Vvd3qpuZ6dL+BthL9b0e2AUnarbkenSe3uchPThv1l9jyuyXT+qlAq7qD8M0qu6N0Mvq7u1NFmX6r/8sjkW+rsjtlC5GftMsef5kWxeT77cK8sgTtzXhYbXF97X3vbLCcsq4N5qO6wPC/lkzb6EZE2eNGVSZpqzyPDduVyO9cFwOdaR/MAmCnOBl5LNZ+zZqNh1Wem/H96P6ocGv+uNvUrz+J9X3JRuSJnrJkT/FaX3Q4BruhvhB5Ndcz0RkvVLlOBnUy1lfItfSqJFxZ+9x2KdBYiTzJ1StxOMiTf+0Vjfui9/ERsT2qIMdho2Oo5e3o/M06zGM1Il/nl7vMK4t7i/vqsPeZiJ1xLJ2Mh7+DNuNmjK54q1dlbq8nHJ6Jnf2k9o6ju4OtWYnypGE/o7VHdO+MumwgrbJ+Xob9iPQ4Htsvq667E+tHZO32qrJM/1LkJ9xPRXniquyRlWkxH72TtAeiM+B/NfIBKVqPcVyJ/hKtoxqpcrP7fll7eiUEZ6MzSKn6ojnO89g4lD2SOuiADACMxlafsrgdefxQNnBRN92ucy1lXR609OrqYJRt6tf52LgC7U7kMexG18L9sbkikHPRGYtVuU4GNWhbr0d/A5iO20aPVw+SNFqO/gsg3o7hjAcyCd6KjSu934jyqsVhHqsR+f76dPT3O6JV3V40zH0mYmccS8uRD+j2agx242El8v3j6dj4OrfZ6+DNtXb1u10WI9+fyrY925hK2q37fnTeuViIvEy+10m8W38sd6L8xFZ2Aq1HZ+B4KPp/VKJ44hlHp/5lJ6V/G9vr5NzL7cjvRu2L9ZUA23VAhGE6F+UDBZQ98tRrNNOIzQdzZfvPl3p832zkPxyKAcyw9v2y9nyxR3uORWdCu+okbcT4zmNb0dpGG/2Am+Z+0gC2u5ORDxTa7w3Wsqeobkf+w/NI5DHAXHRWZ95c+9yfR/4DdaMf28+stat4jf7T6O8H8TDadCfyeLg9UdrPtfS5yK/jvxfrq9haBQ6tRMyFeHitL8Ye+6Ozu6AXY308MxsPH3/fX5i+EJ3xwii2U8u3I4+3Wrb6RFUrOXYs8sfO52N9W6+ttfXH0TvR1s82HHQ7vx3r1/cPeiz705GPMt/ed3DrRsOggxgdjDwO/GLkMVj7sbEYD/etzcax/WzDQdZVq0uU1j680uU7I/J9rX2QrOXoLzH6PyL/LfTnka/nVmx6e21Z34/eCbFhHKvtWknOZ+PhftvaV1pFUL3aNOx9pvWd4zqW2vV7nPSrEXnS9Xjk3du1io6KAyxeibww5UL0XxSyletgaxDH45Hvw8UxfBbX2vGnITnLFJuNiI8jIpW8unW2Xo+8X6ayz3R7nOT5kvdejfUXzGM92lLmYsn7epXKn+vjezd6z1xEfFCY/3H09zhy2YmsnzZtRj16r4szhWXeGuC7j0dnm8u6Shjkb7s1QHuK31l89Kbbslvvbb8QHIryfa79EZHiukpRvr0bJe8rrpfZ6Nx/UuQ/GIpax9mNknmD7vvddGtP2bE/H53bKUV5f1L9bveydbaZyuJxncf63ffLXF57/zvRPane6kur1/4IAKxXjIu6PUYdkV9TN3sth0kxH/ZzgIlVlnhof70beeLlcnRPhGwUENW7fOZW5MnasuTPRkmesuRZKxF3du072xNyw0jSRuQJnOJ7Po68X9fWXcX9a//9bORJmY8j4v1NLm8zzq5919XIt2/7Xbzj0bkdN+pLtd0kJ2lT5Emwc5Gvm7L5xaTosZL3vBMPE7X74+H67me9lN2waC339bXPvLvBuhh03++lbH9ufdezkf+YaUR5MvdsyfdVkaSNGM95bKNldFuPEeu3afu5r9VlxuUun38/xtOVCwBMqmIcWRYbtpQlad0MZaeRpAWYcL2SWv283o2N+5gtJim6vcoStmXKgqxeCZ9hJWkjulfgbfR3bXZ5gxpke34cgw2CMOlJ2o1exUB9Pnon9Xq9ytZLt+rVQfabQff9jWxmf16K8r7fqkrSdlv2IK+NzmObSdK2tl+3mwIbrWODhgFAb8U4Zinym+zFm5wLUf47Y9jjZEDVJGmBShg4bHhORN6R82ZciLzfn436Yepn5Mzba9/Vj0sx/H4j+3V0E8se5+A//zjAe0/GxoNK7AQbdXYfke+jxf5vbkd5B/pFd/pcxkrkfR312wdWWX88w973Dw/4fdcj7wNquw1oNerz2FZG/v3egO+/E0YzBYB+FGOYuXj4JFvryZUP1v4t3gw+GVu7vgMAjMx85NVoG1XWLUXvvhW72R/547vF7/sg8ke9W3ey2+9yL/X4vrnoXj13tfDeYtXeByXf18972h2LjasiW4/X99OP6UbL69dcdH9EvX39DFJB27IQnZWlZX14DvK3FasMi9uuXbEC4kzJe7pVcx6P8j4/P4iNB6w7EuX7bor8UfW56OwaoVvfphF5dUevys/3N/j8IPt+v8q6wiiupxc2+I5BtnuxMrVbde6gRnUem+3jO4uv9q5E6mvtKtsH29fX86GLAwDo12x07zao16us2ybYCVTSApXIqm7AFGiNAliPvALwZvQebbJfc2vfuT8ejpK4FftifRK0bDTdUTsQ+d91IPK/507kVZi3x9yOov2Rr5+FeNieKtbPOJ2LzgGj2s8XrRFAW6O7DlIR2hqFcv/aZ4dRhbw/8uPsQOTH1u3o/5gYxb4/u9aW1ndfj3wdTeo+M6rz2Fa0RhquR77Nbsf2OF8AwCSajTz2+73YuKug85GP/O5pFXaqfdFZKPFqSNQCIyZJC5TZKEkLAMDO1LoR2vrv1s3QOyExy/Sox8OxNhYj7xZkpbrmAADTalQDsgEAAABQYOAwAAAAAIAKSdICAAAAAFRIkhYAAAAAoEK7qm4AsC19L/IBI1qDRlyvsC0AAAAAAAAAAAAAAAAAAAAAAAAAAAAAAAAAAAAAAAAAAAAAAAAAAAAAAAAAAAAAAAAAAAAAAAAAAAAAAAAAAAAAAAAAAAAAAAAAAAAAAAAAAAAAAAAAAAAAAAAAAAAAAAAAAAAAAAAAAAAAAAAAAAAAAAAAAAAAAAAAAAAAAAAAAAAAAAAAAAAAAAAAAAAAAAAAAA4iJloAACAASURBVAAAAAAAAAAAAAAAAAAAAAAAAAAAAAAAAAAAAAAAAAAAAAAAAAAAAAAAAAAAAAAAAAAAAAAAAAAAAAAAAAAAAAAAAAAAAAAAAAAAAAAAAAAAAAAAAAAAAAAAAAAAAAAAAAAAAAAAAAAAAAAAAAAAAAAAAAAAAAAAAAAAAAAAAAAAAAAAAAAAAAAAAAAAAAAAAAAAAAAAAAAAAAAAAAAAAAAAAAAAAADAIOaqbgAAAAAAwLSajYgba/8CAADbhEoKAIDp8XxEpLV/AQCAbUAlBQDA9JiNiA8iT9J+EGJAAADYFlRSAABMj1bs13qJAQEAoGIqKQAApkd77Nd6iQEBAKBiKikAAKZHMfYTAwIAQMVUUgAATI+y2E8MCAAAFVNJAQAwPbrFfmJAAACoiEoKAIDp0Sv2EwMCAEBFVFIAAEyPjWI/MSAAAIyZSgoAgOnRT+wnBgQAgDFTSQEAMD36jf3EgAAAMCYqKQAAiMjjPQAAoAIqKQAAiJCkBQCAbUeQDgAwXcR/AAAwIrWqGwAAAAAAMM0kaQEAAAAAKiRJCwAAAABQIUlaAAAAAIAKSdICAAAAAFRIkhYAAAAAoEKStAAAAAAAFZKkBQAAAACokCQtAAAAAECFJGkBAAAAACokSQsAAAAAUCFJWgAAAACACknSAgAAAABUSJIWAAAAAKBCkrQAAAAAABWSpAUAAAAAqJAkLQAAAABAhSRpAQAAAAAqJEkLAAAAAFAhSVoAAAAAgArtqroBUIX/Z+7/rM/sSnMrjzy4/qnbt1eqbg8AAAAA0yvb5OfSFj4Llbnzyf/jQEpxLrLY35qWZfHGx7/04FXJWgDoSfwHAAAjopKWqfHh4/P7mqtxObKYa5+eUrzwr/55V0TEi9W0DAAAAIBppk9apkZzddfXU6xP0LakFC/cmpsvnQcAAAAAoyRJy9Ropqj3mv+varv295oPAAAAAKMgScvUqEUs95rfzGo95wMAAADAKEjSMjVWI32/68wUN/+Xe//XzTE2BwAAAAAiQpKWKfK/Lv3fF7LILhSnZxHLWRYnqmgTAAAAAGSb/FzawmehUv/vnv/92ExkX2xGzNVqcb1We/AnT/zk9p2q2wUA25z4DwAAtplUdQMAABgr8R8AAIyI7g4AAAAAACokSQsAAAAAUCFJWgAAAACACknSAgAAAABUSJIWAAAAAKBCkrQAAAAAABWSpAUAAAAAqJAkLQAAAABAhSRpAQAAAAAqJEkLAAAAAFAhSVoAAAAAgApJ0gIAAAAAVEiSFgAAAACgQpK0AAAAAAAVkqQFAAAAAKiQJC0AAAAAQIUkaQEAAAAAKiRJCwAAAABQIUlaAAAAAIAKSdICAAAAAFRIkhYAAAAAoEKStAAAAAAAFZKkBQAAAACokCQtAAAAAECFJGkBAAAAACokSQsAAAAAUCFJWgAAAACACknSAgAAAABUSJIWAAAAAKBCkrQAAAAAABWSpAUAAAAAqJAkLQAAAABAhSRpAQAAAAAqJEkLwM992PjVfVW3AQAAAKaNJC0AERFxt/Er+2v3H7z7T9/4zNmq2wIAAADTRJIWgLj3jacOxIPmu1kt5lOt9uy9P3iqUXWbAAAAYFpkm/xc2sJnAdhG7r5cP5JFeiey2mz79GZKBx9/bfFaVe0Cth3xHwAAjIhKWoAp9pNTTz6bZdnFYoI2RbwhQQsAAADjsavqBgBQjbunnnw9i3ihOL0Z8dzjp2+8XUWbAAAAYBpJ0gJMmVuNhdlPrP70bEQ6vm5Gaq6kyJ55/LXFSxU1DQAAAKaSPmkBpshSoz73YDW9U4vaofbpKcVylrLDj33zvetVtQ3Y9sR/AAAwIippAabEh41f3dd88OByLcvq7dNTM27H7trhxxr/cLOqtgEAAMA0M3AYwBS42/iV/bX7D96NLNYlaCPFYnP3rqf3StACAABAZSRpAXa4D1+q1+NB892sFvPt05vRvFLblQ4+0fj7O1W1DQAAAJCkBdjR7r381KGZWno3y2Ju/Zzs/M9m9hzd01hcrqZlAAAAQIs+aQF2qLun6scj0rni/bgU8cbe0++9WFGzAAAAgAKVtAA70L0/eKqRRXauOL0Z8dze0zckaAEAAGAbUUkLsMPcO/XUuUjp+LqJqbmSInvm8dcWL1XULAAAAKALSVqAHeJWY2H2kdWlixHpUPv0lGI5RXb08dcWr1XVNgAAAKC7bJOfS1v4LABDttSozzUfZFcji3r79NSM282Ujj7xrcXFqtoG7BjiPwAAGBF90gJMuKVGfX71fnajmKCNFIszu9NBCVoAAADY3lTSAkywD1+q12u17GqWxVz79CziWjaTju5pLC5X1TZgxxH/AQDAiKikBZhQ915+6tBMLb3bmaBtXvho5tHDErQAAAAwGQwcBjCB7p6qH49I5zrvtaW3Pnn6xycraRQAAACwKSppASbMvT94qpFFdq5zTjr52OlFCVoAAACYMCppASbIvVNPnYuUjq+bmJorzax24vHTixcqahYAAACwBZK0ABPgVmNh9pHVpYsR6VD79JRiOUV29PHTN65V1TYAAABgazY7Qq/RfQHGZKlRn2s20+VItQPt01MzbjdTOvrEtxYXq2obMFXEfwAAMCKStADb2FKjPt9cTZcjavvXz2nerM1kh/c0Fm9X0zJgCon/AABgRAwcBrBNffhSvd58kN7tSNBmzeu1mexpCVoAAADYGSRpAbahey8/dahWy65GVtvXPj2L7NJPa3sO7mksLlfVNgAAAGC4DBwGsM3cPVU/Hmn1bJbVZtunZ83m25/85o+fq6pdAAAAwGiopAXYRu6eevKFLLJzUUjQpogXJWgBAABgZ1JJC7BN/NM3PnM2RTy7bmJqrqQse27v6cXzFTULAAAAGLHNjtBrdF+AIbnVWJh9dPWn76RIR9qnpxTLWWTPPPbae1eqahtAG/EfAACMiCQtQIWWGvW5ZjNdjlQ7sG5Gat5ZbWaHn/jW4mJFTQMoEv8BAMCI6JMWoCJLjfp8czW925GgjebN2q7saQlaAAAAmA6StAAV+PCler35IL0bUdu/bkbWvF6byZ7e01i8XVHTAAAAgDGTpAUYs3svP3WoVsuuRlbb1z49i+zST2t7Du5pLC5X1TYAAABg/HZV3QCAafKTU08ei7R6Lstqs+vnZOc/efq9E9W0CgAAAKiSSlqAMbl3qv58LeKdKCZos+zVxyRoAQAAYGqppAUYg3un6mcisueL01OkE3v/8Mb5KtoEAAAAbA+StAAjdKuxMPvo6tK5FNmxdTNScyVi5uje125cqahpAAAAwDaRbfJzaQufBZgKS436XFrNLqaIhfbpKcVys5kOPvGtxcWq2gawCeI/gKodOTMX8aAel756reqmADBckrQAI7DUqM83H2QXI4t6+/TUjNszu9PBPY3F21W1DWCTxH8AVfntN/fF7uxcRBx6ODF7Oz762cm41liprF0ADI3uDgCG7MOX6vXV+9nFrBbz62akWFxL0C5X1DQAACbNQmM2dmWXI9bf/I9Iz8ajj8xGhAFoAXYAlbQAQ/STl+sLWWQXsyzm2qc3o3nlZzN7jn6qcW3rlQ4Ljdl49JFXIppHIrL5aKbrkcW348++pn9bYJTEfwBVOPLm8UjZua7zm9mn44dfuTnGFgEwArWqGwCwU/zk1JPHapEuFxO0Edn5x0//+PBQErQREY/+4tWI9EJEtj8iZqOWLUSWXY4jbx4fyvcDALB9NLPP9JyfpXrP+QBMBElagCG4d6r+fC3inchqs+tmZNmrj51+b3iPoP3Ot5+NyA6UzmvGmXwwCQAAdoxafNR7flOftAA7gCQtwBbdO1U/E5GdKU5PkU489ofvNYa6sCz+Q/d5WT7aLwAAO8dqs3uXViktR/zCtTG2BoARkaQF2KRbjYXZfzr1mXcisufXzUjNlZTS0b2nF88Pf6nZbM/ZzdR7PgAAk+WHX78ekb1RPjN7Li6dNCgtwA4gSQuwCUuN+tyjqx9dTlE71j49pViONHNw72uLl0ay4Cz7zz3mrkRt9/WRLBcAgOr84CsvRkqHI+JKNNO1iOaFaDafjj/76oWqmwbAcGx2hF6j+wJT68PGr+6befDgcmSxrmuB1Izbsbt2eG/jH0Y3uu5CYzYe/cUba4OGFaQX4wdf61JlAbBl4j8AABgRlbQAA7jb+JX9tfsP3i0maCPFYnP3rqdHmqCNiLjWWIls99MR2dsPl53djiydkKAFAACAyaSSFqBP977x1IGUpctZFnPt05vRvLJrJntmT2NRf2DATib+AwCAEVFJC9CHuy/Xj0S2erWYoI3Izv9sZs9RCVoAAABgs3ZV3QCA7e4np558Nos4WywgSxFv7D393osVNQsAAADYISRpAXq4e+rJ17OIF4rTmxHPPX76xttlnwEAAAAYhCQtQIlbjYXZT6z+9GxEOr5uRmqupMieefy1xUsVNQ0AAADYYQwcBlCw1KjPPVhN79Sidqh9ekqxnKXs8GPffO96VW0DqJD4DwAARkQlLUCbDxu/uq/54MHlWpbV26enZtyO3bXDjzX+4WZVbQMAAAB2plrVDQDYLu42fmV/7f6DdyOLdQnaSLE4szsd3CtBCwAAAIyA7g4AIuLeN546kLJ0Octirn16FnEtm0lH9zQWl6tqG8A2If4DAIARUUkLTL27L9ePRLZ6tTNB27zw0cyjhyVoAQBgsnzuKz9aqLoNAINQSQtMtZ+cevLZWsTZzjnprcdOL54cf4sAti3xHwDb3sLzV+dm4hfOZLV0PEvx3F+c+ezbVbcJoB8qaYGpde8Pnmp0SdCelKDdWVRSAADsfL9+8keHdmW7389q6XhERIo485u//3f7q24XQD9U0gJT6d6pp85F5MHbz6XmSjOrnXj89I0LFTWLIVNJAUMl/gNgW2qP+Tpmprj2l2c+e7CCZgEMRJIWmCq3Gguzj6wuXaxF7VD79JRiOUU6+vhri9eqahvD9esnf3Qoi+xcZLEvIiJSrNRqtSf/0x/9u5sVNw0mlfgPgG2nI+ZrkyKuz2S1E+I/YBLsqroBAOOy1KjPNR98dDWyWr19emrG7WZKR5/41uJiVW1jeH5eSZEVKimymG02m2cjQiUFAMCE6xrzRUSkWIlIr/7VmV97o4KmAWyKJC0wFZYa9fnV+9nVrBbz62akWJzZnY7ubSzerqhpDNHDSopUXklRqz1XRbsAABieXjFfM6WbM6n2zF+89VkFGMBE0d0BsON9+FK9XqtlV7Ms5tqnZxHXspl0dE9jcbmqtjEcG/RDthKRXv1LlRSwVeI/ACrVM+aLiGYWbzR/6f6r1xoHV8bdNoCtUkkL7Gj3Xn7qUMTqxciy2fbpWTQvfDSz58SnGtcEcBNOJQUAwM63UcxXy7ITf/1Hn71eRdsAhkGSFtix7p6qH49I5yJq66Znzebbn/zmjz32PuF69kMWa5UUn3jw6l+rpAAAmFhiPmBaSNICO9K9P3iqESm9UpyeIl587Js/9tj7hFNJAQCw833uy39zoJnSuSxL+4vzxHzATqNPWmDHuXfqqXMRhTvtqbmSsuy5vacXz1fULIZAP2RQKfEfAGOx0Lg6W/vn3a/UUrxQNl/MB+xEkrTAjnGrsTD7yOrSxVrUDrVPTymWs8ieeey1965U1Ta2rlVJUcuyrpUUf/nHKilghMR/AIycmA+YVpK0wI6w1KjPNR9kVyOL+roZqXlntZkdfuJbiwaOmlAqKWDbEP8BMDJiPmDaSdICE2+pUZ9fvZ9dzWoxv35O82ZtJju8p7F4u5qWsVUqKWBbEf8BMBJiPgBJWmDCffhSvT5TS5cjq60fQCprXq/VssN7GovLFTWNLVBJAduS+A+Aodoo5ouItx584v6LYj5gGkjSAhPr3stPHUqR3smymGufnkV26aOZTzzzqcY1wdwEUkkB25b4D4Ch6RXzRYo7KdKJvzrza8aUAKaGJC0wke6eqh/PUjobWW22fXrWbL79yW/++Lmq2sXmqaSAbU/8B8CWbRTzpWZ2fjX+5eS1tw56Ig6YKpK0wMS5e+rJF7KI14vTU8SLe0/feKOKNrE1KilgIoj/ANgSMR9Ad7uqbgDAIP7pG585myKeLU5PkU7sPb14voo2sXmtSopI8UIt68z9qKQAANgZPvflHzUi4hUxH0A5lbTARLjVWJh9dPWn76RIR9bNSM2ViJmjj732njvuE0YlBUwc8R8AA/vN3/+7/aupeS6LONAxU8wH8HOStMC2t9SozzWb6XKk2rrALqVYbjbTwSe+tbhYVdvYnLySInulbJ5KCti2xH9Auc9/d3/Umq9HqtUja96JqF2Lj372alxr6Ed+yn3u5I9eiMheiSxmi/PEfADrSdIC29pSoz7fXE2XI2rrqi1TM27P7E4H9zQWb1fVNgankgImmvgP6HTkzXqk7N2IYhIu3YyP/vuTErXTScwHMDh90gLDtdCYjUd/8fmI9JnIav8Yq80r8cOvX9/MV334Ur3efJAuR1bbt25GisW1BK277hPkcyd/9EKz2XwlU0kBADtHMztXViUZke2PRx95JSJeHHubqJSYD2BzVNICw3Pk9flIM5cjCn2MZvFqXPpqY5CvuvfyU4dSpHeyLObapzejeeVnM3uOfqpxTVXGhFBJATuG+A9Y78iZuUgPlrrOT7EYf/bVJ8fYIiok5gPYmlrVDQB2kNWZcx0J2oiIFK/E77x5qN+vuXuqfjxi9WIxQRuRnX/89I8PS9BOjrVKihtlwXpqZucfpPufFqwDwKRames5O0slFbbsRL1ivojskpgPYGO6OwCGI6+kWOg6P6t9MSI2DMzunnryhSzi9cgKxVpZ9upjf/jeQNW4VKdVSRG9Kine+qxAHQAm2aUXb8cXvnMnIvaVv6G2qS6vmBw9Y76I5Syyk3/xx//+/LjbBTCJVNICw7H6L50VtO2azfmNvuKfvvGZs1nE68XpKdIJCdrJoZICAKZIipNd5qxEdv/VsbZlXI68Ph9H3qxX3Yyq9Y754sqDmfuflqAF6J9KWmA4/vnjxXj0X3efn2WL3WbdaizMPrq6dC5F7di6Gam5EjFzdO9rNyT0JoBKCgCYQn/21Qtx5M3ZaMaZyLK17g/S9WjWTsQPX7xdbeOG7PPfPhC17Fykte69fufN5ajFybj0tamKbw49/+78/drqOyHmAxgqA4cBw/OF756NSM+WzFmJZvZk/PArN4szlhr1ubSaXUwR67pKSCmWm8108IlvLXZN7rJ9fO7kj16IyF4pH905rjyYuX/i2ncO3hl7w4BhEv8BvR15fT6W/8eduNbYeeMHfP67+6OWbkSUxDpZOjEtidrf+PLfHk+RzkQUx46ICDEfwJaopAWG56OfnYxHH5mNSMfbpt6JlE7ED79alqCdbz7ILkYW6x4XS824PbM7HdzbWNy+1Re//ea+2J3ORNTWksvNa3E/Oxn/8WtTFZSqpAAAfu7SDqucbVdbfSWiVj4QWspej4gdHe8sfPXqvl2ru8+lSGWDAYv5AIZAJS0wfJ//9oHIoh612s2IXYtx6eRy8S0fvlSv17LsYlaL9X3Vplhc3bXr8BONv9++yc4jr89Hc+bGw0f61qS0HLXVJ3f0D5Q2Kilg6oj/gOn1hTffj8i6j8FwP/3yTr1ZL+YDGA+VtMDw/fDr1yOi62i+P3m5vpBFdjHL1gd6zWhe2bUre+axxt93JHW3lTRzpiNBGxGRZXORZs5ExNHxN2p8VFIAAFMnZSs9b1P9wu4d18WDmA9gvGpVNwCYLj859eSxWqTLxQRtRHb+ZzN7ju5pLG7vBG1ERFrff27f83aA3/jy3x7ftbr7/YgoC9aN4gsA7Ey1+EHXec10rezJsUkm5gMYP5W0wNjcO1V/PiLORLb+/lCKeGPv6fderKZVm5Bl5f2RbTRvgqmkAACm2vJ/eyM+8a+/UBxLIVJajqg9V1Grhk7MB1AdlbTAWNw7VT8TkZ0pTm9GPLf39I3JSdBGRDRT164ces6bUCopAICpd62xEj/9b09HpBejma5FM12LyN6OB/Hp+OFXOgbInUS9Yr4Ucb2W1Z4W8wGMjoHDgJG61ViYfXR16VyK2rF1M1JzJUX2zN7XFi9V1LTNO/JmPVL2bkQUq2ZXIktPx6WvLVbRrGFrVVJEeXJWJQVMH/EfwA7UM+ZLsRKRXv3LM7/2xvhbtg0ceX0+YmZup8T3wPYmSQuMzFKjPpdWs4sp1vfTmlIsZyk7/Ng335vcqtPPf/tA1LIzEdmBfEK6Hs10cm3QtInXaxTfFHF9Jqud+E9/9O92RNUI0DfxH8AOI+brIo/1z0Vk+9emrESkV+MHX5vOZDUwFpK0wEgsNerzzQfZxWK/XakZt2N37fDexj9MX7A3AVRSAD2I/wB2iIXnr87tntl1NqXsWMfMaY/5jrw+H2nX+9H51FxEaj4Xf/b1t8ffKGAaGDgMGLoPX6rXV+9nF7NazK+bkWKxuXvX4Scaf3+noqbRw298+W+Pp9UelRS1Ka2k+O0398XudCaitlYRnq5Hs/biTul/DgCYLr9+8keHssjOpRT7ivOmOuZrSbtfiUjlgwFntTMRIUkLjIRKWmCo7n3jqQMpS5ezbH2irxnNK7tmsmf2NBaXq2ob5VRS9PDbb+6LXfF+ZFkxcb0SzexJiVqmjPgPYIItPH91biZ+4UxWS8c7Zk57zNfud75zo/g04DpZelIftcAo1KpuALBz3H25fiSy1avFBG1Edv5nM3uOStBuP79+8keHdmW73y9L0KaI67Va7cmpDtZ3pzMlCdqIiNmI5tmxtwcAYBNaMV9ZglbMV5BS798s/xKeCgRGQncHwFD85NSTz2YRZzuLrNJbj52+cbKSRtHVzyspsu6VFH8lUI+HXRyUzcoOxEJjNq41VsbYIACAvon5NqEWfx6FgY9/LsVi/MevSdICIyFJC2zZ3VNPvp5FvNA5J5187PTiW+NvEb20+iGLLOmHbCMpzUbW9enu8r7KAAC2gYFivt/5zrGoxf6IiFhtXokffv36eFu7jXz039+KX/rF34patj5Rm9Jy1OJERa0CpoA+aYFNu9VYmP3E6k/PRhTuzKfmSjOrnXj89I0LFTWNEvoh24QvvHkxIjtSPjNdjx987enxNggqJf4DmAA9Y76IiJRe/HnMd+TMXKT7lyOyA+vflL0dP/jKc6Nu67Z25DvPx2r6QkRE1Go3437zVVW0wChJ0gKbstSozz1YTe/UonaofXpKsZwiHX38tcVrVbWNTg8rKbqM4pu1VVIceX0+Ytd8RERc+up0b8fPf3d/1NKNKKuabTafnuoqE6aR+A9gm+sV8zVTulnLshN/+ceffRi/fOG75zoKLlqydCIufe386FoLQDtJWmBgHzZ+dd/MgweXi6OepmbcbqZ09IlvLRrtdJsYqJJioTEbjz5SrIy+E1k8M9XJ2s9/d39E8+zDR97S9WimkxK0TCHxH8A2tVHM18zijeYv3X/1WuPgw770Fxqz8ei/XopuXTg107X44dcOjqTBAHTQJy0wkLuNX9kf9x9cjlrMr5uRYnFmdzq6t7F4u6KmUdCrH7KfV1Kc+bWHicZHHzlTUkmxL1JcjiOvfzouvTid2/aHX7kZEX6gAADb0ue+8qOFWM3e6RXz/fUffbbz5vLc/7QvUo8+9rPafNd5bBv3Xn7qUJZWv/DJb/54urungB1AJS3Qt3vfeOpAytLlLIu59ulZxLVsJh3d01hcrqptPLSpSoojZ+YiPVjq+qUp3oo/++rJ4bcWmCDiP4BtZKFxdbb2z7tfqaWyAXy7xHxFX/jOx9F9MNQr8YOvHh5CUxmyu41f2Z+trv5upHQsstq+iIhmSgd1OQeTTSUt0Je7L9ePRKy+k2W1dUFcFs0LH83sOfGpxrXuwR9js+lKinhQ75zWJqXe8wEAGJvPfflvDjQ/SudqWewvzusd8xVlb0Wk0iRvpPQnW24oQ/Nh41f3zazePxaRfjdWm/sjsojs4b3TWlb7UkRI0sIEk6QFNvSTU08+m0Wc7SygSm998vSPVVduA61KimjGC2V1bs0s3mh+4sGrf92tkmI1uxO11H0BtWQkWwCAiv085kvxQi3rDPo2jPmKPvrZq/HoI/sKXV6tRBYvxg++dmVIzWaTbjUWZn9pdflYivTF2uqDQ/nvsS4PtaTVY7caC88pnoHJpbsDoKe7p558PYuyR6jSycdOL741/hZR9Lkv/82BZkrnalnWtZJi3Si+3fzOd24UB4P7uax5NC59/dLWWwtMMPEfQIWGFvOVOfJmPSJbiEjLEavXpnYsgm3i3stPHYosvhhp9VgUnmQsk0XzwmrUfvD46RsXxtE+YDQkaYFStxoLs59Y/enZjoGkUnMlZdlze08vnq+oaawZSj9k7T7/3f1RS1cjYn1XCfqjBXLiP4AKDD3mY1sq62e2p6x5vZlq39s1ky4YGwR2BklaoMOtxsLsI6tLF2tRO9Q+PaVYziJ75rHX3vPoU8VGVklx5MxcpPvPRmT/ISK7Han5g/gzj7oBESH+Axi7kVbPUrl1/cxGrWMbF6Vm3M5msu/Vas3zexqLqp1hh5GkBdZZatTnmg+yqx2PvafmndVmdviJby0uVtQ0QiUFUCnxH8CYbBTzpWZ2fnXuX54T802edf3MFopiSqXmnSzFpQcp+1O/xWBnk6QFfm6pUZ9fvZ9dzWoxv35O82ZtJjvsbm21VFIAFRP/AYxBr5gvUtxJkU781Zlf86TThBmon9nUXMmyuNRM2ff3vrZoXAiYEpK0QEREfPhSvV6rZVezLObWzcia12u17LB+jqqjkgLYJsR/ACPUV8wX/3Ly2lsHxeUT4sOX6vWZmfhSv/3MZhHXmpG+NzMTl/z+gukjSQvkd3Vj9WLxjm4W2aWPZj7xzKca1yT/KqKSAthGxH8Aewd25wAAIABJREFUI/Kbv/93+1dj9Z0sZfWOmWK+ibLUqM+vrmbHsmh+qZ9+ZiOaN1PUvjeTDwDmyUWYYpK0MOXunqofzyI7V5yeNZtvf/KbP36uijahkgLYlsR/ACPwuZM/eiEieyWy6HgEXsw3GZYa9bnV1ThSi+xLKWJhww/oZxYoIUkLU+zeHzzViJReKU5PES/uPX3jjSrahEoKYNsS/wEM0W/+/t/tX03Nc1nEgY6ZYr6JcPfl+pFalr6YUhzRzyywVZK0MKXunXrqXEQ6vm5iaq6kLHtu7+nF8xU1a+qppAC2MfEfwJCI+SbXhy/V67uy9LspiyP6mQWGaVfVDQDG61ZjYfaR1aWLEelQ+/SUYjmLmWf2nn7P3foKtCopolclxVuftW0AACaYmG8yre9nNtufNrxnqZ9ZYHAqaWGKLDXqc80H2dXIYv1j9Kl5Z7WZHdYfUjVUUgATQvwHsAVivsmin1lg3FTSwpRYatTnV+9nV7NazLdPT824PbM7O/iYO7xjp5ICAGDnE/NNllY/s80H6UiW1WZTrzev62f2x/qZBbZEJS1MgQ9fqtdrtexqlsXcuhkpFmu70kF9I42fSgpgAon/AAbUK+aLiCsPZu6fuPadg3fG3jDW0c8ssB2opIUd7t7LTx2KWL0YWbYuMGxG88rPdu05+qnGtZWq2jaNVFIAAOx8PWO+iOUsspN/8cf/3mC9FdLPLLDdqKSFHezuqfrxLLJznXOy84+dfu/E+Fs03VRSABNO/AfQh899+W+ejxSvi/m2H/3MAtuZJC3sUHdPPflCFvF6x4wse/WxP3yvUUGTplarkiJTSQFMNvEfQA8LX726b9fq7nMRcahktpivQq1+ZlOKI5HVypLnD6XmSmQzFyLF9x977T1PuAFjI0kLO9A/feMzZ1Ot9mxxeop0Yu/pRYHhGKmkAHYQ8R9AF7/x5b89niKdiSiMAZET81Vg0H5mm9G8kkX2/X+embugSzigCpK0sIPcaizMPrr603dSpCPrZqTmSsTMUXeCx0clBbADif8ACsR828v6fmZr+zf+RPNmRPanqzO7LzzR+HtJdKBSkrSwQyw16nPNZrocqbbukfqUYrnZTAf1oTQ+KimAHUr8B0yGI2fmIt1/NiJ9JrLaP8Zq80r88OvXh70YMd/2sJl+ZiPLLqSZmT/d2/iHm2NoIkBfJGlhB1hq1Oebq+ly8W5xasbtmd3poNFHx0MlBbDDif+A7e/Im/VI2eWIWP94exYn49JX3xrGIsR824N+Zvn/2bu3ICnvM8/zv/+bWerSCQpzmHJv73SpD+tS98wqQa1ubEvjZCR5CkUgiotdwUZHiLqYFexuRFOSQCBR1ouRBBSSC3dsBHLsRaHtjQXtRVNIu4K1JVNuSRYehyHZk/D0zsD0Tts0Alehg12tyvw/e1EUqjzWMfN9M/P7iXB0d/4z4ZHUZf148nmfP9BoaNICde7Ks6lUIrCTRXuWTJkgaWuWhJnRiEqLj+6DaXnfqSC4oNHPzmg4XPAdU0xSAGgC5D8A8ZYOW7X4tnOSK/2Yu/dfne9ELZkvWuyZBdDIklEXAGDuru1e1WWyo3IuLyR6+VOfJpdsaPog0r2vQ5Y4KtNquWCivbD4tgvq7t+koR0Lsv5hcpLCZExSAAAARKnttk5ZmQatJLngMUlzatJWzHymMSf1/mDg/lfn8mujsvw9s67Tpv2+kD2zAOoTTVqgTl3tS22W5Q67okd73JFPE0u2Nn2DNh22yiePyymVf+A65d1xpcO75ztR+/CT72+2HJMUAACgCroH2vT5eKve2kGWmCnvOiv275xmcJFUsUqZz6QziSDo+f4rX2O36QKaumfW55Se+McalP9A3p7Zc/yzAFCXaNICdehq38qdTtonl59CTdq/bO/ZXRGVFS+LbksXN2hvcNahRbduljSnaQcmKQAAQNWsO7BagRuUZTvV4qT1By/LrEdv7GCP5nTMZeSswhvcrJ6kmi7zSbbnnYEH9s+2TJT3Ud/KjQn59T7nNjpNPAhXVt6e2fP8fACoezRpgTrzq+fuOWzSlsLXvbR1+d5zNAYnlWvQ3jxP3DOXX5ZJCgAAUDXd+zpkwWlJU5+UapdzJ/XowU16Y/uxqEqrC28+fUHrD55SqQu9zEaVte/O9Jd6sPfdLpd1g3Iq2ntK5ltY155btdop97h3wUYntVmliVlJ73zyZR0f/V19/+P/5L++9te7/6pGZQJA1dGkBeLskf52tdiA5FK3BrnP3/j9d+604Npdee8xP2Zym5a/kBmKqMp4cnZBVuF5N2c/n80vxyRFTEz5mZC5MTl3Ri6xS0O9XJAHAKh/FuxTfoN2CrdPEk3a6bjkJln2qPIbtZcVuE16a/u0qyPS2063JXTLgHO2ueiQzLdgRsJUh/fBZsvZ4wqswxRU3FTxt2OLdORXf6C/vt6hK+M3fkTMfVsSTVoADWOuN/Ryuy9QbY/0tyupD+Vc2+LE5/pf7hrWn9x2Ne8tZhp15tYuffHsvG6pbUiP9LerxZ2TiqcfJI3JZe/W0K5LM/mlHux9t8upwiSFY5KiJqb8TBScXNa4rWRnH1B15D+g2h59+aKcdZQ9H7cv8++7GVp3YLWcUgqCC1IyM5MvdMl81TUSptqyObcxcP5xWbB62g+Yvzx47Su3fe9XX1n0t2OLSr+HnwkADYRJWiCuWnRYcm3/9JbP9Fcdf6N/1jqSd2xel9QSrF0a/oygWMpbOy7r0f4eSUcLmnpjMvXoxPQNWiYpYubGz0SJkxvTtdpU65IAAFhYVrmReEtLc18MOxtvPnNG0owGGch81TV1z2wgSVZ+nYGZRp1zQzf3zD765+cqrjHjZwJAA6FJC8SVKf3Pbh3RX3X8jf7pLZ/lHf0/Y4tzX7n9s6+uCH/Kt8aVvLHjlB7pv1u3aIvMf0Uu+Lly7pjefHraxvYXkxTGHrK4MKXLzvCZK15DAQBA/RmWyjWk7AzrfRYema86Zrtn1skN5WSvf5pcPHRXODy18crPBICmQZMWiKN02Hr/nf9w2//4u+9pceLzvKN3Pvmy/vXffT17/a+fo0E7ExOPP4UzfTuTFDGVDlvlXJkdfVLFMwAA6sXHn+3Soju6i1YemI0q0NaIqmpIZL6FN9s9szJlvNP3LJEcKjt8ws8EgCZCkxaIoY8eONGd9S55S2B5rx8d+T099fd/qn/Mug8iKq2hMUkRY8PhmNb3ZyRXen+ZN/YyAwDq33A4pu6BlbLcPpmtlrNWyTLKul72bi4cMt/Cmbpn1ufcasnkKgzNmtclBTqmRPDaspmsbeNnAkAT4eIwIGau9aW2SW6g8PXvXvkjffvyjSd9vP/qjT1bWAA3JymC8pMUbzNJEb11B1YrCEp/QcHPBFAL5D8Ada1i5pPknfb/8JX7d9W6rno0uWfWFGyc7r2Te2a9+deWv5AZrkV9AFCPaNICMXKtLzUguW2Frz/19/fpyLU/lGQX5K2HZtTC4RbfOvNof5ecG5Qm/3nxMwHUEPkPQN2qlPm82YXAuZ63v3M/eaKCvD2zTqUuc81zc89somjPLACgBJq0QAxcDNOti3Mjg0XfRJsf8y7oWf6zTcO6pWWMxfgLh0mKOvdIfzs/E0DNkf8A1J10eLo1+UliQBZsKXXunfb7O8f3DIdraCKWMHXPrAvUMe0HZrJnFgBQEk1aIGIjYarNcu64Sempr5tp1GQbeCRo4TFJAQBzQv4DUFceevK91d5sMHCus/CMzFfe1D2zsqD0fQBTzHrPLACgJJq0QIRGwlSHz7rjckpNfd28LnmzDSteymSiqq0RMUkBAPNC/gNQF9Lh6dbgk5bnA9POUudkvtLYMwsA0aJJC0TkyrOpVODc8aLHhkyZIGkbloSZSxGV1pCYpACAeSP/AYg9Mt/ssGcWAOKDJi0QgY92p9JO7nhhEHLSsEvYhiVhhj2bC4RJCgBYMOQ/ALFF5ps59swCQDzRpAVq7KO+lRsD84NyQevU1538seuJJT18I71wmKQAgAVF/gMQS2S+6bFnFgDijyYtUEPX+lLbJDdQfGKHlu7N9Na+osbEJAUAVAX5D0CskPmmx55ZAKgfNGmBGrnat3KfU6kAab1L92YO1b6ixsQkBQBUDfkPQGxUynwmXXLSpmbNfLPfM+uP5RScYM8sAESLJi1QZRfDdOui3MeHJducd2B+zLugZ/nec8ciKq2hMEkBAFVH/gMQuekyn3l3JKfPe4cPrWmqOx6uhvd2Om8bZ7xn1vkz3oLXkgk7xn0YABAPNGmBKprY/WRHAwVdU18306jJNvAY0cJgkgIAaoL8ByBSlTKfTJdN1vPOwAOnIigtElfC+9pdLtsdmJ6QU2q695vXJZdwrwWBP7IkzFyqRY0AgJmjSQtUyZXwvvZENnuyMDCZ1yVvtmHFS5lMVLU1CiYpAKCmyH8AIvNQ77s7Jfe8nFoLz5op810M06135K53J+QeM1n3dO8302hg/pgp8drSF88ytAAAMUaTFqiCq+G9nRr3J4sfNfIXgoRbyzfX88ckBQDUHPkPQM1986kfd+bMDzppddFhE2W+j3an0oELHjez7tnsmWW1GgDUD5q0wAK79tyq1ebsZFF4cv5MELi17HyaPyYpACAS5D8ANdXsme9qeG+ncv5xeW1kzywANL5k1AUAjeTq7lS3lDvqXJAXJJ3c0PVgySZuS52fyUkKVZqkOHR/w09SAAAANLJmznx5e2ZzfmJtWlD+/fl7Zs/ztB4A1DEmaYEF8lHfyi2BdLjwdef9q1968fzWKGpqJM0+SQEAMUD+A1B1zZj52DMLAJBo0gIL4mrfyn1OxZdXmbRr2d5z+6OoqVGwhwwAYoP8B6BqmjHzsWcWADAVTVpgHi6G6dZFuY8PS7Y578D8mDm3ddnezJGISmsIzThJAQAxRv4DUBXNlPnYMwsAKIcmLTBHI2GqLZuzo4GCrqmvm2nUyW1a+sLZhvqmv5aacZICAOoA+Q/AgqqY+aRRc77nnVf+xVDNC1tgeXtmnVLTvT9/z2yGPbMA0CRo0gJzcCW8rz2RzZ4sClnmL+e8W7vipUwmotLqXjNNUgBAnSH/Aci37uVOvfn0hbl8tFLmk3QqmxjvGT645vI8K4wMe2YBALNFkxaYpavhvZ0a9yeLH0/yF4KEW8u33XPTLJMUAFDHyH8ApEf629XiBiVNPk02Jtkendgxo3sY0ttPtydyLcfLZT4n1/uD73y9bleGsWcWADBXNGmBWbjybCoVBO50UeBy/kwQuLXsiZqbRp+kAIAGQf4Dml06bNWi2z8o/ci+e1Unnt5a6eMPP/n+ZpMNSCWbl3Wb+Wa7Z9ZJw172WiKhIf78AACYRJMWmKFru1d1SbnjckFeI9HLn/o0sWTDXeHwWFS1RWp9/055/SsFrlNSRt7v0ZvPzOgRrUafpACABkP+A5rdowe2yAWHy5677F0a2lX0VFl6++n2ZK5l6vTtVHWZ+Wa7Z1byF0zBa4mJC8B48g4AUCQZdQFAPbjal9os2aAUFJy4I8v3nu+JpKg4WH/wpKSuKX9buhQEXeo+sEFDz1RcTfDwk+9vtlzjTVIAAAA0LJf4s4nva8rwydWS8hqQjZT58vbM5rITe2YrfXVl/rIzDWXNfW/FS+e5swIAUBFNWmAa1761KpTZ80UHzu1Z+u2zYQQlxUN3/2ZZyWkIyYLD6h4Y1lBv0eNbk5MUJmuYSQoAAICmYDZasSkZ+JtPllU98z3S365b3BaZ3SOvNjmXkfQTvbF9wXe73twzm73e7ZzarFKj2vyYcxry5l5f9sL56O9TSIetart9i8zdI+myzP9Ib+w4FXVZAIBiNGmBCq71rRqU2ebC103Ws+zb55q7kWjBNypMUrRL2ZSk4akvNtIkBQAAQNMJ/I9kwbYyp2PSLcNSDTJf98G0vB2XqU1ykw+7pSVJ6/sf04kdG+b8a9+Qt2fWqUMyuQoN6pt7ZpMuPntmH+lvV4tOy9R5M7c7t1PrXz6iE08379OAABBTNGmBEiYeZRo5rsJv/s2PSYkNy144x7fP8m2Vn+/yN0N5TaZnuw+mJaUktcnbGWWV0Vs7aPgWWndgtZxSCoILUjJTatoZAACgpKFnhrT+wDEp2Fh05mxr+g9Trckn3ztZ1cyXDlvl3aAKL/L9opBure/fqRM79s/2l87bM5vzE3tmC7ed5Yn5ntkWG5CCzuID26xHD/xEbzzzau2LAgCUQ5MWKDASptp89vppuSDvAgAzjXrv1qx46Sz7pCb8RFJ3mbMxfe7OSLWYpNjXIUsclU25fMw5KWmjevTg1mo88laXugfaZNmjmrywwyQpe1mP9vfwyBsAAJixE89s0vr+84UXxz78h/d3Ws4+VLWfmFp0W1rOOiq+x9xjkmbUpG3YPbPpsLVkM33SxN8jmrQAECM0aYEpRsJUR27cnXaB8oKfeV1KtNiaZXH8hjwq1399SIvueKJkSHY6kP7j+5TsrMUkRfJ4yRt1nWuTNKju/gsa2hHfAF0rlhtQ8Y3K7XLuuNa9vFJvPn0hirIAAEAdmphS3S9N88SUaUyyPW8PPDDrqdbyrKNyF1WSU4np0XzXdq/qktNjyo5slAta62rP7EzceUdHxUveXFC50Q0AqDmatMANV55NpXJZd9oFBd/+mzKJFlsTm91ScTEcjumR/q+qxQ3qi+bfmGR7Hv69r1+u3SRFiQbtF1pl9oykTfP+verZI/3tUvFu5Rta5ewJSb21LAkAANS/B3v/ZqPLBYdVIvOZdCYRBD3ff+VrC/tFsCkzXY9WspJf0F8N7+10udwTMtsoZ+2SJFd+n0Es98zO1JtPX9D6g2OSWkueO88QAwDEDE1aQDe+SVfuuJzLCzFe/tSnySUb7gqHx8p9tqlN7HxdK0la93JnuvPe0ZpOUlRu0E6+aQbvaXDJaf4+mfH3CAAAzFh62+m2hG4ZcK7El8A3Mt87Czo9O8Wbz5zRuv5hBS5d9j2mPZP/65XwvvZEbnyjZE8o5zslp4o3gMV9z+xsOB2Q6fnSZ+67Na4GADANmrRoelf7UpslGyy+FcAdWb73PLeeztCDf/CnqZpPUji7IJt2lILH+C24JFfhcbcgqO8/gAAAqiMdtqrt9p3K2TckSUFwRi5xgEsnm9uDve92ObnBm5OoU1Qt8xVK5HpkiaOSW11wMianXRdXvjV85z2pzSZ7LMhluybWI1TIjPWyZ3a2Rj/br8V3/G7eE1VmowrUq6EdwxFWBgAoYdruRhk2j88CsXHtW6tCmRV/u+zcnqXfPhtGUFLduTlJEZSfpFjYPWRTPNLfrhZ3TlLRHxKm1LCJy8Mkre//oMQfZCaYreXyMAAzQP5rJt0DbbLxDyRXuNvzssZt5Y2nadBEIs185XQfTEtKSWqTfOZ/veudxV+942paltsoF5R+zH9S3p7ZTH3smZ2r7v6UpJS8LiurDD+/ABBPNGkxc48e2CKXuEdmY5J+Uu+Nr2t9qwZL7ek0Wc+yvZn5XWjVJL6YpChukpp0JuFqMEnxaH+XpKM3LgorLOKQ3tjOrlVJWvdypwI7rcKGttMeDW3nCwkAM0H+aybrXz4s2ZbShzakEzs21LYgRCkWma+M/D2zQfkv7m+4uWc2ofrbM4vZWfdypxK2Uea/Ihf8XJ/bqzSoAcQZTVpMb2KS4mTxFF59BvSLYbp1ce7joybrzjswP2Zymxr+m/QFELtJikf623WL2yKze+TVpiA4I/M/Yjq0wMTP8hbJ7pELfq6cP6U3nzkTdVkA6gb5r5k8+vJFOSt3+/uYTmy/tab1IBKxy3w35O2ZVVA47V2CvyC57+USLcdWhD+lSdcMHj24UU6DmnpxmtmoAuvR0DP8eQ9ALNGkxfTWv1xy4nSC7dKJHTUPZnM1EqbavLeTsiCv4WymUWdu7dIXz9KwmkacJymAsroH2qTP01KQkjSs0c/OaDjkQkBgdsh/zeTR/pGST6lMcskl7KZtbHHLfBfDdOududGNJnssUFB8SW0h85fl3DFLJL63LPwZ2bSZTKxEu6ipDdpJZqPK6m4magHEEReHYXrmu8vegGruMUl10aQdCVMdPmcnC79tN69LagnWLiW8VRTpLb7AfHQfTMuyR6Wbj0A+r8W3XdC6lzfozaf5uQeAUkwZOaXLHF6gQdu44pb5ru1e1SWnx5Qd2SgXtLrKF4CNySWOyfT60hfO80RVs0pat+RK7yR2rk1J3y3p1doWBQDTo0mLyh7pb688RaEZPF4UvSvPplI+ayeL9lSZMr4luZbHniqLxS2+wFw80t8u01EVXS7nOuXsqNLhV5moBYASEuqV6QOVnEQT+94bVMXM5yyTcIlNtch8+Xtmb9TigrLv9/KnnNzrnySXHLsrHObf680uCNpl05wDQAzRpEVlb+24rPUHL6uowTHJMjWtZw6u7V7VZbKii6W8/Klk0m1aGv6USZAy4jZJAczaLW6jrMx/fzmltOi2tCQmbQCg0NCOjNYdWKPADUpu8kv5yzLrYed746mY+SR5p/3+zuyed8IHqtYAzdszm/OdklPZp/kmqmLPLMrwGal8U3/iHADihyYtZsC+K7l9pY+0p8bFzMrVvtRmWe6wc0HBFIg78mliyVa+aS8vLpMUwLyY+4oqjVIErlM0aQGgtInLJe9W90CbPh9vZYdjY3royfdWm3TUqfiiOG92IXCu54ev3F+Vexvy9szmsl0Ta68rrjOYsmf2HDkUpY3+5pQW3Z6RU6rozJTR9d+Q/QDEEk1aTO/Ejv1a//JiyXZOeXVMTrt0Ir6TFFf7Vu500r7Cb+BN2r9s79ldEZUVe3GYpAAWjLOfV3zcTf5SrUoBgLrF/tmGlA5PtwaftDwv085SbVHvtN8vyu75YbhmwTMfe2ZRVcPhmLr3bZAljkpuyoXRdkZBbhOrrgDE1Vxv6OV232a07uVOOUsp8GOSz2hoV2ybG7967p7DFgRbCl/30tble8+xJL6MLyYpVHaS4u3vVGeSAqiK7n0dsuSHKrlT0V3Sx5/eTVAHZoz8BzSIh558b7U3GwycK7pfolqZL3/P7PQ7QW/umU20sWcWc9fdn5Jcm2SjGtrBmgMAsUaTFg3lYphuXZz7+KjJuvMOzI+Z3KZlL2SGIiot1iYnKQLTzlLnE9Oz43uGqzBJAVRd94FueTdYsJf6srzfcONRXgAzQ/4D6lytM1/enlkFM7hwmD2zAIDmRZMWDWMkTLV5bydlweqpr5tp1Jlbu/TFszRjSohikgKouUf629WizXKuVd5fVnDLMR7fBWaN/AfUsVplvrw9swq6pv1A3p7Zn7FnFgDQtGjSoiGMhKkOn7OThd/Qm9clb7ZhxUsZHm0pwPQsAGCWyH9AHapV5ru5Z9ZyG1V0aW+BvD2zZ9kzCwCAaNKiAVx5NpVKBHayaLeVKRMkbcOSMBPb3blRYXoWADAH5D+gzlQ787FnFgCAhUOTFnXt2u5VXSY76pym7pqUk4ZdwjYsCTM8zjwF07MAgHkg/wF1opqZbyRMdeRybqOTf3xGe2ZNGe/0PUskh9gzCwBAeTRpUbc+6lu5MTA/WPg4lZM/dj2xpIdv5/MxPQsAmCfyH1AHKmU+mS4rYZvefvmB4dn8miNhqi2XU3cg97hJ6eneb16XFOiYEsFr7JkFAGBmaNKiLl3rS22T3EDxiR1aujfTW/uK4ovpWQDAAiH/ATH3L596b1+5zGfeHcnp897hQ2tm/KTZ1d2p7sDZY2bqnm7PrJlGnXND3vxry1/IzKoJDAAAaNKiDl3rSw1IblvxifUu3Zs5VPuK4qsakxQAgKZF/gNi6ptP/bgzZ37QSauLDk2XTdbzzsADM7qg68qzqVTS2RPm1D2TPbNObigne/3TxOIhnmQDAGDuaNKiblwM062LcyODpmBj3oH5Me+CnuV7zx2LqLRYWuhJCgBA0yP/ATH0UO+7OyX3vJyKJl1nmvnYMwsAQPRo0qIujISpNsu544U7sMw0arINPFL1hYWcpAAAYAryH5rHI/3tusVtUc6+Iecykv3vemNHrPLTfDMfe2YBAIgXmrSIvZEw1eGz7ricUlNfN69L3mzDipcymahqi5uFmKQAAKAM8h+aQ/fBtLwdl3Nt+Qduv048vSuaovLNJ/OxZxYAgHiiSYtYu/JsKhU4d9wF6sg7MGWCpG1YEmYu1aSQ7oNpSWnJZ6RbhjXUG6tGJ9OzAIAaIP+h8aXDVi2640M56yh57rRGQ9sja1bONfOxZxYAgPhLRl0AUM5Hu1NpJ3fcOeVNMThp2E00aKvfKO3e1yFLHJVNBuFAUvayug9uijKgT/VQ77s7vffPO6ZnAQAA5ufOW1NlG7SS5LVeUiQZcLaZL3/PrOu06b5jYc8sAACRokmLWPqob+XGwPygnMsLoU5u6Hpi0aaafaNviaOSK5xUaJe343qk/269tSOyADs5SaFKkxSH7md6FgAAYKZcUL5BK6liA7dKZpP5pu6Z9TmlJ9qyQdlfmz2zAADEB01axM61vtQ2SQNy+YHSef/ql148v7Vmhaw7sLpEg/ZGMa5NLbZZ0v6a1TMF07MAAABVYC4jZ+XPnTtfu2Jmnvkm98z6rHU7F7RW+CvI3zP7IntmAQCIC5q0iJVrfakByW0rfN2kXUtfPF/bhmjCdapSwlXwlVqVMonpWQAAgCp68+kLWn/gmBRsLHF6WZ/bq7Uoo2Lmk0adXO//fNt/m0k622e77+mWc+0mV3Fr9M09s0n2zAIAEEc0aRELF8N06+LcyKDJ5Qdi82Pm3NZlezNHal+Vq3wpmbP/UKNCJDE9CwAAUBPulq2y3Jhkm7940S7IW4/eeqbqq64efvL9zd77w6Uy3+8Ev/zRc7f+9+9/SaPPSAF7ZgEAaCBzvaGX232xYEbCVJvl3HGT0lNfN9Ook9u09IWz0UyGpsOfZFPyAAAgAElEQVRWLb7tnOQ6S5yOybuVevPpqu/uqniL741Jih985+sRNLEBAE2G/Ifmsu7lTiWsXTk/pjefOVPt3y69/XR7MtcyKKlr6uu3u9/ozxLnfv1f/Napv/uSRkrl0jzmdckl3GtB4I8sCTOVhw4AAEBs0KRFpK6E97UnstmTckrlHZi/nPNu7YqXMpmISpvQ3Z+SuZOS2qe8OiZnWzW0o+qN0YeffH+zmR1WiUkKSaeyifGe4YNrmIoAANQC+Q+okoeffH+zyQYktU2+dl/i/9DXkmf1p4lzPul8+du/NDHcEJg/Zkq8tvTFs1VvKM9LOmxV2+1bZPpX8taqhDuh0c9e1XDICgYAQFOjSYvIXA3v7dS4P+kCFdyS6y8ECbc2Nt/8dw+0yX++UUHQLrMxudwxDe2qam3lJiluYHoWABAF8h+wwAoz3+8G/1HfTL6vP0meV5v7ZNrPO/ljOQUnlu89d6zatS6Isk+q2QWNa43e2sHwAQCgabGTFpG49tyq1Zb1J13wxbSAJMn5M0Hg1i4JM/HZrTrUOyqpJpdESDcmKXL5kxRTNN707LoDq5UIumQ2Jh8M1WKFBAAAQNQmM9/y4Frb1xJnlU7+RL8d/MP0H3T+jLfgtWTCji0Jz8cnM8/Eotv3SSqxssF1qsUPSNpU65IAAIgLJmlRc1d3p7qd7KhckPcIv5Mbup5YtKlZb5ttuunZdNiqxbcfV9Ffr9uvE0/viqQmAEAl5D9gAaS3n25f4sf+p1WJ//vBdMu/0R8FfzvtZxpmz+z6/g/L3PcgSWM6sf3WmtYDAECM0KRFTX3Ut3JLIB0ufN15/+qXXjy/NYqa4qDUHrIpGm96VpLWv7xPsp0lz5z11GLnLwBgVsh/wDy9tuupv1yuXz2xKvl/3dKibMX31tWe2Zl6tH9EzpXKuxNccsmNp9gAAGg6rDtAzVztW7nPSUVNOZN2LX3x/P4oaora5PSsyZpjenYq81vkyvxZ37u/kNSYf90AAKCpXHtu1erP3G9tTco2/Zb7Yct077+5Z/aFOtkzOxumjJzSpc/cJZ2gQQsAaF40aVF1F8N066Lcx4cl21x4ZrKeZXszTdmMa7rds1N1D7TJsuWnKGQd5c8AAADibSRMdXgfbLacPa7AOm7XNNu86nnP7Gwk3B5ZmSatjHVXAICmxroDVNVImGrL5uxooCB/UtT8mJTYsPSFs6ciKi0yTbd7tpxKj7uZMnpj+8oaVwQAqIz8B1QwkXvdxsD5x2XB6une/5ndOnJ7MPaXdb9ndra6+zfLa+BmDjQbVaBeVl0BwNz94ku/3xXI9pmClJkuu8CGxnK5XXeNXmrcL/4aEE1aVM2V8L72RDZ7Uk6pqa+badR7W7PipUwmqtqiUmn3rElnconxDQ07PVuInbQAUG/If0AJH/Wt3JiQX28KNk733s/sVp3P/tE/SIm/WLf/e6/Xor7YWndgtRJBq4a2D0ddCgDUs18u/cPNMhssOjBdGFucXXnXpUtNeTl7PaJJi6q4Gt7bqXF/0gXKe2zdvC4lWmxNU00LSEpvO92WDFqOqtT0rGlMsj1vDzzQXHt502GrFt9+XEV/T9x+nXiax90AIH7If8AN155btdop97h3wUbnSq6uyvPj7L36afaPx3+c/ZNvNV3mAwBUzcWOjtZbP07+0kqvUZSZdv32yP/Lv3fqBDtpseCuPbdqtWX9SRcU/JeEKXOjQdtU4/YP9r7b5eQGJbUXnpl0JhEEPd9/5WsXIigtWsPhmKS1N6YoumQ2Jh8M6c2nm+/vBQAAiL3CPbOmoOK3Fn/rOzSc/TN9kL1Xn9qtZxIu6Hl7oAkzHwCgam79OJkq16CVpED6s1rWg/mhSYsFdXV3qlvKHXUuaJ36upc/9WlyyYa7wuGmGbNPbzvdltAtA84VX5g2OT37DpMU0pvPnJF0JuoyAAAACk3dM+tzbrVkckH59//C/xP9OHevhrN/qo/80imZ734yHwAAqIgmLRbM1b7U5omJ0cKZAndk+d7zPZEUFZGb07POmJ4FAACoM5N7Zn3ObQwkycp3Zq/7O/xPc6ng+9mv6z/437n5OpkPAFBtv1mUzdz6cXK03DStl35S65owd+ykxYK49q1VocyeLzpwbs/Sb58NIygpEjenZ4Py07PsIQMA1CnyHxrabPbMmtk/XvB/8Iv/bfxf3vXT3H9ecEjmAwDUDheHNQ6atJi3a32rBqXipqTJepbtzRyJoqYofDE9W2b3rGOSAgBQ18h/aDhT98wWXnhbipOGf5L952df/cc///PPdNuKwnMyHwAgCr/40u93BbJ9piBlpssusKGxXG7XXaOXmupOoHpHkxZzdjFMt96RGzkeKOjKOzA/JiU2LH3h7KmISqsppmcBAE2C/IeGMHXPrCxYPf0n/AVT8NpPc51vvfzr/66XzAcAAKqBJi3mZCRMtfmsOy2n1NTXzTTqva1Z8VImE1VttcT0LACgiZD/UNcm98yago3Tvtn8ZWcaypr73oqXMplKmc+bXUhYsOkHh77eFPkXAABUB01azNpImOrIjbvThY+EmdcltQRrl4U/a/imJNOzAIAmRP5D3ZnNnlmZH3NOQ97c68teyAxJUjo83Rp80vJ8YNpZ6iPeab+/c3zPcLiGfX8AAGBeaNJiVq48m0oFgTtdFHJNmVwyuXZF+NPLEZVWM0xSAACaFPkPdWEue2a97LVEQkNLwszN3X0PPfneam82GDjXWfgZb3YhcK7n7e/cf2ah6wcAAM2JJi1m7NruVV1S7rhc0Dr1dS9/Kplwm6aG2kbEJAUAoMmR/xBbc90zm0jYsSVh5tLUEzIfAACIAk1azMjVvtRmJzdYfOKOfJxYtPWucLihQyqTFAAAkP8QP/PZM1vqLWQ+AAAQFZq0mNa1b60KZfZ84esm7V+299yuKGqqFSYpAAC4ifyHWJjvntlSyHwAACBqNGlR0bW+VYNS8eVYXtq6fO+5V6OoqVaYpAAAIA/5D5FZqD2zpZD5AABAHNCkRUkXw3TrHbmR44GCrrwD82Mmt6nSJEK9Y5ICAICSyH+oqSvhfe0ul+0OTE/IKTX9J8rvmS2FzAcAAOKEJi2KjISpNp91pwvDsJlGnbm1S18827CTBExSAABQFvkPVTcxKHC9OyH3mMm6p/2A+cty7lgup9fK7ZkthcwHAADihiYt8oyEqY7cuDtd+BiZeV1SS7B2WfizC1HVVk1MUgAAMC3yH6rmo92pdOCCx82seyZ7ZuUSx2R6fekLZ0/N5veZLvNJOpRdNL6LzAcAAGqNJi1uuvJsKpUI7KRc0J53YMrkksm1K8KfXo6otKpikgIAgBkh/2FBXQ3v7VTOPy6vjTPZM+vlTzm51z9JtB27KxyedRP1m0/9uDPrc8dLZT6ZLpus552BB2bV9AUAAFgoNGkhSbq2e1WXyY4WTi54+VPJhNs03YUL9YhJCgAAZoX8h3mby55ZyX0vl2g5Np+BgYd6390puefl1Fp4Zt4dyenz3uFDaxou76KOrO/fKXOPySklb8NK6DUN7TgSdVkAgNqhSQtd7UttdmaH5YK80Orkj11PLOmZy6RC3DFJAQDArJH/MCdz3TNricT35rtq65tP/bgzZ37QSauLfx8yH2Ji/YGjUrCx6HWnPRraHkZQEQAgAjRpm9zVvpU7nbSv+MQOLd2b6a19RdXHJAVi79H+LrlgvWQdcvqJPrdX9daOhlw3AqCukP8wK7XaM1sOmQ914dH+Ljl3sszpmLxbqTefbsh7QQAA+ZJRF4Do/Oq5ew6btKX4xHqX7s0cqn1F1TU5SaFKkxSH7meSAtF69OCAnLZN9EIkmbqU1F9o3YG1evMZdiMDAGItb8+sU4dkchVa+zf3zCaXzGnPbClkPtQVF3zjZu4r1qqEXy2JJi0ANAGatE3oYphuXZz7+GjR42bmx7wLepbvzRyLqLSqeaj33Z3e++cdkxSIs0f7uyYatAWca5PToNLhSg2HDbd+BABQ3/L2zOb8xJ7ZoNInFmbPbClkPtQds9aKzyh4K/r/ZQBAY6JJ22RGwlSb9yMnTUHeZIGZRk1uw/K954ajqq0amKRAXZlYcVDusFNtt3VKytSyJAAASsnbM5vLTnzxX6nRlLdn9tyCTwWS+VC3Av8jWVD8Jf0kSzTUn88AAOXRpG0iI2Gqw+fspBTkXZZlXpe82YYVL2UaqvnDJAXqj3XM4Lyhfk4BAPXl5p7Z7PVu59Rm5R/TLtgze75qDVIyH+ra0DNDWtc/rMCliw/dq+yjBYDmQZO2SVx5NpXyWTspF7TnHZgyiRbbsCzMXIqotAXHJAXql8tI1lX+3NOgBQDUXBz2zJZC5kPD+OTXa7X4jucl2yapVdJlyb6rE9v3R10aAKB25npDL7f71pFru1d1mexo4a26Thp2CduwJMw0zGQBt/iirj3S366kPpRzJW7Adkd04ume2hcFADeR/5pI3p5Zp9T0n6jentlSKmU+yQ1l/ec9ZD4AAFBPaNI2uKt9qc3O7LBckBdgnfyx64klPdWcbqilyUkKV2mSYuABJikQf+sOrFbgBiU3ZS2JOyKX6NVQL3/YBBAl8l+Dy9szW3jBbCl5e2Z/VpNHstPbT7cncy2Dkko9eTLq5Hp/8J2vH6lFLQAAAAuJJm0Du9q3cqeT9hWf2KGlezO9ta+oOpikQEPqPnhjL1n2koZ2Ncw6EgB1jfzXoG7umTXrLnzyqpCZRp1zQ978a8tfyNT0QqOHn3x/s8kGpJI1nsomxnuGD66p+hQvAABANdCkbVDX+lIDkiu6JdSkXcv2nmuI3UZMUgAAUFPkvwaSt2c20DQXV0pObigne/3TxOKhWj+JReYDAADNgCZtg7kYplsX50YGTcHGvAPzY+bc1mV7Mw0RYJmkAACg5sh/dW7We2ZNGe/0PUskh2qxZ7YUMh8AAGgWNGkbyEiYarOcO25SeurrZhp1cpuWvnC27neyMkkBAEBkyH91aLZ7Zs3rkgIdUyJ4rVZ7Zksh8wEAgGZDk7ZBjISpDp91x4umIsxfznm3dsVLmUxEpS0YJikAAIgU+a+O1Mue2VLIfAAAoBnRpG0AV55NpQLnjhfvE/MXgoRbuyTM1PWlQ0xSAAAQC+S/mLsa3tvpcrknZLZRLmif7v1R7pkthcwHAACaGU3aOvfR7lTayR0vmpBw/kwQuLVLwsxoRKUtCCYpAACIDfJfDF0J72tP5MY3SvaEFHRO+4EY7JkthcwHAACaHU3aOvZR38qNgflBuaB16utObuh6YtGmOExEzBWTFAAAxA75LyYuhunWO3OjG032WKCgVFbKE5c9s6WQ+QAAACbQpK1T1/pS2yQ3UPi68/7VL714fmsUNS0UJikAAIgl8l/Eru1e1SWnx2S5jYVf0heK257ZUh586m+6nQWDKpH5TDqTcEHP91/5WqyaygAAANWSjLoAzN61vtSA5LYVvm7SrqUvnt8fRU0LYXKSwmRMUgAAAKhwz6xN7Jl1Qdn339wzm4zHntlS0ttOtyV0y4Az21x0aBqTbM87Aw/UbaYFAACYCyZp68jFMN26ODcyaAo25h2YHzPnti7bm6nbBiaTFAAAxB75r0YaZc9sKQ/2vtvl5AblVHSxGZkPAAA0M5q0dWIkTLVZzh03KT31dTONOrlNS184eyqq2ubj5iRFUH6S4m0mKQAAiAPyXxU10p7ZUsh8AAAAldGkrQMjYarDZ91xOaWmvm6mUe9tzYqXMpmoapsPJikAAKgr5L8qaLQ9s6WQ+QAAAKZHkzbmrjybSgXOHXeBOqa+bl6XEi22ZkmYuRRVbXPFJAUAAHWJ/LdA8vfMBkWNy0JO/lhOwYnle88dq0V9C4XMBwAAMHM0aWPs2nOrVpuzk84V7Gk1ZYKkrVkSZkYjKm3OmKQAAKBukf/mYdZ7Zp0/4y14LZmwY2Q+AACAxkeTNqau7k51O9nRwsfevPypTxNLNsT1tt5ymKQAAKDukf9maS57Zl3CvRYE/kg9Pi0lkfkAAADmiiZtDH3Ut3JLIB0uPnFHlu4921P7iuaHSQoAABoC+W+GZrtnNjB/zJR4bemLZ8/UqsZqIPMBAADMHU3amLnat3Kfk3YWHTi3Z+m3z4YRlDRnTFIAANBQyH8VNMue2VIqZj5JH//m08P/5hf/512SuiSNSX5I465Xb+24XNtKAQAA4osmbUxcDNOti3IfH5aKw63JepbtzRyJoq65YpICAICGQ/4r4aPdqXTg7HAz7Jkt5aEn31vtzQYD54r++r3Zhf84+vev/Ntf/X//Q9EHzUaV1d00agEAACYkoy4A0kiYasvmRo6qcFeZ+TEpsWHZC+dORVTarN2cpHClJyn+cfzzl979u7OBvD+s9f2jMve63the9xMkAACgmZVv0ObvmT1fl3tmS0mHp1uDT1qel2ln4Ip7995pv1+U3fNv//3fnS7Z23euTS1+QNKm6lcLAAAQf0zSRuxKeF97Ips9KafU1NfNNOq9rVnxUiYTVW2zNd0kxS8/vfLSh//w7/5SzrXln9qQTuzYUKs6AQDAnJD/yrj63MqLLlDH5P/dSHtmS5ku8wXO9bz9nfvPKB22avHtv6nwS13Wie1frmKpAAAAdYNJ2ghdDe/t1Hj2pKaEemli4iLRYmuW1cmtvjOdpPjw3/37D4obtJLkuvXogS1645lXa1AuAADAwgp0TNLOm3tmX6j/PbOlzDTz/TBcMxZBec0lHbZq0e3dCjTRKDcbkw+G9ObTrBMDAKBOMUkbkWvPrVptzk46p/ympSkTJG1Nvewpm/EkxSP97Wpxv6zwS53Sie1rq1gqAACYH/JfGVfC+9pbND5WL/ltLmac+Qqt7/9AcqtL/6r+mE48w7qD2Vr3cqcCf1wq/mchuf068fSu2hcFAADmi0naCFzdneqWckedC1qnvu7lT32aXLLhrnA49tMHs56kuEXtsgq/oBVfMIZZ6N7XISVvTGTbqIZ21M2aDAAA6t2K8KcNe/nVvKdnvfUqcB8UvW42qqzrXfCCG106bJWzo6UbtJJkO9Xd/3MN7airS4cBAABN2pr7qG/lFicdLh5EcUc+TSzZWg8N2oeefG+1v26DgVPZSYofvlIwSTH66wtafPuYpNbCz0iSnKOpOBcTE8qDMk25dM5J6/svyFuP3nym4fbgAQCA2phT5iv05jNntO7AVxUEz0vqkjQm+SFlXa/e2tGwze2qabt9tSz/Losi3v2FJJq0AADUGZq0NXS1b+U+J+0sfN2k/cv2no39Y0nzmqQYDsfUffCATM+X+KXH5Mb3VKHkxtei45JKPELoOhW40+red7eGdtXFbmMAABAPC757duJLY9ZaLQjrmH7riHVM8wYAABBDNGlr4GKYbl2U+/iwZJsLz7y0dfnec7G/MGtBJilGP9uvxXf8lmRTGtV2Y+KTRuKsdR/olpXb8SZJapW1PC+pp1YlAQCA+rYgmQ9V5GaQmWfyHgAAEDc0aavsYphuvSM3clwKuvIOzI+Z3KblL2SGIiptRhZ0kmI4HJO0S+lwj9puX83u1PkKKj/qJklm078HAABA0kO97+6UtK9U5jPvjvi28a0znp5FdYx+dkaLbs/IVVh5ENh3a1gRAABYIDRpq2gkTLX57PXTcvnNNDONOkusXfbi2VhPIVRtkmKiWTu8EDU2uelvkHZi1xsAAKjom0/9uDNnflClViiZLpus551D95+qfWUoMhyOad3Lm+T88dKXh7n9GtrOPloAAOpQEHUBjWokTHXkxt25wm+5zeuSksFXl8a9QTsxSfFB4IrDn3l3xC/Ornz7OzzqFq3skKTK0yzmT9SmFgAAUI8e6n13p/f+nCvRoDXvjmRt/O53Bh6gQRsnbz59Qdd/vVKmTXLaI6c9ku2Sd3frxNOxv+cCAACUNt3W+XJsHp9teFeeTaWCwJ12Tm15B6ZMLplcuyL8aWynGycnKUoF9ZuTFAT1+Hj0wBa54HDpQxvSiR0balsQAKCBkf8aCJkPAAAgXmjSLrBru1d1SbnjckHr1Ne9/Klkwm1aEmamf0Q9IhPTs+55ObUWnpl3R3L6vHf40JrY1t+01h1YrSDxhLyfuMk30KjMva43th+LuDIAQGMh/zUIMh8AAED80KRdQFf7Upud3GDxiTvycWLR1rvC4VhetMAkBQAAmAHyX50j8wEAAMQXTdoFcu1bq0KZPV/4ukn7l+09F9vdUExSAACAGSL/1TEyHwAAQLwloy6gEVzrWzUos83FJ9a7bG/mUO0rmh63+AIAADQ+Mh8AAEB9YJJ2Hi6G6dY7ciPHAwVdeQfmx7wLepbvPRfLnaBMUgAAgDkg/9UZMh8AAED9oEk7RyNhqs1n3Wk5paa+bqZRk21Y/kJmOKraymEPGQAAmIemz3/1omvbBx3jQe4omQ8AAKB+BFEXUI9GwlRHbtydK2rQel3y3tbEsUH7UO+7O73350qFdfPuSNbG7yasAwAA1LeHn3x/czbIlcx8kk5lk+MryXwAAADxwyTtLF15NpUKAnfaObXlHZgyQdI2LAkzlyIqrSQmKQAAwAJp2vxXD9LbT7cncy2DkrpKHI86ud4ffOfrR2pdFwAAAGaGSdpZuLZ7VVcisA8KG7ROGg6StiZuDVomKQAAABrfw0++vzmZa/lQpRu0p7KJ8btp0AIAAMQbk7QzdLUvtdmZHZYL8i5ecPLHrieW9NwVDo9FVVshJikAAEAVNF3+izsyHwAAQOOgSTsDV/tW7nTSvuITO7R0b6a39hWV9/CT72822YBUsI5hwqlsYrxn+OCay7WuCwAA1L2myn9xR+YDAABoLMmoC4i7Xz13z2GTthSfWO/SvZlDta+otMlJCpMxSQEAANCgyHwAAACNiUnaMi6G6dbFuY+Pmqw778D8mHdBz/K9545FVFoRJikAAEANNHz+izsyHwAAQOOiSVvCSJhq895OyoK8C7fMNGqyDctfyAxHVdtU7CEDAAA11ND5L87IfAAAAI2PJm2BkTDV4XN2Ugo68w7MX855t3bFS5lMRKXlYZICAADUWMPmvzgj8wEAADQHmrRTXHk2lUoEdlIuaM8/8ReChFu7JMxciqayLzBJAQAAItKQ+S+u0ttOt7UkkofN3MaiQ9OYk3p/MHD/qxGUBgAAgCqgSXvDtd2rukx21LmCKQXnzwSBW7skzIxGVNpNTFIAAIAINVz+i6sHe9/tcnKDcmovPDPpTMIFPd9/5WsXoqgNAAAA1ZGMuoA4uNqX2izLHXYuaJ36upMbuh4s2XRXODwWVW3S1EkKY5ICAACgHnQPtMnGt0juG5K7JLMf6Y3tFS+eTW873ZbQLQPO2eaiQ9OYZHveGXhgf9VqBgAAQGSafpL2at/KnU7aV/i68/7VL714fmsUNU3FJAUAAIiJhsl/Vbfu5U4FdloqzG/+mE48s6nUR8h8AAAAza2pm7S/eu6ewxYEWwpfN2nXsr3nFnZKoftgWlJa8hl97s7orR0V1xLcnKQIyk9SvM0kBQAAqJ2GyH81sb7/A8mtLnnmrEdDO27eH0DmAwAAgNSkTdqLYbp1ce7joybrzjswP2bObV22N7NwF2917+uQJY7mBXWzUQXWo6Fnhkp9hEkKAAAQQ3Wd/2rmkf52tbhfln+DDenEjg0SmQ8AAABfaLqdtCNhqs37kZOmIG+6wUyjTolNy/aePbWgv2EuMaigYJLCuTaZO6rufXdraNelyZfZQwYAAFDnEtZRsZdtroPMBwAAgEJB1AXU2pIwM+oskb9qwPxl723N0hcWuEHb3Z9S4NJlTltlLU9M/h8P9r7blXQtH5Z61M2kM0EQrORRNwAAgJj75DeZSse/fcfyj8h8AAAAKNR0k7SSdD2xaNPi3PWTNrEj9kKQdGuXhplL039ylrzrrPxQoO9kkgIAAKCBDIdjWv/yfsl2Tn05GST0lWW/l/vyncseLvoMmQ8AAKDpNd0krSTdFQ6PuYRtkNyRIOG+uqQaDVpJCqziDrHfWbRCTFIAAAA0mOuf7pHczQy35NZF+tp/usp/+c5licK3kvkAAAAgNenFYTWTDlu16PYP5JSa+vKUSYqioM4tvgAAIKbIf7N0558f+soft939rTtuuf2/KnXunfb/8JX7d9W6LgAAAMQPTdpqW/dypwJ/XHKd0sQkxT9f8Z/ZLcmWor9/3OILAABijPw3Cw89+d5qbzYYuIkMOJU3uxA41/P2d+4/E0VtAAAAiB+atLWQDltbvnTHv/6jf/KV/3L5rUvuL/UWJikAAEDMkf9mIB2ebg0+aXk+MO0sde6d9vs7x/cMh2vGal0bAAAA4qspLw6rtYdWPZTyZv9NpUmKH77CJAUAAEA9e+jJ91b76zYYOJH5AAAAMCtM0lYRkxQAAKCBkP/KIPMBAABgvmjSVgl7yAAAQIMh/5VA5gMAAMBCoEm7wJikAAAADYr8NwWZDwAAAAuJJu0CYpICAAA0MPLfDWQ+AAAALDSatAuASQoAANAEmj7/kfkAAABQLTRp54lJCgAA0CSaOv9986kfd+aUO+rMpQrPTLrkpE1kPgAAAMwVTdo5YpICAAA0mabNfw/1vrtTcs/LqbXwzLw7ktPnvcOH1oxGURsAAAAaA03aOWCSAgAANKGmy3/ffOrHnTnzg05aXXRoumyynncGHjgVQWkAAABoMEHUBdSbh3rf3em9P1eyQevdkZwfX0mDFgAAoL7dzHwlGrTm3ZGsjd9NgxYAAAALJRl1AfVicpJClSYpDt1PUAcAAKhjZD4AAABEgUnaGWCSAgAAoPGR+QAAABAVJmkrYJICAACg8ZH5AAAAEDUmactgkgIAAKDxkfkAAAAQB0zSFmCSAgAAoPGR+QAAABAnTNJOwSQFAABA43u4970tZD4AAADECZO0YpICAACgGaS3n25P5loGTeoqcTxqzve8c+hfDP5WdaEAACAASURBVNW8MAAAADS9pp+kZZICAACg8T385Pubk7mWD1W6QXsqmxi/+51XaNACAAAgGk07ScskBQAAQPPwXt9wgdoKXh51cr0/+M7Xj0RSFAAAAHBDU07SMkkBAADQXHL6vFemy1NeOpVNjN9NgxYAAABx0JSTtExSAAAANJfhQ2tGH+x9t8fJHSXzAQAAIG7cHD9n8/hs5NLbTrclXcuHcmq/8dKpbGK8Z/jgmssVPwgAANC86jr/TUpvO902fGjNaNR1AAAAAFM1ZZNWkh7sfbfLOSYpAAAAZqju8x8AAADQaCzqAhZCetvpwpUHAAAAKK0h8h8AAADQSAjpAAAAzYX8BwAAAFRJEHUBAAAAAAAAANDMaNICAAAAAAAAQIRo0gIAAAAAAABAhGjSAgAAAAAAAECEaNICAAAAAAAAQIRo0gIAAAAAAABAhGjSAgAAAAAAAECEaNICAAAAAAAAQIRo0gIAAAAAAABAhGjSAgAAAAAAAECEaNICAAAAAAAAQIRo0gIAAAAAAABAhGjSAgAAAAAAAECEaNICAAAAAAAAQIRo0gIAAAAAAABAhGjSAgAAAAAAAECEaNICAAAAAAAAQIRo0gIAAAAAAABAhGjSAgAAAAAAAECEaNICAAAAAAAAQIRo0gIAAAAAAABAaW2SuqMuohyLugAAAADUFPkPAAAAzahDE1n4nGLYrCWkAwAQbx2S0lEXgYZC/gMAAEAzmmzSTv4nVs1aQjoAAPGW1sS/r0+LZi0WBvkPAAAAzaiwSRurZi0hHQCAeJts0k7+h2Yt5ov8BwAAgGZUrkkbi2YtIR0AgHgrbNLSrMV8kf8AAADQjKZr0i5Is9bN8XM2j88CAIDqS2uiIVvOsKQ9N/4nMBM0aQEAAIDpnZG0QdLlWvxmhHQAAOKt3CQtk7WYK/IfAAAAmtFMJ2l/I2lAUvtcfpPkPAokqAMAUP/SN/4zJKlH0mi05SDGmLoGAAAAio1JelXSAdVoenYqGrQAAMTbTCdpRySFktqiKRMAAAAAYq3cJO28JmcXSqUddwAAIHrTNWlpzgIAAADA9AqbtLFozgIAgPpQrklLcxYAAAAAZm6ySUtzFgAAzFphk5bmLAAAAADMXrtozgIAgDmabNLSnAUAAAAAAACACKREcxYAAAAAAAAAAAAAAAAAAAAAAAAAAAAAAAAAAAAAAAAAAAAAAAAAAAAAAAAAAAAAAAAAAAAAAAAAAAAAAAAAAAAAAAAAAAAAAAAAAAAAAAAAAAAAAAAAAAAAAAAAAAAAAAAAAAAAAAAAAAAAAAAAAAAAAAAAAAAAAAAAAAAAAAAAAAAAAAAAAPz/7d1vzCVVfcDx77bPLqukL6CxEe0S16YIASUpRCyusmIJlLBmqU38k7AmayO2aNKijZW+AFsLrQqh2IZCstsIEWpiXERjlrQqtKwthCWVShY0kQptbWsCL4SGXUi3L35zes8zd2buzNy5f57n+X6Sm+d57s6dOXPm3L1nfvec35EkSZIkSZIkSZIkSZIkSZIkSZIkSZIkSZIkSZIkSZIkSZIkSZIkSZIkSZIkSZIkSZIkSZIkSZIkSZIkSZIkSZIkSZIkSZIkSZIkSZIkSZIkSZIkSZIkSZIkSZIkSZIkSZIkSZIkSZIkSZIkSZIkSZIkSZIkSZIkSZIkSZIkSZIkSZIkSZIkSZIkSZIkSZIkSZIkSZIkSZIkSZIkSZIkSZIkSZIkSZIkSZIkSZIkSZIkSZIkSZK0zm0HngUOA6/Mnl8B3g5ctIhCzVnfc62rO2kt2EjvcUmSJEmStIGtAB8GHgGOZ49DwCeoD+ytAPcCR4E39zzOkQnHSOoCjTuK/bQtw6ylcj4PvGrCNseB9zbs68Zim+uKv/ue63oN0nZtfxpWqv/jFY/7gd0DHWfZ3uPSuray6AJIkiRJ2jh+7eoHj8/7mCv/+7PbD978q/867+O2sIMItJxU/P0EEdA7Azi/ePwR8Dbg4SmOswJ8BdiVHecF4BzgT4G3AJf32O9LwHPAvwFPTVG+ofwY+ClwKvBO4G8qtnkto/o+vWY/K8AvA8eAbxTPNZ3rjcDVwPtqjrnM1nLZFdL/GxD/Z1xQPPYDH5xy30O/x21vUoOfWXQBJEmSJGkD2s4oQLsfOJEIzr4VOJkINN4PbAG+Rf3I0Db2EAHaF4CziuOcC2wGbphivw8VZX0T8JMp9jOUF4EvF7/XBWDzYPQuqke3biMC6C8xCkwt27lKEF8kfID4f+OtwCbgkuLf9tI8WrwN2700RwZpJUmSJGm+VoA/JwK09xCj3f6ntM0zwK8DTxMB3KumON6Zxc/PAY9nz78MXEO/UbTL6kDxsyoAm0bIJm8g6rbsHcS1+VsMTGntuQ+4qfj9PYssiKRuDNJqLXHBAhcsWCtsq5IkqclbGI1s/VDDdi8Cnyp+rxv1uUh1fZ70/AFGuXBTHtijwMca9rkNOMjqHJt3MAo0T/LvxPTsqgBsGiH7deC24t/fWbGPdKwvVZxTfq57i/JdXfx9d1bm6xjXpy5uybZPeYSvqNi2qb+f5y9NIyu7ln0Iba5tKteBsVeHuvNs227KbfMWxnOulq9TU72n7a8vbZ8/qnIkT9vOJ0lfxpzKeHsYol11fY8vor1J0prlggXDccGCxejbhmdhrbRVSZK0GJMCUbnUryj3H7r0w9Px+vZBJgVq6p4/CHw7O3YeFKoKzOzItrmLCKTmr297v1EOSOb7T8euuwZbgR8x3pevOtfzijKm/uf9xd+3AZeVXvcY/esi9Wnzv8vl7hqkbVP2Jl3vA9te23SN6u6l0nXL66xLu0n19DVGdXKEUd3k92mPFfvKg6nla5XXbdr+29n2dwE3M35PMFQ7r9s+1VPV/cgQ7arre3za9iZtCBt24TAXLFjFBQuG5YIF3U1b9nm14VyfMi9bW5UkSYuRRst9t8W2qW95EvB6+vVl7gKuJfqnDxE5cP8YmPW9ycVEX3YPcGf23EHg48BfMkonsBX4IpGD9yxWp2VIr7mV6M+VU0PkXiZSSOwipnrn/bTLGfWtf0L0y9JIw7TPU4CfA54k7lWaPFQ8biTuaf6K+n7hG+leFycRI6nzYNeFRN7d3URQsW+/v0vZp9Xl2v4TEUDdxfi91Apx3vn9Ud92c1mxn/NY/Z7aQfTV31ba1w7gHxi/Vinf8z2svpfdC+wDXgH8bs+6aGrnk6T/Y76W7WcW7arte3ye7U1as0x3IBcsGJ4LFszXPNvwtLx+kiSpnBd1kpdpF8xt8iLwS0TABiKA9BTDTq+ucowINt2ZPffNohybiX5c8n6i31bOm5u/5qziMcn3i5/5VO9U76lv/QzwYMU+Uz7aPLg1hD51cQ/jIze/RQS/AH6ftTFLrsu1TUF2GM+nmu6Pvlc8uu677AOMf+nxINFXL+/rESI/dPlaVaXGgBhdmn8JkAzZzqusAB8lBpPkwez82EO2qy7tWtIEG3YkrYDqBQvK0oIFTxL/oV9F/5wxkxYsWE8OEB+Mu4DPsLqDV7dgQbkTmDqI92BAr86827AkSdJa9TLwLmIQwa3ATiIH5XuIYNUsRrXlwbS8HD8g+sn5yOB0r7CTmAJdtqPDcVNALQW7HmYU4MsXA0vluLRUjnJwawht6yKNFoXxwF+SAoB19xHLpuu1Ted3ETHAIl2vdH90C6Nz7ttuHiUGerSVvix5dcW/HQN+2HI/Q7ZziIEoXyBmEULMIExlyoPQs2pXXd7jkiZwJO3G5oIF9VywYHV5l3XBgiHa8DzLPCk38JALHkiSpOWUAhhtrQBn0y0Q1OQJItiVzzb6AovtQ+SDGC4g+nXlx0nVL62UZrZtIYJEMEo3lo9KTvk3zy5+bgV+k9Uz2Ral6XqnFBhrQZ9rm0Y55/dJVakOhm435XLvIgYY3UZM268KoD5OtLNPlp5PAeWnGQU7Z1Xe0xmleDtGjGr9Faq/eFkv7UpalzbsSNq/u2nHpkWXYQmcVvzMv02uk75Vy7+N7iqNnv0k8cE6r2/UXkGc407iQ+k54sPvc0S+qXJgLc9vejfxQXUao5EGbfKapo5FVS6l1EE8THxoX8l4vqzUQXyBmC7S5HHgdiK3zznAA8SoUYhRBLnNwFfpVxcA3yFSCZxOBA9/g355hPuUvcq82zBMX+Y6fdpdnuf5CeK6+G21JElrx9mTN/n/HKlDBw7Ls43y0aSLNNT6CmlmW+pn5/lokzTiNo3YfAOj6eDOZBte22tblVe4KtVBn31PsgLcRKQMqHKs9HfK97ybWDjsH4k+/E6aB5IMVd6UbmAZ3ruSpuRI2o2tz4IF+bfRXd1FdIK2ELk59wGv67mvLi4mvlXcA5xA5AS9pPi3j7M6R2k5kfv7iSDqO4rXbCGmh00aTdyUSynvINblKuq6YMGVRLAQIgn7lcXj66Vt30j3ukiJ5TcxyvP6zqLcKbF8X13KXmXebRimL3OVvu3uMqJ9n0cEzzdhAn5JktaCNIIzBQebpBF5bfqFXeVrKaw3aWbbRcBrWJ2PNklT2NOIzTQAoG46+Dw19VnTvcJ6Vk55MKtcwWV/RgRo/4Xol28qHpsZ5XTO/QlxL3c38ItEUHYnMZr1PJYv2L/R25W01AzSblwuWOCCBclaXbBgEW14VoZe8ECSJC23NILzRCJffp2txCg9gM+y/LlH+2oa4NBX6mdvJqaWl/PRlo97FjEAoc1MtlnK02HU1UW6V6iaTVaVbi2lzFiEvtc2T3lwCeOpDqbZd510f3EM+C3G++Vlafbjo8X2JzMK6u6peP0s2nlb07YrSXNgkFbzlhYsOIPIgQUxnftRphuR2aQpmXn5m8RyIvf8UZeHqE55wQIYX7AgL8elpXLMe8GCvC76JJZXf33bXdcFDyRJ0nLI8+VfC3ya8S+9LwT+g/gid5rP/O3EjKIrKo6xl+pV4Bch9S13U732wTaaA9plKSC2BfgI4/loy8d9N9Hn6jNiOQXjhgq8/QX1dXEx8cX+MeCG7Pk8qJnX0zZGKS2qDF32Kn2ubR7QvIb6VAdDtxuoHm26h0i/kEsj0dsO4oHZlLetPu1qaPNob9KaZZB243LBgnEuWDBumRPLL7oND2WWCx5IkqTltR/4YPH7HxKBwSPAIWJB0G8SfYBHiZlQdaNoUz/6UMUj9a1PIGavlY+xr/j3ZZiZ8xSjmVp3EOVMX1qnwQ976TaDK81sSwsqVQWiU5/2dPrPZEvH2U0s5Pos7RbBrVOui+PENXuWWGT2JCKQll+zPKh5bVGOVG8/D3x+RmVv0/76XtsU0EzXpmo0+ZDtJq/Du4l0fWk/+2peczPwn0RKtHzx3yPEfe7u0vazaOdt9WlXQxv6vSKtKwZpBcuxYEHKVXtp8+Zz8z5GU1XKjxNo/8GVArDpm8I2CxacSwSvnWbS3iLb8JCGaneSJGlt2E/0+z7PKBiVAooPEH3Hc5gcNMxXd88fryf6PWcSwZfDpWPcSYwAXJac9vuJGXf3EeVMX1gfBf6A5mB1ldTPhvoFp/K8vH1HFD9ITMl/jrinOZEYlDKN/USe3PuKv88ngmgPENesKrC1v1SOc4rnfgH45xmWvan95WXrem2fAf66+L0pDcWQ7SbV4WGib/4hol4uJxYUy60Qs95OJXLY3p49fkQMwDjA+LUaup130addDWkW7xVJWhd2EN+ePc/kBQv2FtseZvW3eivE1KujTDcK9sZi/00fCtuJb9rKZej6fPmYKc1COpf8uWmlMjxPLFhwL+P1XT7uXurL0HRO5fNp+7qq17api/zcXlV6ruo4TftsKnuTIdrwLMrcpU32aXeTrqckSZKk2Ur3InV9cvvskjpxJO3G5oIFq7lgwchaWbBgyDa8qEUWFrmAgCRJkqTpPE31/cVpmLZMUgcGaTc2FywY54IFI2thwYIh2vAyLLKwyAUEJEmSJHX3CKO8s0cZ5bBN+WUPEvdLv836HegkSRpYmgaeJzk/VHqubopGPlU7va4qYXya6tF0jElTvWed7iDJ66OcyL2pLuqkaTDHqU8LsZXIW5S2q0v70HRO5ePkSdiHqIs8sXxTOfPXpAULUkqCW2qO01T2NqZpw7Moc5822aXdOXVKkiRJWrwV4MOM+ux5f34f8LrFFU2StFZtI4JReQDuKNUrUubyIG3dIwW3TgGuZ/UH2FFiZckzW5RxXkFaiATuB0vncQj4RM2+muQB2KagWipPU37fSed0MaNreJTRuU1TFxcyXhf303zN8nKklYNfSXO+3bqyt9W3Dc+izH3bZNt2Z5BWkiRJkiRJkiRJkiRJkiRJkiRJkiRJkiRJkiRJkiRJkiRJkiRJkiRJkiRJkiRJkiRJkiRJkiRJkiRJkiRJkiRJkiRJkiRJkiRJkiRJkiRJkiRJkiRJkiRJkiRJkiRJkiRJkiRJkiRJkiRJkiRJkiRJkiRJkiRJkiRJkiRJkiRJkiRJkiRJkiRJkiRJkiRJkiRJkiRJkiRJkiRJkiRJkiRJkiRJkiRJkiRJkiRJkiRJkiRJkiRJkiRJkiRJkiRJkiRJkiRJkiRJkiRJkiRJkiRJkiRJkiRJkiRJkiRJkiRJkiRJkiRpfdgOPAscBl6ZPb8CvB24aBGFmrO+51pXd1KdjfS+kiRJkiRJWgorwIeBR4Dj2eMQ8AnqA3srwL3AUeDNPY9zZMIxkrpA445iP23LMGupnM8Dr5qwzXHgvQ37urHY5rri777nOmSQtus117BS/R+veNwP7B7oOMv2vpI0Jz+z6AJIkiRJ0ga1A/hv4FbgHOAJ4DvAc8D5wJ8Wv08bqFkBvlI6zmHg9OIYX+y535eK8j0JPDVlGYfwY+CnwInAO2u2eS1wUvH76TXbrAC/DBwDvlE813SuKaDbFPTV+pLeq98p/r4AOADsG2DfQ7+vbJ/SGmGQVpIkSdLcHIfjC3i8btHnXWE7MSrvJGA/EVg8A3grcDJwKjE6bwvwLepHhraxB9gFvACcVRznXGAzcMMU+32oKOubgJ9MsZ+hvAh8ufi9LgB7efb7LqpHt24jAugvMQqSLdu5anGOAR8g3qtvBTYBlxT/tpfpg6G2NWmDMkgrSZIkSfO1Avw5EaC9B/gg8D+lbZ4Bfh14mgjgXjXF8c4sfn4OeDx7/mXgGlYHLte6A8XPqgBsGiGbvIGo27J3ENfmbzFIpnbuA24qfn/PIgsiae0ySKu1xAULXLCgie1DkiStFW9hNLL1Qw3bvQh8qvi9btTnItX1v9LzBxjlwk15YI8CH2vY5zbgIKvzfd7BKNA8yb8TU8WrArBphOzXgduoT4uQjvWlinPKz3VvUb6ri7/vzsp8HeO61sUQ2tRnOo8DY68Odde57bUqt4dbGM+5Wq6blDP5ipoyrQDXl7bPH1V5iadtW5OkL0BOZfy9uo047zbnN9T7qmv7lCQtCRcsGM56X7Ag17fdzMJaaR+SJG1opjsAJgfFcqmPU+7LdOmHp+P17Q9NChrVPX8Q+HZ27DxAVRUk2pFtcxcRSM1f3/Z+Iy3uVO5np37hddRfg63Ajxjvy1ed63lFGVNf+P7i79uAy0qve4xuddF0bm3rom19pnqpu39JdZWXs8u1SnXwNUbX5gija5TfGz1W7CsPppbrJ7/GaftvZ9vfBdzM+D3BUG2rbvtUT1X3I/n1PlT6u9wGh3pftWmfkrR4dg5XKX9oHGH8g6Pug6hLR6G8GuYRVgf3JnVS6z6szmPU8ZkmV9dQUseuKQCbOkJNnbKqum0616aE8LMI0k7Tbvrqc47L1j4kSZLKX8Q3qetbdumH5/s4Tixu1OXepG+QNvUH89GCF1MdEMyDo+WRjek1bfuydQHYGxnVV99zqipDmz5ql7qo0+eat6nPpsB21TG7XqtyHZTLvoPoq5f3VRc8rru+bQLv07StSfVf9b7O33vl9/uFVA/cGfJ9lZfLhcOkJWe6A7lgwfA2woIF82w301qWOpMkSYLxvKiTvAx8d8pjvgj8EjGSESKY9RTDTvWucgx4G3Bn9tw3i3JsJvqUyfuJPmQ5b27+mrOKxyTfL37m085Tvae+9TPAgxX7TPlov8Z4nuBpdKmLIXSpz5eJ3Mgwnk813ZN8r3h03XfZB4CHS889SPTVy/t6hMjJXK6fqnQUEKNLn2M83cCQbavKCvBRIq3AMeAbFce+h/Eg7beAjxe//z7tB9PMuy1JmpOVRRdAC1W1YEFZWrDgSeLD5Sr656+ZtGDBenKA+JDeBXyG1R28ugULyp3A1EG8h+UKLs673UiSJGl6LwPvIgYR3ArsJEbivYcInP3NDI6ZB/bycvyA6Ce/nlHALt0r7CSmY5ft6HDcFNxLgbeHGQUb88XAUjkuLZWjHGgbQpe6GELX+kwBzouIARapjtI9yS2M7lf6XqtHiYEebaUvKF5d8W/HgB+23M+QbQtiIMoXiFGtAOdnZcqD0CvA7uL3ckA5SfVed09YZd5tSdKcOJJ2Y3PBgnouWFBviHbTNF2sarrVNEnvJ6V6GHLBA0mSpElSMKWtFeBsugWlmjxBBN7ymU9fYLH9mXwQwwVEH7P8OKnD/tLMti1EwArgtcU+8lHJaVr82cXPrcBvsnom21rUpz7TyOL83iQFGfOg9dDXqlzuXcSgntuAv6Q6gPo4cW0/WXo+BZSfZhTsnFV5TyeCs+cT9XMn8CtUf9nR9N79MfDTHseXtA5t2CDtJti0gMe/Lvq8S04rfubfJtdJ3/BNMw0kjZ79JPPtBL6COMdbiU7Hc8SH+ueoX7Dgu0Ren7uB24kO7BXEt79tyl7VyUlSB/Ewo284y9OKUgfxBWLqSpPHizIeLv5+oPj7dmIUQW4z8FXa10WVebcb6HaOXfS51ivAV4gpTU+wuvMvSZLUxdmTN+EU4OcYPnCYZj49TfRnLh1w39N4H7Cp5nEC7UcIpgBs6mdfzvgI2TTiNo0ePZcIXrfp564VbeuzKuVBVaqDPvueJA2AeIkYrPExmgOodxHXbTerFw7bR/NAkqHKe4xY9yJ/7R7GUylIUicbNkgrYDRSsE2Oq/QN3zQBqfRhuoXIE9p1wYK+Lia+4dxDfICeDFxS/NvHGV+w4ItFGc8icghdSXwre0nx/K1MHk3clNcp7yDW5U1KnfEniY5Gk4eKMj5Q/P1Xxd9XEqN1c2+kfV3UmXe7gW7n2Fbfa30Z0abOI/LwbmI20wMlSdL6lQKIKTjYJI0ObNMv7CpfS2G9STPbLgJew+p8tEmaTp8GVqTBCHVT09e7csqDWeXnLfszYgDEvxD98hT83Mwoj3LuT4j7p7uBXySCsjuJ0aznsXwB9qZ7oXTfJ0kGaTcwFyxwwYKkS5L5RbSbWRl6wQNJkqS20gjOE4nc/XW2AtcWv3+W2QbKFqlpgENfqZ+9mZjmXs5HWz7uWcTIzDYz2ZZd3/rMZwNewniqg2n2XSfdXxwDfovJo1HTjMNHi+1PZhTUrRrNOou21Vae2qTu2Om+bz2N3pbUk0FazVtasOAMYlo5jKaWv7fuRVNqSqxe/laznFQ+f9TlRKpTXrAAxhcsyMuRTzFbxIIFG23aft9r3XXBA0mSpLI8d/+1wKcZn71zIfAfxJfK0/Q/thOzm66oOMZeqlekX4Q0inM3UdaybTQHtMtScG4L8BHG89GWj/tuov/XZ8RyCgzOOwjYpE995gHNa6hPdTD0tYLqe5E9RI7aXBr93SWd2izK29ZfNBz7YmLAyDHghhkdH5azfUqqsLLoAmhhlmXBgm3ESNqdxIIFP2RxIxTLSeUvqNnuWMv9pQ7E1YxW2KxbsOBq1saCBYtuN0MZ+lpLkiR1tb/4uQ/4w+LxBLFQ6fnZdo8SM6HqRtGWV5rP/R4xMOAEos99R80xlmGW0FNE+q19RDmvAf6++LdzisejwF/TfkRxmtmWFneqCkSn9FynF3/f0mH/5ePsJhaVfaHYT9s1H7qadM0fpn99poBmqo/fYbw+hrxWKTC8i0hf8C7ieqT9VLmZuF96qPT8E8B/Ff9+T/b8LNpWW+Vj3wF8hxi0lPLtforZvv/m3T4l9eRIWoELFlRxwYLJFtluhjTUtZYkSepqP9Hv+zyjwFgKKD5A9B3PYXLgKF9pPn+8nuiDnUmM1DtcOsadxGjEZcmvv58IXt1HlDMtHnUU+AOag9VVUj8b6he/yvPy9h1R/CCRHiAtynsiETCcpaZrnvSpz2eIYCU0p34Y8lrtJ+rvMNE3/xBRj5cDN5W2XSFmvZ1K5LC9PXv8iBh8cYDxAOTQbauL/UTO4/uKv88nArQPEO+/WQdLF9E+JUkd7QCOA88zecGCvcW2h1k9TWqFmHp1FHjzFGW5sdh/0wfUduLb4nIZuj5fPmZKs5DOJX9uWqkMzxMLFtzLeH2Xj7uX+jI0nVP5fNq+btJry4ZoN03laboOfc6x6vk+13pSHUqSJEmarXQvUtcnt88uac1yJO3G5oIFq7lgQTtDtps3FPvJpRQJs7TIBQQkSZIkTedpqu8vTmOURkCS1hSDtBubCxaMc8GCyYZoN/nKsXl9biPO/dSaYw95jotcQECSJElSd48QC1Cn/Kp3MVr89xHgIHFf+dus38FFkqR1LE1JT48jwKHSc3XTRfJp4+l15cebGU07aTrGpGnns053kOT1cYTVH/pNdVEnTck5Tn1aiK1EDqW0XV3ah6ZzKh/n2Ww/Q6Y7SKZpN+XXH2VUv88TieyrytPnHJvOvcu1duqUJEmStHgrwIcZ9dnz/vw+4HWLK5okSdPbRgTG8kDqUUbfUtbJg7R1jxRoOwW4ntUfpkeJFS7PbFHGeQVpIZLJHyydxyHgEzX7apIHYJsCfKk8Tfl9J53TxYyu4VFG5zaLIC30bzdV5T1OdKpeSXNe3q7nOOnc215rg7SSJEmSJEmSJEmSJEmSJEmSJEmSJEmSJEmSJEmSJEmSJEmSJEmSJEmSJEmSQcMGrwAAAJtJREFUJEmSJEmSJEmSJEmSJEmSJEmSJEmSJEmSJEmSJEmSJEmSJEmSJEmSJEmSJEmSJEmSJEmSJEmSJEmSJEmSJEmSJEmSJEmSJEmSJEmSJEmSJEmSJEmSJEmSJEmSJEmSJEmSJEmSJEmSJEmSJEmSJEmSJEmSJEmSJEmSJEmSJEmSJEmSJEmSJEmSJEmSJEmSJEmSJEmSpCH9H0eCGFZlgsLqAAAAAElFTkSuQmCC)\n"
      ]
    },
    {
      "cell_type": "markdown",
      "id": "3l7Du9WCRKH9",
      "metadata": {
        "id": "3l7Du9WCRKH9",
        "editable": true,
        "deletable": true
      },
      "source": [
        "From Figure 1, we can see an outlier in the dataset; this outlier will pull the regression line closer to the outlier because the outlier has the largest distance from the regression line compared to other data points. We know from the required reading from Module 1, Lesson 1 that OLS regression minimizes the squared sum of the residuals (the distance between the data points and the regression line) to obtain coefficient estimates. Since the distance between the outlier and the regression line is the largest, the minimization mechanism will naturally pull the line closer to the outlier in order to get the smallest sum of all distances from data points to the line.\n",
        "\n",
        "So what can we do with outliers? Remember from the last lesson how we used weight to adjust each data point's influence in weighted least square (WLS) regression. Although WLS was used to tackle unequal variance in error terms, WLS can also give less weight to a data point further away from the rest of the data points. Hence, **WLS is one option**.\n",
        "\n",
        "When there are only a few extreme points in the dataset, we can use a scatter plot or a residual plot to detect the extreme points. However, when there are many extreme points in the dataset, it is difficult to manually remove or even detect them. We need a method that can address extreme points in the model. The weighted least square regression model shown in the last lesson is one of the methods for handling extreme points. **Robust regression is another method** that we will introduce in this lesson."
      ]
    },
    {
      "cell_type": "markdown",
      "id": "rhrDqaIeRKDo",
      "metadata": {
        "id": "rhrDqaIeRKDo",
        "editable": true,
        "deletable": true
      },
      "source": [
        "## **2. Robust Regression**"
      ]
    },
    {
      "cell_type": "markdown",
      "id": "hN9tYt_TRf6Z",
      "metadata": {
        "id": "hN9tYt_TRf6Z",
        "editable": true,
        "deletable": true
      },
      "source": [
        "In the last lesson, we learned that a weighted least square regression model applies weight to its objective function in order to reduce the impact of extreme points. **In robust regression, different objective functions are applied to reduce the impact of extreme points**. There are several methods for choosing an objective function using robust regression. In this lesson, we will focus on **M-estimation** and will briefly talk about other methods later on in this lesson."
      ]
    },
    {
      "cell_type": "markdown",
      "id": "69BWC392Rf1H",
      "metadata": {
        "id": "69BWC392Rf1H",
        "editable": true,
        "deletable": true
      },
      "source": [
        "### **2.1 M-Estimation**"
      ]
    },
    {
      "cell_type": "markdown",
      "id": "yk80zeB0Rffe",
      "metadata": {
        "id": "yk80zeB0Rffe",
        "editable": true,
        "deletable": true
      },
      "source": [
        "#### **2.1.1 Basics of M-Estimation**"
      ]
    },
    {
      "cell_type": "markdown",
      "id": "C3GSO4jpRfXu",
      "metadata": {
        "id": "C3GSO4jpRfXu",
        "editable": true,
        "deletable": true
      },
      "source": [
        "We introduced the concept of objective function in the last lesson. An **objective function** is a function we would like to maximize or minimize. In a simple OLS regression, we minimize the following objective function:\n",
        "\n",
        "$$ RSS (\\beta_{0}, \\beta_{1}) = \\sum_{i=1}^{n}  e_{i}^{2} = \\sum_{i=1}^{n} ( Y_{i} - \\beta_{0} - \\beta_{1}  X_{i} )^{2} $$\n",
        "\n",
        "with respect to the coefficients $\\beta_0 $ and $\\beta_1 $ and compute $\\hat{\\beta}_0 $ and $\\hat{\\beta}_1 $ by solving the two equations associated with the first order conditions.\n",
        "\n",
        "According to the objective function above, we want to minimize the sum of squared residuals for OLS regression. We already see that using squared residuals can put more emphasis on outliers when minimizing the objective function. A squared function is a **quadratic function**. When $f(x) = x^2, \\ f(x)$ is the quadratic function of $x$. Since a **quadratic function of residuals from OLS puts a lot of emphasis on outliers, *M-estimation* proposes other function forms to avoid this issue**.\n",
        "\n",
        "*M-Estimation* proposes the following objective function:\n",
        "\n",
        "$$ \\sum_{i=1}^{n} \\rho (e_{i}) = \\sum_{i=1}^{n} \\rho (Y_{i} - X_{i}^{t} \\beta ) $$\n",
        "\n",
        "We can see $\\rho $ is the contribution of each residual to the *M-estimation* objective function. $\\rho(\\cdot)$ should have the following properties:\n",
        "\n",
        "1. $\\rho (e) \\geq 0 $  i.e. $\\rho $ cannot be negative\n",
        "2. $\\rho (0) = 0$ i.e. When the argument of $\\rho $ is 0, $\\rho $ is also $0$\n",
        "3. $\\rho (e) = \\rho (-e)$ i.e. $\\rho $ is symmetric\n",
        "4. When $|e_{i}| > |e_{j}|$, then $\\rho (e_{i})> \\rho (e_{j})$ i.e. $\\rho $ is monotone\n",
        "\n",
        "Let's take a quick look of some $\\rho$ examples. **Two of the popular $\\rho$ functions are $\\rho (e) = e^{2}$ and $\\rho (e) = |e|$. We will talk more about them later in this lesson**.\n",
        "\n",
        "We then take the partial derivatives of this objective function with respect to $\\beta$ and set them to $0$. We will get the following equations:\n",
        "\n",
        "$$ \\sum_{i=1}^{n} \\frac{\\partial \\rho}{\\partial e} X_{i}^{t} = 0 $$\n",
        "\n",
        "Let's assign $\\psi (e) = \\frac{\\partial \\rho }{\\partial e}$. $\\ \\psi$ is called an **influence function**.\n",
        "\n",
        "We can rewrite the above equations as follows:\n",
        "\n",
        "$$ \\sum_{i=1}^{n} \\psi (e_{i}) X_{i}^{t} = 0 $$\n",
        "\n",
        "Let's define a **weight function $w (e) = \\frac{\\psi (e)}{e}$** and let $w(e_{i}) = w_{i}$.\n",
        "\n",
        "We can rewrite the above function again as follows:\n",
        "\n",
        "$$ \\sum_{i=1}^{n} w_{i} e_{i} X_{i}^{t} = 0 $$\n",
        "\n",
        "\n",
        "**Why did we do all these steps?** If you look at the above equation, it is the same partial derivative equation from the WLS lesson. **We have transformed the *M-estimation* to weighted least square regression**.\n",
        "\n",
        "Now, we have to calculate the estimates of *M-estimation*. From the above description, it is the same as solving a WLS problem. From our weight formula, we know the **weights depend on residuals**. The **residuals depend on estimated coefficients**. The **coefficients depend on weights**. It is a **circle**. We usually would start from estimating the coefficients using OLS. Then, we'd get the residuals and estimate the weights, and we would estimate weighted least square regression and repeat the whole process again. This is called **iterative reweighted least squares** **regression (IRLS).**\n",
        "\n",
        "Here are the steps of **iterative reweighted least squares** regression:\n",
        "\n",
        "1. Use OLS to estimate initial coefficients.\n",
        "2. Obtain the residuals of the OLS model and generate weights.\n",
        "3. Estimate coefficients using WLS and the weights from Step 2.\n",
        "4. Plug coefficients from WLS into the linear model and calculate new residuals and repeat from Step 2 to Step 4 until the coefficients converge."
      ]
    },
    {
      "cell_type": "markdown",
      "id": "aDdxj75nRfSt",
      "metadata": {
        "id": "aDdxj75nRfSt",
        "editable": true,
        "deletable": true
      },
      "source": [
        "#### **2.1.2 $\\rho()$ Functions: Huber Method and Bisquare Method**"
      ]
    },
    {
      "cell_type": "markdown",
      "id": "J3upYI0vRfNP",
      "metadata": {
        "id": "J3upYI0vRfNP",
        "editable": true,
        "deletable": true
      },
      "source": [
        "After setting out the steps to run an M-estimation using IRLS in the last section, we now need to find weights. How should we find weights? From the last section, we know **weight functions can be derived from $\\rho $ functions**. In this section, we are going to introduce two commonly used $\\rho $ functions: the Huber method and bisquare method. We will use them to derive weight functions.\n",
        "\n",
        "The $\\rho $ function for the **Huber method** is as follows:\n",
        "\n",
        "$$\n",
        "\\rho_{_{Huber}} (e) = \\begin{cases}\n",
        "  \\frac{1}{2}e^{2}, & \\text{ if } |e| \\leq k \\\\\n",
        "  k |e| - \\frac{1}{2}k^{2}, & \\text{ if } |e| > k\n",
        "\\end{cases}\n",
        "$$\n",
        "\n",
        "$k$ is called a **tuning constant.** **A smaller $k$ will make the objective function more resistant to outliers**. We **usually set $k = 1.345 \\sigma$**. $\\ \\sigma$ is the standard deviation of the errors. **Why 1.345?** If the **errors are normally distributed, we will get 95% efficiency when we estimate the errors using residuals. This level of efficiency is similar to that used for OLS regression (95%)**.\n",
        "\n",
        "One more point: We usually use standard deviation of residuals to estimate $\\sigma$. However, one outlier can make the estimated value of the standard deviation of residuals very sensitive because the mean is part of the calculation of standard deviation. Mean is sensitive to outliers. Instead, we use **median absolute deviation (MAD)** = $\\text{median} | \\text{residuals}|$ to estimate the standard deviation of errors $\\sigma$.\n",
        "\n",
        "Now that we know the $\\rho $ function for the Huber method, we can derive the weight function. The weight function for the Huber method is as follows:\n",
        "\n",
        "$$\n",
        "w_{_{Huber}} (e) = \\begin{cases}\n",
        "  1, & \\text{ if } |e| \\leq k \\\\\n",
        "  \\frac{k}{|e|}, & \\text{ if } |e| > k\n",
        "\\end{cases}\n",
        "$$"
      ]
    },
    {
      "cell_type": "markdown",
      "id": "wMTNhkcCRJ9W",
      "metadata": {
        "id": "wMTNhkcCRJ9W",
        "editable": true,
        "deletable": true
      },
      "source": [
        "**Figure 2: Huber Method Weight Function Chart**\n",
        "\n",
        "![image.png](data:image/png;base64,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)\n"
      ]
    },
    {
      "cell_type": "markdown",
      "id": "nr5BjeHbhGy2",
      "metadata": {
        "id": "nr5BjeHbhGy2",
        "editable": true,
        "deletable": true
      },
      "source": [
        "From Figure 2, we can see that the weights for data points are the same when their errors are within (-1.345, 1.345). Once the error passes the band, the value of the weight starts to drop quickly, which will give less weight to outliers.\n",
        "\n",
        "The $\\rho $ function for the **bisquare method** is as follows:\n",
        "\n",
        "$$\n",
        "\\rho_{_{Bisquare}} = \\begin{cases}\n",
        "  \\frac{k^{2}}{6} (1- (1 - (\\frac{e}{k})^{2})^{3} ), & \\text{ if } |e| \\leq k \\\\\n",
        "  \\frac{k^{2}}{6}, & \\text{ if } |e| > k\n",
        "\\end{cases}\n",
        "$$\n",
        "\n",
        "The concept of $k$ here is the same as the $k$ in the Huber method. For the bisquare method, **$k = 4.685 \\sigma$**. It also uses MAD to estimate standard deviation of error.\n",
        "\n",
        "The weight function for the bisquare method is as follows:\n",
        "\n",
        "$$\n",
        "w_{_{Bisquare}} (e) = \\begin{cases}\n",
        "  (1- (\\frac{e}{k})^{2})^{2},  & \\text{ if } |e| \\leq k \\\\\n",
        "  0,  & \\text{ if } |e| > k\n",
        "\\end{cases}\n",
        "$$\n"
      ]
    },
    {
      "cell_type": "markdown",
      "id": "ptuAtrg1hGvf",
      "metadata": {
        "id": "ptuAtrg1hGvf",
        "editable": true,
        "deletable": true
      },
      "source": [
        "**Figure 3: Bisquare Method Weight Function Chart**\n",
        "\n",
        "![image.png](data:image/png;base64,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)\n"
      ]
    },
    {
      "cell_type": "markdown",
      "id": "749e0seihGrF",
      "metadata": {
        "id": "749e0seihGrF",
        "editable": true,
        "deletable": true
      },
      "source": [
        "We can see from Figure 3 that the **bisquare method de-emphasizes outliers faster than the Huber method**. The bisquare method starts to decrease the weight when error begins to show up.\n",
        "\n",
        "The residual sum of a square for OLS is also a $\\rho $ function form.\n",
        "\n",
        "$$\n",
        "\\rho (e)= e^{2}\n",
        "$$\n",
        "\n",
        "This function also meets all of the properties of an $\\rho $ function.\n",
        "\n",
        "The weight function for OLS is:\n",
        "\n",
        "$$\n",
        "w(e)=1\n",
        "$$\n",
        "\n",
        "From the weight function, we can see OLS gives all data points a weight of $1$ regardless of their outlier status."
      ]
    },
    {
      "cell_type": "markdown",
      "id": "p1dr-MxwhGm2",
      "metadata": {
        "id": "p1dr-MxwhGm2",
        "editable": true,
        "deletable": true
      },
      "source": [
        "#### **2.1.3 Pros and Cons of M-Estimators**"
      ]
    },
    {
      "cell_type": "markdown",
      "id": "_KPacEpKwHTf",
      "metadata": {
        "id": "_KPacEpKwHTf",
        "editable": true,
        "deletable": true
      },
      "source": [
        "**Both the Huber method and bisquare method are better regression methods than classic OLS regression because the Huber method and bisquare method assign less weight to outliers**.\n",
        "\n",
        "One thing that is very helpful in robust regression is outlier detection. After running a robust regression model, you can check the weight associated with each data point to identify outliers.\n",
        "\n",
        "However, the **bisquare method is popular** because it starts to de-emphasize a data point the moment the error shows up. However, a **bisquare result is sensitive to the choice of initial coefficient estimates**. **One way to get away from this issue is to use the Huber method at the beginning to get the coefficients**. Then, **use the Huber method coefficients in the bisquare method**.\n",
        "\n",
        "**Another issue with the Huber method and the bisquare method is that they still cannot handle leverage points (points with large X values) well**. There is **another branch of robust regression to handle this issue**: bounded influence regression. Some examples of this method include **least trimmed squares**, **least median squares**, etc."
      ]
    },
    {
      "cell_type": "markdown",
      "id": "corfaLENwHP1",
      "metadata": {
        "id": "corfaLENwHP1",
        "editable": true,
        "deletable": true
      },
      "source": [
        "## **3. Foreign Exchange Market Analysis Using Robust Regression**"
      ]
    },
    {
      "cell_type": "markdown",
      "id": "Pq6QeJQLwHLv",
      "metadata": {
        "id": "Pq6QeJQLwHLv",
        "editable": true,
        "deletable": true
      },
      "source": [
        "We will continue our example from the last lesson. In the last lesson, we used WLS regression to understand **how U.S. 10-year treasury bond yield would influence the U.S. Dollar Index**. In this lesson, we are going run robust regression on the same example. We will use the Huber method and bisquare method respectively and compare the results. I will also reproduce the WLS result here to compare with the Huber method and bisquare method.\n"
      ]
    },
    {
      "cell_type": "markdown",
      "id": "DEgTgiEiwHHz",
      "metadata": {
        "id": "DEgTgiEiwHHz",
        "editable": true,
        "deletable": true
      },
      "source": [
        "**Figure 4: Huber Method - U.S. Dollar Index Daily Return On 10-Year Treasury Bond Yield**\n"
      ]
    },
    {
      "cell_type": "code",
      "execution_count": null,
      "id": "bfe27239-a4c7-4349-918d-5ac33cb95494",
      "metadata": {
        "id": "bfe27239-a4c7-4349-918d-5ac33cb95494",
        "outputId": "a0ca9783-1316-4544-e613-255289595b10",
        "editable": true,
        "deletable": true
      },
      "outputs": [
        {
          "data": {
            "text/html": [
              "<table class=\"simpletable\">\n",
              "<caption>Robust linear Model Regression Results</caption>\n",
              "<tr>\n",
              "  <th>Dep. Variable:</th>         <td>DXY</td>       <th>  No. Observations:  </th> <td>   250</td>\n",
              "</tr>\n",
              "<tr>\n",
              "  <th>Model:</th>                 <td>RLM</td>       <th>  Df Residuals:      </th> <td>   248</td>\n",
              "</tr>\n",
              "<tr>\n",
              "  <th>Method:</th>               <td>IRLS</td>       <th>  Df Model:          </th> <td>     1</td>\n",
              "</tr>\n",
              "<tr>\n",
              "  <th>Norm:</th>                <td>HuberT</td>      <th>                     </th>    <td> </td>  \n",
              "</tr>\n",
              "<tr>\n",
              "  <th>Scale Est.:</th>            <td>mad</td>       <th>                     </th>    <td> </td>  \n",
              "</tr>\n",
              "<tr>\n",
              "  <th>Cov Type:</th>              <td>H1</td>        <th>                     </th>    <td> </td>  \n",
              "</tr>\n",
              "<tr>\n",
              "  <th>Date:</th>           <td>Sat, 23 Aug 2025</td> <th>                     </th>    <td> </td>  \n",
              "</tr>\n",
              "<tr>\n",
              "  <th>Time:</th>               <td>06:29:47</td>     <th>                     </th>    <td> </td>  \n",
              "</tr>\n",
              "<tr>\n",
              "  <th>No. Iterations:</th>        <td>19</td>        <th>                     </th>    <td> </td>  \n",
              "</tr>\n",
              "</table>\n",
              "<table class=\"simpletable\">\n",
              "<tr>\n",
              "      <td></td>        <th>coef</th>     <th>std err</th>      <th>z</th>      <th>P>|z|</th>  <th>[0.025</th>    <th>0.975]</th>  \n",
              "</tr>\n",
              "<tr>\n",
              "  <th>const</th>    <td> 9.673e-05</td> <td>    0.000</td> <td>    0.367</td> <td> 0.714</td> <td>   -0.000</td> <td>    0.001</td>\n",
              "</tr>\n",
              "<tr>\n",
              "  <th>X10Y_TBY</th> <td>    0.0446</td> <td>    0.011</td> <td>    4.152</td> <td> 0.000</td> <td>    0.024</td> <td>    0.066</td>\n",
              "</tr>\n",
              "</table><br/><br/>If the model instance has been used for another fit with different fit parameters, then the fit options might not be the correct ones anymore ."
            ],
            "text/plain": [
              "<class 'statsmodels.iolib.summary.Summary'>\n",
              "\"\"\"\n",
              "                    Robust linear Model Regression Results                    \n",
              "==============================================================================\n",
              "Dep. Variable:                    DXY   No. Observations:                  250\n",
              "Model:                            RLM   Df Residuals:                      248\n",
              "Method:                          IRLS   Df Model:                            1\n",
              "Norm:                          HuberT                                         \n",
              "Scale Est.:                       mad                                         \n",
              "Cov Type:                          H1                                         \n",
              "Date:                Sat, 23 Aug 2025                                         \n",
              "Time:                        06:29:47                                         \n",
              "No. Iterations:                    19                                         \n",
              "==============================================================================\n",
              "                 coef    std err          z      P>|z|      [0.025      0.975]\n",
              "------------------------------------------------------------------------------\n",
              "const       9.673e-05      0.000      0.367      0.714      -0.000       0.001\n",
              "X10Y_TBY       0.0446      0.011      4.152      0.000       0.024       0.066\n",
              "==============================================================================\n",
              "\n",
              "If the model instance has been used for another fit with different fit parameters, then the fit options might not be the correct ones anymore .\n",
              "\"\"\""
            ]
          },
          "execution_count": 3,
          "metadata": {},
          "output_type": "execute_result"
        }
      ],
      "source": [
        "# Robust Regression model\n",
        "rr_huber = sm.RLM(\n",
        "    data_set[\"DXY\"], sm.add_constant(data_set[\"X10Y_TBY\"]), M=sm.robust.norms.HuberT()\n",
        ")\n",
        "rr_huber_results = rr_huber.fit()\n",
        "rr_huber_results.summary()"
      ]
    },
    {
      "cell_type": "markdown",
      "id": "ErjQqMFfwj2T",
      "metadata": {
        "id": "ErjQqMFfwj2T",
        "editable": true,
        "deletable": true
      },
      "source": [
        "**Figure 5: Bisquare Method - U.S. Dollar Index Daily Return On 10-Year Treasury Bond Yield**\n"
      ]
    },
    {
      "cell_type": "code",
      "execution_count": null,
      "id": "7224f745-8380-43cf-a1e7-dd88edd06636",
      "metadata": {
        "id": "7224f745-8380-43cf-a1e7-dd88edd06636",
        "outputId": "6843a244-1700-4edd-f6e5-bc3371d5c800",
        "editable": true,
        "deletable": true
      },
      "outputs": [
        {
          "data": {
            "text/html": [
              "<table class=\"simpletable\">\n",
              "<caption>Robust linear Model Regression Results</caption>\n",
              "<tr>\n",
              "  <th>Dep. Variable:</th>         <td>DXY</td>       <th>  No. Observations:  </th> <td>   250</td>\n",
              "</tr>\n",
              "<tr>\n",
              "  <th>Model:</th>                 <td>RLM</td>       <th>  Df Residuals:      </th> <td>   248</td>\n",
              "</tr>\n",
              "<tr>\n",
              "  <th>Method:</th>               <td>IRLS</td>       <th>  Df Model:          </th> <td>     1</td>\n",
              "</tr>\n",
              "<tr>\n",
              "  <th>Norm:</th>             <td>TukeyBiweight</td>  <th>                     </th>    <td> </td>  \n",
              "</tr>\n",
              "<tr>\n",
              "  <th>Scale Est.:</th>            <td>mad</td>       <th>                     </th>    <td> </td>  \n",
              "</tr>\n",
              "<tr>\n",
              "  <th>Cov Type:</th>              <td>H1</td>        <th>                     </th>    <td> </td>  \n",
              "</tr>\n",
              "<tr>\n",
              "  <th>Date:</th>           <td>Sat, 23 Aug 2025</td> <th>                     </th>    <td> </td>  \n",
              "</tr>\n",
              "<tr>\n",
              "  <th>Time:</th>               <td>06:29:47</td>     <th>                     </th>    <td> </td>  \n",
              "</tr>\n",
              "<tr>\n",
              "  <th>No. Iterations:</th>        <td>18</td>        <th>                     </th>    <td> </td>  \n",
              "</tr>\n",
              "</table>\n",
              "<table class=\"simpletable\">\n",
              "<tr>\n",
              "      <td></td>        <th>coef</th>     <th>std err</th>      <th>z</th>      <th>P>|z|</th>  <th>[0.025</th>    <th>0.975]</th>  \n",
              "</tr>\n",
              "<tr>\n",
              "  <th>const</th>    <td> 6.698e-05</td> <td>    0.000</td> <td>    0.254</td> <td> 0.800</td> <td>   -0.000</td> <td>    0.001</td>\n",
              "</tr>\n",
              "<tr>\n",
              "  <th>X10Y_TBY</th> <td>    0.0515</td> <td>    0.011</td> <td>    4.797</td> <td> 0.000</td> <td>    0.030</td> <td>    0.073</td>\n",
              "</tr>\n",
              "</table><br/><br/>If the model instance has been used for another fit with different fit parameters, then the fit options might not be the correct ones anymore ."
            ],
            "text/plain": [
              "<class 'statsmodels.iolib.summary.Summary'>\n",
              "\"\"\"\n",
              "                    Robust linear Model Regression Results                    \n",
              "==============================================================================\n",
              "Dep. Variable:                    DXY   No. Observations:                  250\n",
              "Model:                            RLM   Df Residuals:                      248\n",
              "Method:                          IRLS   Df Model:                            1\n",
              "Norm:                   TukeyBiweight                                         \n",
              "Scale Est.:                       mad                                         \n",
              "Cov Type:                          H1                                         \n",
              "Date:                Sat, 23 Aug 2025                                         \n",
              "Time:                        06:29:47                                         \n",
              "No. Iterations:                    18                                         \n",
              "==============================================================================\n",
              "                 coef    std err          z      P>|z|      [0.025      0.975]\n",
              "------------------------------------------------------------------------------\n",
              "const       6.698e-05      0.000      0.254      0.800      -0.000       0.001\n",
              "X10Y_TBY       0.0515      0.011      4.797      0.000       0.030       0.073\n",
              "==============================================================================\n",
              "\n",
              "If the model instance has been used for another fit with different fit parameters, then the fit options might not be the correct ones anymore .\n",
              "\"\"\""
            ]
          },
          "execution_count": 4,
          "metadata": {},
          "output_type": "execute_result"
        }
      ],
      "source": [
        "# Bisquare Method model\n",
        "rr_bisquare = sm.RLM(\n",
        "    data_set[\"DXY\"],\n",
        "    sm.add_constant(data_set[\"X10Y_TBY\"]),\n",
        "    M=sm.robust.norms.TukeyBiweight(),\n",
        ")\n",
        "rr_bisquare_results = rr_bisquare.fit()\n",
        "rr_bisquare_results.summary()"
      ]
    },
    {
      "cell_type": "markdown",
      "id": "gqVGgyImwjyF",
      "metadata": {
        "id": "gqVGgyImwjyF",
        "editable": true,
        "deletable": true
      },
      "source": [
        "**Figure 6: WLS - U.S. Dollar Index Daily Return On 10 Year Treasury Bond Yield**\n",
        "<span style='color: transparent; font-size:1%'>All rights reserved WQU WorldQuant University QQQQ</span>"
      ]
    },
    {
      "cell_type": "code",
      "execution_count": null,
      "id": "1efd7cca-c2ca-40df-91eb-5b1c87304eb9",
      "metadata": {
        "id": "1efd7cca-c2ca-40df-91eb-5b1c87304eb9",
        "outputId": "ae597c28-1058-48a4-d994-17f7c5b9eac0",
        "editable": true,
        "deletable": true
      },
      "outputs": [
        {
          "data": {
            "text/html": [
              "<table class=\"simpletable\">\n",
              "<caption>WLS Regression Results</caption>\n",
              "<tr>\n",
              "  <th>Dep. Variable:</th>            <td>y</td>        <th>  R-squared:         </th> <td>   0.100</td>\n",
              "</tr>\n",
              "<tr>\n",
              "  <th>Model:</th>                   <td>WLS</td>       <th>  Adj. R-squared:    </th> <td>   0.096</td>\n",
              "</tr>\n",
              "<tr>\n",
              "  <th>Method:</th>             <td>Least Squares</td>  <th>  F-statistic:       </th> <td>   27.59</td>\n",
              "</tr>\n",
              "<tr>\n",
              "  <th>Date:</th>             <td>Sat, 23 Aug 2025</td> <th>  Prob (F-statistic):</th> <td>3.23e-07</td>\n",
              "</tr>\n",
              "<tr>\n",
              "  <th>Time:</th>                 <td>06:29:47</td>     <th>  Log-Likelihood:    </th> <td>  994.52</td>\n",
              "</tr>\n",
              "<tr>\n",
              "  <th>No. Observations:</th>      <td>   250</td>      <th>  AIC:               </th> <td>  -1985.</td>\n",
              "</tr>\n",
              "<tr>\n",
              "  <th>Df Residuals:</th>          <td>   248</td>      <th>  BIC:               </th> <td>  -1978.</td>\n",
              "</tr>\n",
              "<tr>\n",
              "  <th>Df Model:</th>              <td>     1</td>      <th>                     </th>     <td> </td>   \n",
              "</tr>\n",
              "<tr>\n",
              "  <th>Covariance Type:</th>      <td>nonrobust</td>    <th>                     </th>     <td> </td>   \n",
              "</tr>\n",
              "</table>\n",
              "<table class=\"simpletable\">\n",
              "<tr>\n",
              "    <td></td>       <th>coef</th>     <th>std err</th>      <th>t</th>      <th>P>|t|</th>  <th>[0.025</th>    <th>0.975]</th>  \n",
              "</tr>\n",
              "<tr>\n",
              "  <th>const</th> <td>    0.0001</td> <td>    0.000</td> <td>    0.346</td> <td> 0.730</td> <td>   -0.000</td> <td>    0.001</td>\n",
              "</tr>\n",
              "<tr>\n",
              "  <th>x1</th>    <td>    0.0516</td> <td>    0.010</td> <td>    5.253</td> <td> 0.000</td> <td>    0.032</td> <td>    0.071</td>\n",
              "</tr>\n",
              "</table>\n",
              "<table class=\"simpletable\">\n",
              "<tr>\n",
              "  <th>Omnibus:</th>       <td>10.978</td> <th>  Durbin-Watson:     </th> <td>   1.965</td>\n",
              "</tr>\n",
              "<tr>\n",
              "  <th>Prob(Omnibus):</th> <td> 0.004</td> <th>  Jarque-Bera (JB):  </th> <td>  23.475</td>\n",
              "</tr>\n",
              "<tr>\n",
              "  <th>Skew:</th>          <td> 0.063</td> <th>  Prob(JB):          </th> <td>7.99e-06</td>\n",
              "</tr>\n",
              "<tr>\n",
              "  <th>Kurtosis:</th>      <td> 4.496</td> <th>  Cond. No.          </th> <td>    35.0</td>\n",
              "</tr>\n",
              "</table><br/><br/>Notes:<br/>[1] Standard Errors assume that the covariance matrix of the errors is correctly specified."
            ],
            "text/plain": [
              "<class 'statsmodels.iolib.summary.Summary'>\n",
              "\"\"\"\n",
              "                            WLS Regression Results                            \n",
              "==============================================================================\n",
              "Dep. Variable:                      y   R-squared:                       0.100\n",
              "Model:                            WLS   Adj. R-squared:                  0.096\n",
              "Method:                 Least Squares   F-statistic:                     27.59\n",
              "Date:                Sat, 23 Aug 2025   Prob (F-statistic):           3.23e-07\n",
              "Time:                        06:29:47   Log-Likelihood:                 994.52\n",
              "No. Observations:                 250   AIC:                            -1985.\n",
              "Df Residuals:                     248   BIC:                            -1978.\n",
              "Df Model:                           1                                         \n",
              "Covariance Type:            nonrobust                                         \n",
              "==============================================================================\n",
              "                 coef    std err          t      P>|t|      [0.025      0.975]\n",
              "------------------------------------------------------------------------------\n",
              "const          0.0001      0.000      0.346      0.730      -0.000       0.001\n",
              "x1             0.0516      0.010      5.253      0.000       0.032       0.071\n",
              "==============================================================================\n",
              "Omnibus:                       10.978   Durbin-Watson:                   1.965\n",
              "Prob(Omnibus):                  0.004   Jarque-Bera (JB):               23.475\n",
              "Skew:                           0.063   Prob(JB):                     7.99e-06\n",
              "Kurtosis:                       4.496   Cond. No.                         35.0\n",
              "==============================================================================\n",
              "\n",
              "Notes:\n",
              "[1] Standard Errors assume that the covariance matrix of the errors is correctly specified.\n",
              "\"\"\""
            ]
          },
          "execution_count": 5,
          "metadata": {},
          "output_type": "execute_result"
        }
      ],
      "source": [
        "# WLS model\n",
        "model_1 = smf.ols(\"DXY ~ X10Y_TBY\", data=data_set).fit()\n",
        "\n",
        "# Add Absolute residuals and fitted values to dataset columns\n",
        "data_set[\"abs_residuals\"] = np.abs(model_1.resid)\n",
        "data_set[\"fitted_values\"] = model_1.fittedvalues\n",
        "\n",
        "# Fit OLS model with absolute residuals and fitted values\n",
        "model_temp = smf.ols(\"abs_residuals ~ fitted_values\", data=data_set).fit()\n",
        "\n",
        "# Compute weights and add it to the data_set column\n",
        "weights = model_temp.fittedvalues\n",
        "weights = weights**-2\n",
        "data_set[\"weights\"] = weights\n",
        "\n",
        "# WLS model\n",
        "Y = data_set[\"DXY\"].tolist()\n",
        "X = data_set[\"X10Y_TBY\"].tolist()\n",
        "X = sm.add_constant(X)  # add a intercept point\n",
        "\n",
        "model_WLS = sm.WLS(Y, X, data_set[\"weights\"]).fit()\n",
        "model_WLS.summary()"
      ]
    },
    {
      "cell_type": "markdown",
      "id": "ZKXK7m8fwjto",
      "metadata": {
        "id": "ZKXK7m8fwjto",
        "editable": true,
        "deletable": true
      },
      "source": [
        "Let's compare the coefficients of *x10Y_TBY* from the three methods. We can see that WLS and bisquare method have similar coefficients for *x10Y_TBY* (WLS: 0.0516; Bisquare: 0.0515). It is easy to understand because both WLS and bisquare method give different weights to all data points whereas **Huber gives different weights only after a residual is big enough**.\n",
        "\n",
        "We can also show different regression lines in a scatter plot to understand how outliers influence the regression result.\n"
      ]
    },
    {
      "cell_type": "markdown",
      "id": "z2jnapVvwjoh",
      "metadata": {
        "id": "z2jnapVvwjoh",
        "editable": true,
        "deletable": true
      },
      "source": [
        "**Figure 7: Scatter Plot of U.S. Dollar Index Daily Return and 10-Year Treasury Bond Yield Daily Return with Different Regression Lines**\n"
      ]
    },
    {
      "cell_type": "code",
      "execution_count": null,
      "id": "c7d8c30e-d591-43f7-bdb3-bb4151b0e462",
      "metadata": {
        "id": "c7d8c30e-d591-43f7-bdb3-bb4151b0e462",
        "outputId": "230ac9d6-e27d-412b-cb7c-382875c6b420",
        "editable": true,
        "deletable": true
      },
      "outputs": [
        {
          "data": {
            "image/png": "[encoded data removed]",
            "text/plain": [
              "<Figure size 1600x900 with 1 Axes>"
            ]
          },
          "metadata": {},
          "output_type": "display_data"
        }
      ],
      "source": [
        "# Scatter Plot of U.S. Dollar Index Daily Return and 10-Year Treasury Bond Yield Daily Return with Different Regression Lines\n",
        "\n",
        "# scatter-plot data\n",
        "scatt = data_set.plot(x=\"X10Y_TBY\", y=\"DXY\", kind=\"scatter\")\n",
        "scatt.set(xlabel=\"10-Year Treasury Bond Yield\", ylabel=\"Dollar Index\")\n",
        "\n",
        "# plot regression lines\n",
        "abline_plot(model_results=model_1, ax=scatt, color=\"blue\", label=\"OLS\")\n",
        "abline_plot(model_results=model_WLS, ax=scatt, color=\"orange\", label=\"WLS\")\n",
        "abline_plot(model_results=rr_huber_results, ax=scatt, color=\"green\", label=\"Huber\")\n",
        "abline_plot(model_results=rr_bisquare_results, ax=scatt, color=\"red\", label=\"Bisquare\")\n",
        "plt.legend(loc=\"lower right\")\n",
        "plt.show()"
      ]
    },
    {
      "cell_type": "markdown",
      "id": "GXUloUVQw4Uj",
      "metadata": {
        "id": "GXUloUVQw4Uj",
        "editable": true,
        "deletable": true
      },
      "source": [
        "From Figure 7, we can see that the **WLS regression line and the bisquare regression line almost overlap**. These two lines are also furthest away from outliers at the upper left of the scatter plot. The OLS regression line and Huber regression line are flatter and are pulled closer to the outliers at the upper left. The plot shows evidence again that WLS and the bisquare method apply weights to de-emphasize any data point that has a non-zero residual. OLS applies the weight of $1$, and the Huber method applies weight after data points whose residuals are larger than $k$. Different weight schemes would lead to different regression results. After studying the above results, **either WLS or the bisquare method is a better result than OLS or the Huber method**.\n"
      ]
    },
    {
      "cell_type": "markdown",
      "id": "134685f6",
      "metadata": {
        "id": "134685f6",
        "editable": true,
        "deletable": true
      },
      "source": [
        "## **4. Conclusion**\n",
        "\n",
        "In this lesson, we first reviewed the impact of problem outliers and leverage points on OLS regression. We then introduced robust regression to tackle outliers. There are several methods under robust regression. We talked about the most popular one: M-estimation. Specifically, we talked about the Huber method and the bisquare method under M-estimation. We finished the theory part by discussing the pros and cons of M-estimation. Lastly, we used a foreign exchange example to demonstrate how to run the Huber method and the bisquare method. We compared the results of OLS, WLS, the Huber method and the bisquare method. In the next lesson, we will discuss another branch of regression analysis: **lasso regression**.\n",
        "\n"
      ]
    }
  ],
  "metadata": {
    "colab": {
      "provenance": [],
      "include_colab_link": true
    },
    "kernelspec": {
      "display_name": "Python 3 (ipykernel)",
      "language": "python",
      "name": "python3"
    },
    "language_info": {
      "codemirror_mode": {
        "name": "ipython",
        "version": 3
      },
      "file_extension": ".py",
      "mimetype": "text/x-python",
      "name": "python",
      "nbconvert_exporter": "python",
      "pygments_lexer": "ipython3",
      "version": "3.11.0"
    }
  },
  "nbformat": 4,
  "nbformat_minor": 5
}