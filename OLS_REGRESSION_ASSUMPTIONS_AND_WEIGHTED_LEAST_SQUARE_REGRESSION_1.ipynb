{
  "cells": [
    {
      "cell_type": "markdown",
      "metadata": {
        "id": "view-in-github",
        "colab_type": "text"
      },
      "source": [
        "<a href=\"https://colab.research.google.com/github/zulfiqaralimir/Financial-Econometrics/blob/master/OLS_REGRESSION_ASSUMPTIONS_AND_WEIGHTED_LEAST_SQUARE_REGRESSION_1.ipynb\" target=\"_parent\"><img src=\"https://colab.research.google.com/assets/colab-badge.svg\" alt=\"Open In Colab\"/></a>"
      ]
    },
    {
      "cell_type": "markdown",
      "id": "kLwXkHyRHNSu",
      "metadata": {
        "editable": true,
        "deletable": true,
        "id": "kLwXkHyRHNSu"
      },
      "source": [
        "\n",
        "## FINANCIAL ECONOMETRICS\n",
        "MODULE 2 | LESSON 1\n",
        "\n",
        "---"
      ]
    },
    {
      "cell_type": "markdown",
      "id": "c26dca9a",
      "metadata": {
        "editable": true,
        "deletable": true,
        "id": "c26dca9a"
      },
      "source": [
        "# **OLS REGRESSION ASSUMPTIONS AND WEIGHTED LEAST SQUARE REGRESSION**\n",
        "\n",
        "---\n",
        "\n",
        "\n",
        "\n"
      ]
    },
    {
      "cell_type": "markdown",
      "id": "ZhoRqBrbHJTI",
      "metadata": {
        "editable": true,
        "deletable": true,
        "id": "ZhoRqBrbHJTI"
      },
      "source": [
        "|  |  |\n",
        "|:---|:---|\n",
        "|**Reading Time** | 60 minutes |\n",
        "|**Prior Knowledge** | OLS regression analysis, Linear Algebra  |\n",
        "|**Keywords** | Homoscedasticity, Heteroskedasticity, Independent and identically distributed, Weighted least square regression, Breusch-Pagan Test |\n",
        "\n",
        "\n",
        "---"
      ]
    },
    {
      "cell_type": "markdown",
      "id": "df2c20ea",
      "metadata": {
        "editable": true,
        "deletable": true,
        "id": "df2c20ea"
      },
      "source": [
        "*In the last module, we discussed the applications of linear regression models and some of their assumptions. We learned how to handle multicollinearity when independent variables are highly correlated. We also went through methods to transform variables when they don't meet the assumptions in a regression model. In this module, we will dive deeper into and offer variations of regression analysis. We will first review main assumptions for an ordinary least square model. Then, we will focus on the heteroskedasticity of a regression model and introduce the weighted least square model as a way to handle the issue.*\n",
        "\n",
        "*We are also introducing a new working example in this module. We will analyze some factors that might impact the foreign exchange markets. We will use different regression methods we learn in each lesson to conduct the analysis.*\n",
        "\n"
      ]
    },
    {
      "cell_type": "code",
      "source": [
        "from google.colab import drive\n",
        "drive.mount('/content/drive')"
      ],
      "metadata": {
        "colab": {
          "base_uri": "https://localhost:8080/"
        },
        "id": "0YZBUwcqWCj8",
        "outputId": "38ed5640-e61e-4031-b04a-705fe442ff42"
      },
      "execution_count": 3,
      "outputs": [
        {
          "output_type": "stream",
          "name": "stdout",
          "text": [
            "Drive already mounted at /content/drive; to attempt to forcibly remount, call drive.mount(\"/content/drive\", force_remount=True).\n"
          ]
        }
      ],
      "id": "0YZBUwcqWCj8"
    },
    {
      "cell_type": "code",
      "source": [
        "# Navigate to your file location in Google Drive\n",
        "import pandas as pd\n",
        "\n",
        "file_id = '1lHYVl0aYILdPMJnKeEN3OtqYmjJBtdO9'\n",
        "url = f'https://drive.google.com/uc?id={file_id}'\n",
        "df = pd.read_csv(url)\n",
        "df.head()"
      ],
      "metadata": {
        "colab": {
          "base_uri": "https://localhost:8080/",
          "height": 206
        },
        "id": "-jSR8oO5XVID",
        "outputId": "146faf93-dba1-4d2f-fd8e-d636ad9e8b98"
      },
      "execution_count": 4,
      "outputs": [
        {
          "output_type": "execute_result",
          "data": {
            "text/plain": [
              "       Date       DXY    METALS       OIL    US_STK  INTL_STK   X13W_TB  \\\n",
              "0  1/4/2016  0.002433  0.024283 -0.007559 -0.013980 -0.019802  0.047297   \n",
              "1  1/5/2016  0.005361 -0.004741 -0.021491  0.001691 -0.001263  0.322581   \n",
              "2  1/6/2016 -0.002213  0.013642 -0.055602 -0.012614 -0.015171  0.000000   \n",
              "3  1/7/2016 -0.009679  0.035249 -0.020606 -0.023992 -0.019255 -0.073171   \n",
              "4  1/8/2016  0.003258 -0.028064 -0.003306 -0.010977 -0.010471  0.000000   \n",
              "\n",
              "   X10Y_TBY    EURUSD  YEAR  \n",
              "0 -0.010577 -0.007316  2016  \n",
              "1  0.001336 -0.002436  2016  \n",
              "2 -0.031584 -0.006978  2016  \n",
              "3 -0.011024  0.002512  2016  \n",
              "4 -0.010683  0.013636  2016  "
            ],
            "text/html": [
              "\n",
              "  <div id=\"df-c7d339cb-3604-4b5b-9703-c8b797af54a2\" class=\"colab-df-container\">\n",
              "    <div>\n",
              "<style scoped>\n",
              "    .dataframe tbody tr th:only-of-type {\n",
              "        vertical-align: middle;\n",
              "    }\n",
              "\n",
              "    .dataframe tbody tr th {\n",
              "        vertical-align: top;\n",
              "    }\n",
              "\n",
              "    .dataframe thead th {\n",
              "        text-align: right;\n",
              "    }\n",
              "</style>\n",
              "<table border=\"1\" class=\"dataframe\">\n",
              "  <thead>\n",
              "    <tr style=\"text-align: right;\">\n",
              "      <th></th>\n",
              "      <th>Date</th>\n",
              "      <th>DXY</th>\n",
              "      <th>METALS</th>\n",
              "      <th>OIL</th>\n",
              "      <th>US_STK</th>\n",
              "      <th>INTL_STK</th>\n",
              "      <th>X13W_TB</th>\n",
              "      <th>X10Y_TBY</th>\n",
              "      <th>EURUSD</th>\n",
              "      <th>YEAR</th>\n",
              "    </tr>\n",
              "  </thead>\n",
              "  <tbody>\n",
              "    <tr>\n",
              "      <th>0</th>\n",
              "      <td>1/4/2016</td>\n",
              "      <td>0.002433</td>\n",
              "      <td>0.024283</td>\n",
              "      <td>-0.007559</td>\n",
              "      <td>-0.013980</td>\n",
              "      <td>-0.019802</td>\n",
              "      <td>0.047297</td>\n",
              "      <td>-0.010577</td>\n",
              "      <td>-0.007316</td>\n",
              "      <td>2016</td>\n",
              "    </tr>\n",
              "    <tr>\n",
              "      <th>1</th>\n",
              "      <td>1/5/2016</td>\n",
              "      <td>0.005361</td>\n",
              "      <td>-0.004741</td>\n",
              "      <td>-0.021491</td>\n",
              "      <td>0.001691</td>\n",
              "      <td>-0.001263</td>\n",
              "      <td>0.322581</td>\n",
              "      <td>0.001336</td>\n",
              "      <td>-0.002436</td>\n",
              "      <td>2016</td>\n",
              "    </tr>\n",
              "    <tr>\n",
              "      <th>2</th>\n",
              "      <td>1/6/2016</td>\n",
              "      <td>-0.002213</td>\n",
              "      <td>0.013642</td>\n",
              "      <td>-0.055602</td>\n",
              "      <td>-0.012614</td>\n",
              "      <td>-0.015171</td>\n",
              "      <td>0.000000</td>\n",
              "      <td>-0.031584</td>\n",
              "      <td>-0.006978</td>\n",
              "      <td>2016</td>\n",
              "    </tr>\n",
              "    <tr>\n",
              "      <th>3</th>\n",
              "      <td>1/7/2016</td>\n",
              "      <td>-0.009679</td>\n",
              "      <td>0.035249</td>\n",
              "      <td>-0.020606</td>\n",
              "      <td>-0.023992</td>\n",
              "      <td>-0.019255</td>\n",
              "      <td>-0.073171</td>\n",
              "      <td>-0.011024</td>\n",
              "      <td>0.002512</td>\n",
              "      <td>2016</td>\n",
              "    </tr>\n",
              "    <tr>\n",
              "      <th>4</th>\n",
              "      <td>1/8/2016</td>\n",
              "      <td>0.003258</td>\n",
              "      <td>-0.028064</td>\n",
              "      <td>-0.003306</td>\n",
              "      <td>-0.010977</td>\n",
              "      <td>-0.010471</td>\n",
              "      <td>0.000000</td>\n",
              "      <td>-0.010683</td>\n",
              "      <td>0.013636</td>\n",
              "      <td>2016</td>\n",
              "    </tr>\n",
              "  </tbody>\n",
              "</table>\n",
              "</div>\n",
              "    <div class=\"colab-df-buttons\">\n",
              "\n",
              "  <div class=\"colab-df-container\">\n",
              "    <button class=\"colab-df-convert\" onclick=\"convertToInteractive('df-c7d339cb-3604-4b5b-9703-c8b797af54a2')\"\n",
              "            title=\"Convert this dataframe to an interactive table.\"\n",
              "            style=\"display:none;\">\n",
              "\n",
              "  <svg xmlns=\"http://www.w3.org/2000/svg\" height=\"24px\" viewBox=\"0 -960 960 960\">\n",
              "    <path d=\"M120-120v-720h720v720H120Zm60-500h600v-160H180v160Zm220 220h160v-160H400v160Zm0 220h160v-160H400v160ZM180-400h160v-160H180v160Zm440 0h160v-160H620v160ZM180-180h160v-160H180v160Zm440 0h160v-160H620v160Z\"/>\n",
              "  </svg>\n",
              "    </button>\n",
              "\n",
              "  <style>\n",
              "    .colab-df-container {\n",
              "      display:flex;\n",
              "      gap: 12px;\n",
              "    }\n",
              "\n",
              "    .colab-df-convert {\n",
              "      background-color: #E8F0FE;\n",
              "      border: none;\n",
              "      border-radius: 50%;\n",
              "      cursor: pointer;\n",
              "      display: none;\n",
              "      fill: #1967D2;\n",
              "      height: 32px;\n",
              "      padding: 0 0 0 0;\n",
              "      width: 32px;\n",
              "    }\n",
              "\n",
              "    .colab-df-convert:hover {\n",
              "      background-color: #E2EBFA;\n",
              "      box-shadow: 0px 1px 2px rgba(60, 64, 67, 0.3), 0px 1px 3px 1px rgba(60, 64, 67, 0.15);\n",
              "      fill: #174EA6;\n",
              "    }\n",
              "\n",
              "    .colab-df-buttons div {\n",
              "      margin-bottom: 4px;\n",
              "    }\n",
              "\n",
              "    [theme=dark] .colab-df-convert {\n",
              "      background-color: #3B4455;\n",
              "      fill: #D2E3FC;\n",
              "    }\n",
              "\n",
              "    [theme=dark] .colab-df-convert:hover {\n",
              "      background-color: #434B5C;\n",
              "      box-shadow: 0px 1px 3px 1px rgba(0, 0, 0, 0.15);\n",
              "      filter: drop-shadow(0px 1px 2px rgba(0, 0, 0, 0.3));\n",
              "      fill: #FFFFFF;\n",
              "    }\n",
              "  </style>\n",
              "\n",
              "    <script>\n",
              "      const buttonEl =\n",
              "        document.querySelector('#df-c7d339cb-3604-4b5b-9703-c8b797af54a2 button.colab-df-convert');\n",
              "      buttonEl.style.display =\n",
              "        google.colab.kernel.accessAllowed ? 'block' : 'none';\n",
              "\n",
              "      async function convertToInteractive(key) {\n",
              "        const element = document.querySelector('#df-c7d339cb-3604-4b5b-9703-c8b797af54a2');\n",
              "        const dataTable =\n",
              "          await google.colab.kernel.invokeFunction('convertToInteractive',\n",
              "                                                    [key], {});\n",
              "        if (!dataTable) return;\n",
              "\n",
              "        const docLinkHtml = 'Like what you see? Visit the ' +\n",
              "          '<a target=\"_blank\" href=https://colab.research.google.com/notebooks/data_table.ipynb>data table notebook</a>'\n",
              "          + ' to learn more about interactive tables.';\n",
              "        element.innerHTML = '';\n",
              "        dataTable['output_type'] = 'display_data';\n",
              "        await google.colab.output.renderOutput(dataTable, element);\n",
              "        const docLink = document.createElement('div');\n",
              "        docLink.innerHTML = docLinkHtml;\n",
              "        element.appendChild(docLink);\n",
              "      }\n",
              "    </script>\n",
              "  </div>\n",
              "\n",
              "\n",
              "    <div id=\"df-d12004f9-d303-4f1b-a791-e74f3d883aed\">\n",
              "      <button class=\"colab-df-quickchart\" onclick=\"quickchart('df-d12004f9-d303-4f1b-a791-e74f3d883aed')\"\n",
              "                title=\"Suggest charts\"\n",
              "                style=\"display:none;\">\n",
              "\n",
              "<svg xmlns=\"http://www.w3.org/2000/svg\" height=\"24px\"viewBox=\"0 0 24 24\"\n",
              "     width=\"24px\">\n",
              "    <g>\n",
              "        <path d=\"M19 3H5c-1.1 0-2 .9-2 2v14c0 1.1.9 2 2 2h14c1.1 0 2-.9 2-2V5c0-1.1-.9-2-2-2zM9 17H7v-7h2v7zm4 0h-2V7h2v10zm4 0h-2v-4h2v4z\"/>\n",
              "    </g>\n",
              "</svg>\n",
              "      </button>\n",
              "\n",
              "<style>\n",
              "  .colab-df-quickchart {\n",
              "      --bg-color: #E8F0FE;\n",
              "      --fill-color: #1967D2;\n",
              "      --hover-bg-color: #E2EBFA;\n",
              "      --hover-fill-color: #174EA6;\n",
              "      --disabled-fill-color: #AAA;\n",
              "      --disabled-bg-color: #DDD;\n",
              "  }\n",
              "\n",
              "  [theme=dark] .colab-df-quickchart {\n",
              "      --bg-color: #3B4455;\n",
              "      --fill-color: #D2E3FC;\n",
              "      --hover-bg-color: #434B5C;\n",
              "      --hover-fill-color: #FFFFFF;\n",
              "      --disabled-bg-color: #3B4455;\n",
              "      --disabled-fill-color: #666;\n",
              "  }\n",
              "\n",
              "  .colab-df-quickchart {\n",
              "    background-color: var(--bg-color);\n",
              "    border: none;\n",
              "    border-radius: 50%;\n",
              "    cursor: pointer;\n",
              "    display: none;\n",
              "    fill: var(--fill-color);\n",
              "    height: 32px;\n",
              "    padding: 0;\n",
              "    width: 32px;\n",
              "  }\n",
              "\n",
              "  .colab-df-quickchart:hover {\n",
              "    background-color: var(--hover-bg-color);\n",
              "    box-shadow: 0 1px 2px rgba(60, 64, 67, 0.3), 0 1px 3px 1px rgba(60, 64, 67, 0.15);\n",
              "    fill: var(--button-hover-fill-color);\n",
              "  }\n",
              "\n",
              "  .colab-df-quickchart-complete:disabled,\n",
              "  .colab-df-quickchart-complete:disabled:hover {\n",
              "    background-color: var(--disabled-bg-color);\n",
              "    fill: var(--disabled-fill-color);\n",
              "    box-shadow: none;\n",
              "  }\n",
              "\n",
              "  .colab-df-spinner {\n",
              "    border: 2px solid var(--fill-color);\n",
              "    border-color: transparent;\n",
              "    border-bottom-color: var(--fill-color);\n",
              "    animation:\n",
              "      spin 1s steps(1) infinite;\n",
              "  }\n",
              "\n",
              "  @keyframes spin {\n",
              "    0% {\n",
              "      border-color: transparent;\n",
              "      border-bottom-color: var(--fill-color);\n",
              "      border-left-color: var(--fill-color);\n",
              "    }\n",
              "    20% {\n",
              "      border-color: transparent;\n",
              "      border-left-color: var(--fill-color);\n",
              "      border-top-color: var(--fill-color);\n",
              "    }\n",
              "    30% {\n",
              "      border-color: transparent;\n",
              "      border-left-color: var(--fill-color);\n",
              "      border-top-color: var(--fill-color);\n",
              "      border-right-color: var(--fill-color);\n",
              "    }\n",
              "    40% {\n",
              "      border-color: transparent;\n",
              "      border-right-color: var(--fill-color);\n",
              "      border-top-color: var(--fill-color);\n",
              "    }\n",
              "    60% {\n",
              "      border-color: transparent;\n",
              "      border-right-color: var(--fill-color);\n",
              "    }\n",
              "    80% {\n",
              "      border-color: transparent;\n",
              "      border-right-color: var(--fill-color);\n",
              "      border-bottom-color: var(--fill-color);\n",
              "    }\n",
              "    90% {\n",
              "      border-color: transparent;\n",
              "      border-bottom-color: var(--fill-color);\n",
              "    }\n",
              "  }\n",
              "</style>\n",
              "\n",
              "      <script>\n",
              "        async function quickchart(key) {\n",
              "          const quickchartButtonEl =\n",
              "            document.querySelector('#' + key + ' button');\n",
              "          quickchartButtonEl.disabled = true;  // To prevent multiple clicks.\n",
              "          quickchartButtonEl.classList.add('colab-df-spinner');\n",
              "          try {\n",
              "            const charts = await google.colab.kernel.invokeFunction(\n",
              "                'suggestCharts', [key], {});\n",
              "          } catch (error) {\n",
              "            console.error('Error during call to suggestCharts:', error);\n",
              "          }\n",
              "          quickchartButtonEl.classList.remove('colab-df-spinner');\n",
              "          quickchartButtonEl.classList.add('colab-df-quickchart-complete');\n",
              "        }\n",
              "        (() => {\n",
              "          let quickchartButtonEl =\n",
              "            document.querySelector('#df-d12004f9-d303-4f1b-a791-e74f3d883aed button');\n",
              "          quickchartButtonEl.style.display =\n",
              "            google.colab.kernel.accessAllowed ? 'block' : 'none';\n",
              "        })();\n",
              "      </script>\n",
              "    </div>\n",
              "\n",
              "    </div>\n",
              "  </div>\n"
            ],
            "application/vnd.google.colaboratory.intrinsic+json": {
              "type": "dataframe",
              "variable_name": "df",
              "summary": "{\n  \"name\": \"df\",\n  \"rows\": 250,\n  \"fields\": [\n    {\n      \"column\": \"Date\",\n      \"properties\": {\n        \"dtype\": \"object\",\n        \"num_unique_values\": 250,\n        \"samples\": [\n          \"7/27/2016\",\n          \"1/12/2016\",\n          \"5/23/2016\"\n        ],\n        \"semantic_type\": \"\",\n        \"description\": \"\"\n      }\n    },\n    {\n      \"column\": \"DXY\",\n      \"properties\": {\n        \"dtype\": \"number\",\n        \"std\": 0.004754348650951777,\n        \"min\": -0.016010873,\n        \"max\": 0.020528152,\n        \"num_unique_values\": 249,\n        \"samples\": [\n          -0.002057582,\n          0.002430852,\n          -0.000839314\n        ],\n        \"semantic_type\": \"\",\n        \"description\": \"\"\n      }\n    },\n    {\n      \"column\": \"METALS\",\n      \"properties\": {\n        \"dtype\": \"number\",\n        \"std\": 0.030883594007664373,\n        \"min\": -0.093950277,\n        \"max\": 0.104277691,\n        \"num_unique_values\": 250,\n        \"samples\": [\n          0.044563068,\n          -0.034475056,\n          -0.003979447\n        ],\n        \"semantic_type\": \"\",\n        \"description\": \"\"\n      }\n    },\n    {\n      \"column\": \"OIL\",\n      \"properties\": {\n        \"dtype\": \"number\",\n        \"std\": 0.029692222233485117,\n        \"min\": -0.067111736,\n        \"max\": 0.123235406,\n        \"num_unique_values\": 216,\n        \"samples\": [\n          0.012981904,\n          0.00296846,\n          -0.027650728\n        ],\n        \"semantic_type\": \"\",\n        \"description\": \"\"\n      }\n    },\n    {\n      \"column\": \"US_STK\",\n      \"properties\": {\n        \"dtype\": \"number\",\n        \"std\": 0.008228037710657546,\n        \"min\": -0.035909121,\n        \"max\": 0.024377354,\n        \"num_unique_values\": 250,\n        \"samples\": [\n          -0.001061077,\n          0.008068631,\n          -0.00136249\n        ],\n        \"semantic_type\": \"\",\n        \"description\": \"\"\n      }\n    },\n    {\n      \"column\": \"INTL_STK\",\n      \"properties\": {\n        \"dtype\": \"number\",\n        \"std\": 0.01056619036478002,\n        \"min\": -0.070853549,\n        \"max\": 0.031032895,\n        \"num_unique_values\": 247,\n        \"samples\": [\n          0.01206447,\n          0.003982204,\n          -0.009838501\n        ],\n        \"semantic_type\": \"\",\n        \"description\": \"\"\n      }\n    },\n    {\n      \"column\": \"X13W_TB\",\n      \"properties\": {\n        \"dtype\": \"number\",\n        \"std\": 0.08174859158750669,\n        \"min\": -0.282511211,\n        \"max\": 0.473988439,\n        \"num_unique_values\": 210,\n        \"samples\": [\n          -0.017361111,\n          -0.036923077,\n          0.007462687\n        ],\n        \"semantic_type\": \"\",\n        \"description\": \"\"\n      }\n    },\n    {\n      \"column\": \"X10Y_TBY\",\n      \"properties\": {\n        \"dtype\": \"number\",\n        \"std\": 0.024636671634475388,\n        \"min\": -0.092006901,\n        \"max\": 0.112781955,\n        \"num_unique_values\": 249,\n        \"samples\": [\n          0.014120668,\n          -0.025949954,\n          -0.005949162\n        ],\n        \"semantic_type\": \"\",\n        \"description\": \"\"\n      }\n    },\n    {\n      \"column\": \"EURUSD\",\n      \"properties\": {\n        \"dtype\": \"number\",\n        \"std\": 0.005380133367432868,\n        \"min\": -0.025438008,\n        \"max\": 0.017844333,\n        \"num_unique_values\": 248,\n        \"samples\": [\n          0.001168213,\n          -0.007589772,\n          0.002596758\n        ],\n        \"semantic_type\": \"\",\n        \"description\": \"\"\n      }\n    },\n    {\n      \"column\": \"YEAR\",\n      \"properties\": {\n        \"dtype\": \"number\",\n        \"std\": 0,\n        \"min\": 2016,\n        \"max\": 2016,\n        \"num_unique_values\": 1,\n        \"samples\": [\n          2016\n        ],\n        \"semantic_type\": \"\",\n        \"description\": \"\"\n      }\n    }\n  ]\n}"
            }
          },
          "metadata": {},
          "execution_count": 4
        }
      ],
      "id": "-jSR8oO5XVID"
    },
    {
      "cell_type": "code",
      "execution_count": null,
      "id": "cd2e3a27-4b3c-4b1d-8daa-00ce1fec7112",
      "metadata": {
        "editable": true,
        "deletable": true,
        "id": "cd2e3a27-4b3c-4b1d-8daa-00ce1fec7112"
      },
      "outputs": [],
      "source": [
        "# Libraries\n",
        "import matplotlib.pyplot as plt\n",
        "import numpy as np\n",
        "import pandas as pd\n",
        "import statsmodels.api as sm\n",
        "import statsmodels.formula.api as smf\n",
        "import statsmodels.stats.api as sms\n",
        "\n",
        "plt.rcParams[\"figure.figsize\"] = (14, 8)  # Figure size and width"
      ]
    },
    {
      "cell_type": "code",
      "execution_count": null,
      "id": "e3c989e9-10a4-4d63-9c94-36622612b005",
      "metadata": {
        "editable": true,
        "deletable": true,
        "id": "e3c989e9-10a4-4d63-9c94-36622612b005"
      },
      "outputs": [],
      "source": [
        "# Import data\n",
        "data_set = pd.read_csv(\"M2. module_2_data.csv\")"
      ]
    },
    {
      "cell_type": "markdown",
      "id": "pyeKxFdZNcqb",
      "metadata": {
        "editable": true,
        "deletable": true,
        "id": "pyeKxFdZNcqb"
      },
      "source": [
        "## **1. Assumptions of Ordinary Least Square Regression**"
      ]
    },
    {
      "cell_type": "markdown",
      "id": "RAsh53LtNclx",
      "metadata": {
        "editable": true,
        "deletable": true,
        "id": "RAsh53LtNclx"
      },
      "source": [
        "Ordinary least square (OLS) regression models are based on the following assumptions."
      ]
    },
    {
      "cell_type": "markdown",
      "id": "QVtavSLqNcUp",
      "metadata": {
        "editable": true,
        "deletable": true,
        "id": "QVtavSLqNcUp"
      },
      "source": [
        "### **1.1 Linear Relationship**"
      ]
    },
    {
      "cell_type": "markdown",
      "id": "s74fjk-LNcP6",
      "metadata": {
        "editable": true,
        "deletable": true,
        "id": "s74fjk-LNcP6"
      },
      "source": [
        "The OLS regression model assumes that the dependent variable has a linear relationship with independent variables. If $Y$ is the dependent variable and $X_1$, $X_2$ and $X_3$ are independent variables and $e$ is the error term, we can write an OLS regression model as follows:\n",
        "\n",
        "$$ Y = \\beta_0 + \\beta_1  X_1 + \\beta_2 X_2 + \\beta_3 X_3 + e $$\n",
        "\n",
        "From Module 1, we learned how to use variable transformation methods to ensure this relationship exists."
      ]
    },
    {
      "cell_type": "markdown",
      "id": "QCNUfjWENcLF",
      "metadata": {
        "editable": true,
        "deletable": true,
        "id": "QCNUfjWENcLF"
      },
      "source": [
        "### **1.2 No Multicollinearity**"
      ]
    },
    {
      "cell_type": "markdown",
      "id": "S0HCGsieNcEB",
      "metadata": {
        "editable": true,
        "deletable": true,
        "id": "S0HCGsieNcEB"
      },
      "source": [
        "This assumption states that independent variables should be linearly independent to each other. In reality, many independent variables are correlated to each other. Some might have low correlations and some might have high correlations. We learned from the last module that if independent variables are highly correlated, we can check their correlations or VIFs and drop variables. We can also apply principal component analysis or factor analysis to address the issue."
      ]
    },
    {
      "cell_type": "markdown",
      "id": "ib72jUfPN9gG",
      "metadata": {
        "editable": true,
        "deletable": true,
        "id": "ib72jUfPN9gG"
      },
      "source": [
        "### **1.3 Independent Error Terms**"
      ]
    },
    {
      "cell_type": "markdown",
      "id": "rj-uVrtXN9cN",
      "metadata": {
        "editable": true,
        "deletable": true,
        "id": "rj-uVrtXN9cN"
      },
      "source": [
        "This assumption for OLS means that the error terms from each observation will be independent of each other.\n",
        "\n",
        "Assume we have these two observations from the dataset $ ( y_1, X_{11}, X_{21}, X_{31} )$ and $ ( y_{2}, X_{12}, X_{22}, X_{32} ) $. We can plug these two observations into an OLS regression model system.\n",
        "\n",
        "$$ y_{1} = \\beta_{0} + \\beta_{1}  X_{11} + \\beta_{2}  X_{21} + \\beta_{3} X_{31} + e_{1} $$\n",
        "\n",
        "$$ y_{2} = \\beta_{0} + \\beta_{1} X_{12} + \\beta_{2} X_{22} + \\beta_{3} X_{32} + e_{2} $$\n",
        "\n",
        "This assumption states that $e_{1}$ and $e_{2}$ are independent of each other. If they are not independent, we call them **autocorrelated**."
      ]
    },
    {
      "cell_type": "markdown",
      "id": "5Hd3JtRVN9Xk",
      "metadata": {
        "editable": true,
        "deletable": true,
        "id": "5Hd3JtRVN9Xk"
      },
      "source": [
        "### **1.4 Error Terms are Normally Distributed**"
      ]
    },
    {
      "cell_type": "markdown",
      "id": "55xgwfuPN9Si",
      "metadata": {
        "editable": true,
        "deletable": true,
        "id": "55xgwfuPN9Si"
      },
      "source": [
        "From our example, this means that $e_{1}$ and $e_{2}$ have to be normally distributed."
      ]
    },
    {
      "cell_type": "markdown",
      "id": "SknsvKA7OTk2",
      "metadata": {
        "editable": true,
        "deletable": true,
        "id": "SknsvKA7OTk2"
      },
      "source": [
        "### **1.5 Expected Values of Error Terms are 0**"
      ]
    },
    {
      "cell_type": "markdown",
      "id": "H9qxwbULOTgh",
      "metadata": {
        "editable": true,
        "deletable": true,
        "id": "H9qxwbULOTgh"
      },
      "source": [
        "From our example, the expected values of $e_{1}$ and $e_{2}$ have to be $0$."
      ]
    },
    {
      "cell_type": "markdown",
      "id": "LNaIx-SSOTbU",
      "metadata": {
        "editable": true,
        "deletable": true,
        "id": "LNaIx-SSOTbU"
      },
      "source": [
        "### **1.6 Error Terms Have the Same Variance (Homoscedasticity)**"
      ]
    },
    {
      "cell_type": "markdown",
      "id": "lCR679DgOTWi",
      "metadata": {
        "editable": true,
        "deletable": true,
        "id": "lCR679DgOTWi"
      },
      "source": [
        "When the variances of error terms are constant, we call the error terms **homoscedastic.** If the error terms are not constant, we call them **heteroskedastic.**\n",
        "\n",
        "With all the above assumptions about error terms, we usually call the error terms **IID: independent and identically distributed**. With the assumptions of 1.4, 1.5, and 1.6, we can summarize the error terms as follows:\n",
        "\n",
        "$$\n",
        "e \\sim N (0, \\sigma^{2})\n",
        "$$\n",
        "\n",
        "Now we can write the multiple regression mean function as follows:\n",
        "\n",
        "$$\n",
        "E (Y|X) = \\beta X\n",
        "$$\n",
        "\n",
        "And variances of the errors are constant.\n",
        "\n",
        "$$\n",
        "\\mathrm{Var}(Y|X)= \\mathrm{Var}(e|X) = \\delta^{2}\n",
        "$$\n",
        "\n",
        "Because the variance function is for multiple regression, $\\mathrm{Var}(e)$ is actually a covariance matrix.\n",
        "\n",
        "$$\n",
        "\\mathrm{Var}(e) = \\begin{pmatrix}\n",
        "  \\delta ^{2} & 0 & 0 & \\cdots & 0 \\\\\n",
        "  0 & \\delta ^{2} & 0 & \\cdots & 0 \\\\\n",
        "  0 & 0 & \\delta ^{2} & \\cdots & 0 \\\\\n",
        "  \\vdots & \\vdots & \\vdots & \\ddots & \\vdots \\\\\n",
        "  0 & 0 & 0 & \\cdots & \\delta ^{2} \\\\\n",
        "\\end{pmatrix}\n",
        "$$\n",
        "\n",
        "We can see the values on the diagonal of the matrix are the constant variance, and the values off the diagonal of the matrix are $0$. Because the assumption error terms are independent, the covariances of different error terms are $0$.\n",
        "\n",
        "Now we want to see what happens when any of the above assumptions do not exist. In the last module, we talked about how to handle the situations when the linear relationship and low multicollinearity assumptions are violated. In the following section, we will turn our focus on the assumption of homoscedasticity. We want to see how to detect when the homoscedasticity assumption does not hold up and what method we can use to run a regression analysis when heteroskedasticity exists. Particularly, we will introduce a weighted least square regression to handle heteroskedasticity."
      ]
    },
    {
      "cell_type": "markdown",
      "id": "jM81xOnMOTRu",
      "metadata": {
        "editable": true,
        "deletable": true,
        "id": "jM81xOnMOTRu"
      },
      "source": [
        "## **2. Weighted Least Square Regression**"
      ]
    },
    {
      "cell_type": "markdown",
      "id": "orulCuxNPQiB",
      "metadata": {
        "editable": true,
        "deletable": true,
        "id": "orulCuxNPQiB"
      },
      "source": [
        "### **2.1 How to Detect Heteroskedasticity**"
      ]
    },
    {
      "cell_type": "markdown",
      "id": "gDNNRa2_PQdN",
      "metadata": {
        "editable": true,
        "deletable": true,
        "id": "gDNNRa2_PQdN"
      },
      "source": [
        "As we mentioned in the last section, heteroskedasticity occurs when error terms in a regression analysis are not constant among observations. After running an OLS regression model, we can draw a scatter plot between predicted values vs. residuals to check for homoscedasticity (or heteroskedasticity). **Residuals** are the differences between measured values of the dependent variables and predicted values of dependent variables from the OLS regression model."
      ]
    },
    {
      "cell_type": "markdown",
      "id": "sGidDeLhPQZC",
      "metadata": {
        "editable": true,
        "deletable": true,
        "id": "sGidDeLhPQZC"
      },
      "source": [
        "**Figure 1: Homoscedasticity vs. Heteroskedasticity**\n",
        "\n",
        "\n",
        "![image.png](data:image/png;base64,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)\n",
        "\n"
      ]
    },
    {
      "cell_type": "markdown",
      "id": "wkqoneAnPd4y",
      "metadata": {
        "editable": true,
        "deletable": true,
        "id": "wkqoneAnPd4y"
      },
      "source": [
        "From Figure 1, we can see the residuals scatter around the $0$ line evenly in the homoscedasticity graph on the left. It means the variance for residuals is very constant along the $0$ line. However, in the heteroskedasticity graph on the right, the residuals are more concentrated when the predicted values are small, and the residuals are more spread out when the predicted values are large. The data shows a cone or a megaphone pattern in the graph. It implies that as the predicted values increase, the variances increase too. The variances are not constant.\n",
        "\n",
        "Graphs are visual aids. Sometimes, the graphs can make it difficult to spot the issue of heteroskedasticity. There are several formal methods to detect heteroskedasticity. The **Breusch-Pagan (BP) test** is a formal statistical test to detect the issue.The idea of the BP test is that it assumes that the variance and independent variables have a linear relationship. The test then runs a regression of the squared residuals from the original regression on the independent variables. Then, a BP test checks the following hypothesis:\n",
        "\n",
        "$$ H_{0}: \\text{Homoscedasticity exists} $$\n",
        "\n",
        "$$ H_{1}: \\text{Heteroskedasticity exists} $$\n",
        "\n",
        "This is a *Chi-square* test. If the $p$-value is less than the significant level of 0.05, we reject the null hypothesis. The residuals are not constant, so there is a heteroskedasticity issue.\n",
        "\n",
        "There are other tests to check for heteroskedasticity. One of them is the **White test,** which tests the same hypothesis as the BP test. However, the White test does not assume a linear relationship between the variance and independent variables."
      ]
    },
    {
      "cell_type": "markdown",
      "id": "bFcPgmbAPd0L",
      "metadata": {
        "editable": true,
        "deletable": true,
        "id": "bFcPgmbAPd0L"
      },
      "source": [
        "### **2.2 Basics of Weighted Least Square Regression**"
      ]
    },
    {
      "cell_type": "markdown",
      "id": "YaBVAS8XPdvy",
      "metadata": {
        "editable": true,
        "deletable": true,
        "id": "YaBVAS8XPdvy"
      },
      "source": [
        "When the error term variances are not constant, the covariance matrix for $n$ observations will be like the following:\n",
        "\n",
        "$$\n",
        "\\mathrm{Var}(e) = \\begin{pmatrix}\n",
        "  \\delta_{1}^{2} & 0 & 0 & \\cdots & 0 \\\\\n",
        "  0 & \\delta_{2}^{2} & 0 & \\cdots & 0 \\\\\n",
        "  0 & 0 & \\delta_{3} ^{2} & \\cdots & 0 \\\\\n",
        "  \\vdots & \\vdots & \\vdots & \\ddots & \\vdots \\\\\n",
        "  0 & 0 & 0 & \\cdots & \\delta_{n} ^{2} \\\\\n",
        "\\end{pmatrix}\n",
        "$$\n",
        "\n",
        " where  $\\delta_{1}^{2} \\neq \\delta_{2}^{2} \\neq \\delta_{3}^{2} \\neq \\cdots \\neq \\delta_{n}^{2}$\n",
        "\n",
        "Let's assume the variance of the error term of observation $i$ is as follows:\n",
        "\n",
        "$$\n",
        "\\mathrm{Var}(e_{i}) = \\delta_{i}^{2} = \\frac{\\sigma ^{2}}{w_{i}}\n",
        "$$\n",
        "\n",
        "Where $w_{1}, \\cdots, w_{n}$ are known positive numbers\n",
        "\n",
        "For weighted least square regression, we need to solve for coefficients by minimizing the following sum of weighted squared residuals.\n",
        "\n",
        "$$\n",
        "RSS(\\beta_{0}, \\beta_{1}) = \\sum_{i=1}^{n} w_{i} (Y_{i} - \\beta_{0} - \\beta_{1}  X_{i})^{2}\n",
        "$$\n",
        "\n",
        "The above function is called an **objective function**. An **objective function** is a function we would like to maximize or minimize. Please see section 4 in this lesson for more information on how to derive the coefficients of weighted least square regression.\n",
        "\n",
        "We can see the weight $w_{i}$ is inversely proportional to the variance of each observation. It means for an observation that is highly variable, it will be given a smaller weight for its weighted squared residual. Hence, this observation will have less importance in the minimization process. For an observation that has small variability, its weight will be larger. Its weighted squared residual will be larger, and it will be more important in the minimization process."
      ]
    },
    {
      "cell_type": "markdown",
      "id": "BzHPVMiJPdgI",
      "metadata": {
        "editable": true,
        "deletable": true,
        "id": "BzHPVMiJPdgI"
      },
      "source": [
        "**Figure 2: Impact of Data Weighting on Regression Lines**\n",
        "\n",
        "\n",
        "![image.png](data:image/png;base64,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)\n",
        "\n"
      ]
    },
    {
      "cell_type": "markdown",
      "id": "Il6dvt2sPdb3",
      "metadata": {
        "editable": true,
        "deletable": true,
        "id": "Il6dvt2sPdb3"
      },
      "source": [
        "From Figure 2, $Y$ is the dependent variable and $X$ is the independent variable of a regression. Figure 2 shows the scatterplot of the two variables. From the graph, we can see the data is not homoscedastic because there is more variation of $Y$ when $X$ increases. If we do not apply weights to the data and run an OLS regression model, then the regression line will try to treat all data points equally. The result line will be like the green line. The green line is higher and steeper towards the data point on the top of the graph because OLS treats every point equally. However, if we apply weights to all the data points, we will reduce the impact of those points that are further away from where most of the points cluster together. The weighted least square (WLS) regression line will be like the blue line. WLS focuses more on the data points that are close to each other and gives lower weight to points that are farther away. Hence, WLS is also a good method to handle **outliers**. When there is an outlier in the dataset, by the method of WLS, it will give less weight so this outlier will have less impact on the result of the WLS regression model.\n",
        "\n",
        "One thing to notice is that if the weight is $1$, then we are basically running an OLS regression model. In the field of regression analysis, OLS is actually a special case of WLS because OLS has weights equal to $1$."
      ]
    },
    {
      "cell_type": "markdown",
      "id": "4iLLsNszPdYM",
      "metadata": {
        "editable": true,
        "deletable": true,
        "id": "4iLLsNszPdYM"
      },
      "source": [
        "### **2.3 How Do We Estimate Weights?**"
      ]
    },
    {
      "cell_type": "markdown",
      "id": "WoIZp13yYTxL",
      "metadata": {
        "editable": true,
        "deletable": true,
        "id": "WoIZp13yYTxL"
      },
      "source": [
        "We don't always know the numbers of the weight. What should we do when the weights are unknown? In the last section, we learned that the weight is proportionally inverse to the variance of each error term.\n",
        "\n",
        "$$ w_{i}= \\frac{\\sigma^{2}}{\\sigma_{i}^{2}} $$\n",
        "\n",
        "Since $w_{i}$ is the weight and $\\sigma^{2}$ is an unknown constant and we only care about relationship among weights, not the scale, we can assume $\\sigma^{2}$ to be $1$. As such, we can try to estimate the following weight function.\n",
        "\n",
        "$$ w_{i}= \\frac{1}{\\sigma_{i}^{2}} $$\n",
        "\n",
        "However, we still don't know the variance for each error term of the observation ($\\sigma_{i}^{2}$). We will need to estimate the variances of error terms.\n",
        "\n",
        "Here are the steps to run a WLS regression model:\n",
        "\n",
        "**Step 1:** Run an OLS regression model.\n",
        "\n",
        "**Step 2:** Draw a scatter plot with fitted values from OLS on the $X$ axis and residuals from OLS on the $Y$ axis.\n",
        "\n",
        "**Step 3:** Inspect the scatter plot to see if there is a cone or megaphone pattern in the plot to indicate heteroskedasticity. You can also use the **Breusch-Pagan test** to check for heteroskedasticity, as discussed in the last section.\n",
        "\n",
        "**Step 4:** If you determine that there is heteroskedasticity in the OLS model, you will have to estimate the weights. We know from the last section that the weight for each observation is the inverse of the variance. We can use squared residuals from OLS to estimate the variances. It also means to use residuals from OLS to estimate the standard deviations. In order to estimate squared residuals, we will run an OLS regression model with absolute values of the residuals as the dependent variable and the fitted values from OLS model in **Step 1** as an independent variable as follows:\n",
        "\n",
        "$$ | \\text{residuals from OLS} | = 1 + \\gamma \\cdot \\text{fitted values from OLS} + e $$\n",
        "\n",
        "We will use the fitted value from the above OLS regression as the proxy for standard deviation. Variance is the squared standard deviation. We then plug the estimated standard deviation into the following equation to get the weight variable.\n",
        "\n",
        "$$ \\text{weight} =\\frac{1}{\\text{standard deviation}^{2}} $$\n",
        "\n",
        "**Step 5:** Once we get the weight variable, we can plug this weight variable into any statistical software to run a weighted least square regression model."
      ]
    },
    {
      "cell_type": "markdown",
      "id": "m0iqFGPzYTsa",
      "metadata": {
        "editable": true,
        "deletable": true,
        "id": "m0iqFGPzYTsa"
      },
      "source": [
        "## **3. Foreign Exchange Market Analysis Using Weighted Least Square Regression**"
      ]
    },
    {
      "cell_type": "markdown",
      "id": "Gbh3B88BYTaB",
      "metadata": {
        "editable": true,
        "deletable": true,
        "id": "Gbh3B88BYTaB"
      },
      "source": [
        "Now, let's look at an example to learn how to run weighted least square regression.\n",
        "\n",
        "We will use WLS to understand how the U.S. 10-year treasury bond yield would influence the U.S. Dollar Index. Both variables are converted to daily returns for analysis. We use the daily data from 2016. Here are their variable names.\n",
        "\n",
        "- *DXY*: US Dollar Index daily return\n",
        "- *X10Y_TBY*: 10-Year Treasury Bond Yield daily return\n",
        "\n",
        "First, let's draw a scatter plot to see if the two variables have any relationship."
      ]
    },
    {
      "cell_type": "markdown",
      "id": "8a0om21jYTVO",
      "metadata": {
        "editable": true,
        "deletable": true,
        "id": "8a0om21jYTVO"
      },
      "source": [
        "**Figure 3: U.S. Dollar Index Daily Return and 10-Year Treasury Bond Yield Daily Return Scatter Plot**\n"
      ]
    },
    {
      "cell_type": "code",
      "execution_count": null,
      "id": "221d6081-7078-4f43-af17-e9a6e4543cb6",
      "metadata": {
        "editable": true,
        "deletable": true,
        "id": "221d6081-7078-4f43-af17-e9a6e4543cb6",
        "outputId": "385f076f-7f80-418a-a992-3f0165816da7"
      },
      "outputs": [
        {
          "data": {
            "image/png": "[encoded data removed]",
            "text/plain": [
              "<Figure size 1400x800 with 1 Axes>"
            ]
          },
          "metadata": {},
          "output_type": "display_data"
        }
      ],
      "source": [
        "# Create scatter plot\n",
        "scatt = data_set.plot.scatter(x=\"DXY\", y=\"X10Y_TBY\")\n",
        "scatt.set(xlabel=\"DXY\", ylabel=\"X10Y_TBY\")\n",
        "plt.show()"
      ]
    },
    {
      "cell_type": "markdown",
      "id": "XPUFYU01YTQR",
      "metadata": {
        "editable": true,
        "deletable": true,
        "id": "XPUFYU01YTQR"
      },
      "source": [
        "From Figure 3, we can see two interesting patterns. First, they seem to have a positive relationship. We can see as *DXY* increases, *X10Y_TBY* increases too. Secondly, as *DXY* increases, the data points spread out more. It forms a cone or megaphone shape. It indicates that there might be a heteroskedasticity issue.\n",
        "\n",
        "Now, let's run an OLS regression with *DXY* as the dependent variable and *X10Y_TBY* as the independent variable."
      ]
    },
    {
      "cell_type": "markdown",
      "id": "49pxHG1iYTLi",
      "metadata": {
        "editable": true,
        "deletable": true,
        "id": "49pxHG1iYTLi"
      },
      "source": [
        "**Figure 4: OLS Regression Result**\n"
      ]
    },
    {
      "cell_type": "code",
      "execution_count": null,
      "id": "298181a4-8d5d-4320-854e-87d623f63e1a",
      "metadata": {
        "editable": true,
        "deletable": true,
        "id": "298181a4-8d5d-4320-854e-87d623f63e1a",
        "outputId": "0fd5c954-0dee-40e3-82ff-8db35abc99a0"
      },
      "outputs": [
        {
          "data": {
            "text/html": [
              "<table class=\"simpletable\">\n",
              "<caption>OLS Regression Results</caption>\n",
              "<tr>\n",
              "  <th>Dep. Variable:</th>           <td>DXY</td>       <th>  R-squared:         </th> <td>   0.030</td>\n",
              "</tr>\n",
              "<tr>\n",
              "  <th>Model:</th>                   <td>OLS</td>       <th>  Adj. R-squared:    </th> <td>   0.026</td>\n",
              "</tr>\n",
              "<tr>\n",
              "  <th>Method:</th>             <td>Least Squares</td>  <th>  F-statistic:       </th> <td>   7.738</td>\n",
              "</tr>\n",
              "<tr>\n",
              "  <th>Date:</th>             <td>Tue, 19 Aug 2025</td> <th>  Prob (F-statistic):</th>  <td>0.00582</td>\n",
              "</tr>\n",
              "<tr>\n",
              "  <th>Time:</th>                 <td>12:31:08</td>     <th>  Log-Likelihood:    </th> <td>  986.78</td>\n",
              "</tr>\n",
              "<tr>\n",
              "  <th>No. Observations:</th>      <td>   250</td>      <th>  AIC:               </th> <td>  -1970.</td>\n",
              "</tr>\n",
              "<tr>\n",
              "  <th>Df Residuals:</th>          <td>   248</td>      <th>  BIC:               </th> <td>  -1963.</td>\n",
              "</tr>\n",
              "<tr>\n",
              "  <th>Df Model:</th>              <td>     1</td>      <th>                     </th>     <td> </td>   \n",
              "</tr>\n",
              "<tr>\n",
              "  <th>Covariance Type:</th>      <td>nonrobust</td>    <th>                     </th>     <td> </td>   \n",
              "</tr>\n",
              "</table>\n",
              "<table class=\"simpletable\">\n",
              "<tr>\n",
              "      <td></td>         <th>coef</th>     <th>std err</th>      <th>t</th>      <th>P>|t|</th>  <th>[0.025</th>    <th>0.975]</th>  \n",
              "</tr>\n",
              "<tr>\n",
              "  <th>Intercept</th> <td>    0.0001</td> <td>    0.000</td> <td>    0.474</td> <td> 0.636</td> <td>   -0.000</td> <td>    0.001</td>\n",
              "</tr>\n",
              "<tr>\n",
              "  <th>X10Y_TBY</th>  <td>    0.0336</td> <td>    0.012</td> <td>    2.782</td> <td> 0.006</td> <td>    0.010</td> <td>    0.057</td>\n",
              "</tr>\n",
              "</table>\n",
              "<table class=\"simpletable\">\n",
              "<tr>\n",
              "  <th>Omnibus:</th>       <td>26.741</td> <th>  Durbin-Watson:     </th> <td>   1.909</td>\n",
              "</tr>\n",
              "<tr>\n",
              "  <th>Prob(Omnibus):</th> <td> 0.000</td> <th>  Jarque-Bera (JB):  </th> <td>  94.918</td>\n",
              "</tr>\n",
              "<tr>\n",
              "  <th>Skew:</th>          <td> 0.322</td> <th>  Prob(JB):          </th> <td>2.45e-21</td>\n",
              "</tr>\n",
              "<tr>\n",
              "  <th>Kurtosis:</th>      <td> 5.949</td> <th>  Cond. No.          </th> <td>    40.7</td>\n",
              "</tr>\n",
              "</table><br/><br/>Notes:<br/>[1] Standard Errors assume that the covariance matrix of the errors is correctly specified."
            ],
            "text/plain": [
              "<class 'statsmodels.iolib.summary.Summary'>\n",
              "\"\"\"\n",
              "                            OLS Regression Results                            \n",
              "==============================================================================\n",
              "Dep. Variable:                    DXY   R-squared:                       0.030\n",
              "Model:                            OLS   Adj. R-squared:                  0.026\n",
              "Method:                 Least Squares   F-statistic:                     7.738\n",
              "Date:                Tue, 19 Aug 2025   Prob (F-statistic):            0.00582\n",
              "Time:                        12:31:08   Log-Likelihood:                 986.78\n",
              "No. Observations:                 250   AIC:                            -1970.\n",
              "Df Residuals:                     248   BIC:                            -1963.\n",
              "Df Model:                           1                                         \n",
              "Covariance Type:            nonrobust                                         \n",
              "==============================================================================\n",
              "                 coef    std err          t      P>|t|      [0.025      0.975]\n",
              "------------------------------------------------------------------------------\n",
              "Intercept      0.0001      0.000      0.474      0.636      -0.000       0.001\n",
              "X10Y_TBY       0.0336      0.012      2.782      0.006       0.010       0.057\n",
              "==============================================================================\n",
              "Omnibus:                       26.741   Durbin-Watson:                   1.909\n",
              "Prob(Omnibus):                  0.000   Jarque-Bera (JB):               94.918\n",
              "Skew:                           0.322   Prob(JB):                     2.45e-21\n",
              "Kurtosis:                       5.949   Cond. No.                         40.7\n",
              "==============================================================================\n",
              "\n",
              "Notes:\n",
              "[1] Standard Errors assume that the covariance matrix of the errors is correctly specified.\n",
              "\"\"\""
            ]
          },
          "execution_count": 4,
          "metadata": {},
          "output_type": "execute_result"
        }
      ],
      "source": [
        "# OLS model\n",
        "model_1 = smf.ols(\"DXY ~ X10Y_TBY\", data=data_set).fit()\n",
        "model_1.summary()"
      ]
    },
    {
      "cell_type": "code",
      "execution_count": null,
      "id": "874e911b-e74f-4d06-aee5-09b0e9ebb596",
      "metadata": {
        "editable": true,
        "deletable": true,
        "id": "874e911b-e74f-4d06-aee5-09b0e9ebb596",
        "outputId": "0adc8c4d-80d8-41ee-f553-9c4bb041492f"
      },
      "outputs": [
        {
          "name": "stdout",
          "output_type": "stream",
          "text": [
            "              Coef.  Std.Err.         t     P>|t|    [0.025    0.975]\n",
            "Intercept  0.000141  0.000297  0.474101  0.635845 -0.000444  0.000725\n",
            "X10Y_TBY   0.033568  0.012067  2.781725  0.005823  0.009800  0.057336\n"
          ]
        }
      ],
      "source": [
        "# Parameters with high precision\n",
        "print(model_1.summary2().tables[1])"
      ]
    },
    {
      "cell_type": "markdown",
      "id": "c5Lte0yeaNxP",
      "metadata": {
        "editable": true,
        "deletable": true,
        "id": "c5Lte0yeaNxP"
      },
      "source": [
        "From Figure 4, we can see that *DXY* and *X10Y_TBY* have a positive coefficient, which is consistent with what we saw in the scatter plot. The coefficient is also significant. The $R^2$ is not very good for this simple regression model. Now, let's check the scatter plot for residuals and fitted values of this OLS model to see if there is a heteroskedasticity issue."
      ]
    },
    {
      "cell_type": "markdown",
      "id": "Ask9_ArYaNsu",
      "metadata": {
        "editable": true,
        "deletable": true,
        "id": "Ask9_ArYaNsu"
      },
      "source": [
        "**Figure 5: Scatter Plot for OLS Fitted Values and OLS Residuals**\n"
      ]
    },
    {
      "cell_type": "code",
      "execution_count": null,
      "id": "295f1464-67d1-468d-bd3b-55e18dc69a08",
      "metadata": {
        "editable": true,
        "deletable": true,
        "id": "295f1464-67d1-468d-bd3b-55e18dc69a08",
        "outputId": "69ad65aa-9807-49e7-ff41-24ce03e65e74"
      },
      "outputs": [
        {
          "data": {
            "image/png": "[encoded data removed]",
            "text/plain": [
              "<Figure size 1400x800 with 1 Axes>"
            ]
          },
          "metadata": {},
          "output_type": "display_data"
        }
      ],
      "source": [
        "# Scatter Plot for OLS Fitted Values and OLS Residuals\n",
        "\n",
        "# Fitted values and residuals\n",
        "model_fitted_y = model_1.fittedvalues\n",
        "model_resid_y = model_1.resid\n",
        "\n",
        "# Plot\n",
        "plt.scatter(x=model_fitted_y, y=model_resid_y)\n",
        "plt.title(\"OLS Residuals vs OLS Fitted Values\")\n",
        "plt.xlabel(\"OLS Fitted values\")\n",
        "plt.ylabel(\"OLS Residuals\")\n",
        "plt.show()"
      ]
    },
    {
      "cell_type": "markdown",
      "id": "yJTl5mzCaNl_",
      "metadata": {
        "editable": true,
        "deletable": true,
        "id": "yJTl5mzCaNl_"
      },
      "source": [
        "Figure 5 shows that there is more variation in residuals when fitted values are negative than when fitted values are positive, especially when fitted values are below -0.002. The scatter plot indicates there might be a heteroskedasticity issue. Let's run a Breusch-Pagan test to double-check the hypothesis."
      ]
    },
    {
      "cell_type": "markdown",
      "id": "ekbrRlTvaNhD",
      "metadata": {
        "editable": true,
        "deletable": true,
        "id": "ekbrRlTvaNhD"
      },
      "source": [
        "**Figure 6: Breusch-Pagan Test Result**\n"
      ]
    },
    {
      "cell_type": "code",
      "execution_count": null,
      "id": "0beb9843-7661-478c-940a-1faa7ff196db",
      "metadata": {
        "editable": true,
        "deletable": true,
        "id": "0beb9843-7661-478c-940a-1faa7ff196db",
        "outputId": "e0353590-e6d8-4b06-85bf-b97b5f36692c"
      },
      "outputs": [
        {
          "data": {
            "text/html": [
              "<div>\n",
              "<style scoped>\n",
              "    .dataframe tbody tr th:only-of-type {\n",
              "        vertical-align: middle;\n",
              "    }\n",
              "\n",
              "    .dataframe tbody tr th {\n",
              "        vertical-align: top;\n",
              "    }\n",
              "\n",
              "    .dataframe thead th {\n",
              "        text-align: right;\n",
              "    }\n",
              "</style>\n",
              "<table border=\"1\" class=\"dataframe\">\n",
              "  <thead>\n",
              "    <tr style=\"text-align: right;\">\n",
              "      <th></th>\n",
              "      <th></th>\n",
              "    </tr>\n",
              "  </thead>\n",
              "  <tbody>\n",
              "    <tr>\n",
              "      <th>Lagrange multiplier statistic</th>\n",
              "      <td>13.897238</td>\n",
              "    </tr>\n",
              "    <tr>\n",
              "      <th>p-value</th>\n",
              "      <td>0.000193</td>\n",
              "    </tr>\n",
              "    <tr>\n",
              "      <th>f-value</th>\n",
              "      <td>14.597521</td>\n",
              "    </tr>\n",
              "    <tr>\n",
              "      <th>f p-value</th>\n",
              "      <td>0.000168</td>\n",
              "    </tr>\n",
              "  </tbody>\n",
              "</table>\n",
              "</div>"
            ],
            "text/plain": [
              "                                        \n",
              "Lagrange multiplier statistic  13.897238\n",
              "p-value                         0.000193\n",
              "f-value                        14.597521\n",
              "f p-value                       0.000168"
            ]
          },
          "execution_count": 7,
          "metadata": {},
          "output_type": "execute_result"
        }
      ],
      "source": [
        "# Breusch-Pagan Test\n",
        "name = [\"Lagrange multiplier statistic\", \"p-value\", \"f-value\", \"f p-value\"]\n",
        "test = sms.het_breuschpagan(model_1.resid, model_1.model.exog)\n",
        "pd.DataFrame(test, index=name, columns=[\"\"])"
      ]
    },
    {
      "cell_type": "markdown",
      "id": "nw2JW1NDaNb5",
      "metadata": {
        "editable": true,
        "deletable": true,
        "id": "nw2JW1NDaNb5"
      },
      "source": [
        "The test result from Figure 6 also confirms the existence of heteroskedasticity because the $p$-value is less than 0.05. Based on the above information, we will run the model with weighted least square, with the weight generated from the formula from the last section."
      ]
    },
    {
      "cell_type": "markdown",
      "id": "7yiW8IYwtfcS",
      "metadata": {
        "editable": true,
        "deletable": true,
        "id": "7yiW8IYwtfcS"
      },
      "source": [
        "**Figure 7: WLS Result**\n"
      ]
    },
    {
      "cell_type": "code",
      "execution_count": null,
      "id": "4780c465-1461-4a1c-b7f1-3cc9d112b13e",
      "metadata": {
        "editable": true,
        "deletable": true,
        "id": "4780c465-1461-4a1c-b7f1-3cc9d112b13e",
        "outputId": "e40a1a44-d60b-4529-901e-3cf30028fa67"
      },
      "outputs": [
        {
          "data": {
            "text/html": [
              "<table class=\"simpletable\">\n",
              "<caption>WLS Regression Results</caption>\n",
              "<tr>\n",
              "  <th>Dep. Variable:</th>            <td>y</td>        <th>  R-squared:         </th> <td>   0.100</td>\n",
              "</tr>\n",
              "<tr>\n",
              "  <th>Model:</th>                   <td>WLS</td>       <th>  Adj. R-squared:    </th> <td>   0.096</td>\n",
              "</tr>\n",
              "<tr>\n",
              "  <th>Method:</th>             <td>Least Squares</td>  <th>  F-statistic:       </th> <td>   27.59</td>\n",
              "</tr>\n",
              "<tr>\n",
              "  <th>Date:</th>             <td>Tue, 19 Aug 2025</td> <th>  Prob (F-statistic):</th> <td>3.23e-07</td>\n",
              "</tr>\n",
              "<tr>\n",
              "  <th>Time:</th>                 <td>12:31:08</td>     <th>  Log-Likelihood:    </th> <td>  994.52</td>\n",
              "</tr>\n",
              "<tr>\n",
              "  <th>No. Observations:</th>      <td>   250</td>      <th>  AIC:               </th> <td>  -1985.</td>\n",
              "</tr>\n",
              "<tr>\n",
              "  <th>Df Residuals:</th>          <td>   248</td>      <th>  BIC:               </th> <td>  -1978.</td>\n",
              "</tr>\n",
              "<tr>\n",
              "  <th>Df Model:</th>              <td>     1</td>      <th>                     </th>     <td> </td>   \n",
              "</tr>\n",
              "<tr>\n",
              "  <th>Covariance Type:</th>      <td>nonrobust</td>    <th>                     </th>     <td> </td>   \n",
              "</tr>\n",
              "</table>\n",
              "<table class=\"simpletable\">\n",
              "<tr>\n",
              "    <td></td>       <th>coef</th>     <th>std err</th>      <th>t</th>      <th>P>|t|</th>  <th>[0.025</th>    <th>0.975]</th>  \n",
              "</tr>\n",
              "<tr>\n",
              "  <th>const</th> <td>    0.0001</td> <td>    0.000</td> <td>    0.346</td> <td> 0.730</td> <td>   -0.000</td> <td>    0.001</td>\n",
              "</tr>\n",
              "<tr>\n",
              "  <th>x1</th>    <td>    0.0516</td> <td>    0.010</td> <td>    5.253</td> <td> 0.000</td> <td>    0.032</td> <td>    0.071</td>\n",
              "</tr>\n",
              "</table>\n",
              "<table class=\"simpletable\">\n",
              "<tr>\n",
              "  <th>Omnibus:</th>       <td>10.978</td> <th>  Durbin-Watson:     </th> <td>   1.965</td>\n",
              "</tr>\n",
              "<tr>\n",
              "  <th>Prob(Omnibus):</th> <td> 0.004</td> <th>  Jarque-Bera (JB):  </th> <td>  23.475</td>\n",
              "</tr>\n",
              "<tr>\n",
              "  <th>Skew:</th>          <td> 0.063</td> <th>  Prob(JB):          </th> <td>7.99e-06</td>\n",
              "</tr>\n",
              "<tr>\n",
              "  <th>Kurtosis:</th>      <td> 4.496</td> <th>  Cond. No.          </th> <td>    35.0</td>\n",
              "</tr>\n",
              "</table><br/><br/>Notes:<br/>[1] Standard Errors assume that the covariance matrix of the errors is correctly specified."
            ],
            "text/plain": [
              "<class 'statsmodels.iolib.summary.Summary'>\n",
              "\"\"\"\n",
              "                            WLS Regression Results                            \n",
              "==============================================================================\n",
              "Dep. Variable:                      y   R-squared:                       0.100\n",
              "Model:                            WLS   Adj. R-squared:                  0.096\n",
              "Method:                 Least Squares   F-statistic:                     27.59\n",
              "Date:                Tue, 19 Aug 2025   Prob (F-statistic):           3.23e-07\n",
              "Time:                        12:31:08   Log-Likelihood:                 994.52\n",
              "No. Observations:                 250   AIC:                            -1985.\n",
              "Df Residuals:                     248   BIC:                            -1978.\n",
              "Df Model:                           1                                         \n",
              "Covariance Type:            nonrobust                                         \n",
              "==============================================================================\n",
              "                 coef    std err          t      P>|t|      [0.025      0.975]\n",
              "------------------------------------------------------------------------------\n",
              "const          0.0001      0.000      0.346      0.730      -0.000       0.001\n",
              "x1             0.0516      0.010      5.253      0.000       0.032       0.071\n",
              "==============================================================================\n",
              "Omnibus:                       10.978   Durbin-Watson:                   1.965\n",
              "Prob(Omnibus):                  0.004   Jarque-Bera (JB):               23.475\n",
              "Skew:                           0.063   Prob(JB):                     7.99e-06\n",
              "Kurtosis:                       4.496   Cond. No.                         35.0\n",
              "==============================================================================\n",
              "\n",
              "Notes:\n",
              "[1] Standard Errors assume that the covariance matrix of the errors is correctly specified.\n",
              "\"\"\""
            ]
          },
          "execution_count": 8,
          "metadata": {},
          "output_type": "execute_result"
        }
      ],
      "source": [
        "# WLS regression result\n",
        "\n",
        "# Add Absolute residuals and fitted values to dataset columns\n",
        "data_set[\"abs_residuals\"] = np.abs(model_1.resid)\n",
        "data_set[\"fitted_values\"] = model_1.fittedvalues\n",
        "\n",
        "# Fit OLS model with absolute residuals and fitted values\n",
        "model_temp = smf.ols(\"abs_residuals ~ fitted_values\", data=data_set).fit()\n",
        "\n",
        "# Compute weights and add it to the data_set column\n",
        "weights = model_temp.fittedvalues\n",
        "weights = weights**-2\n",
        "data_set[\"weights\"] = weights\n",
        "\n",
        "# Fit WLS model\n",
        "Y = data_set[\"DXY\"].tolist()\n",
        "X = data_set[\"X10Y_TBY\"].tolist()\n",
        "X = sm.add_constant(X)  # add a intercept point\n",
        "\n",
        "model_WLS = sm.WLS(Y, X, data_set[\"weights\"]).fit()\n",
        "model_WLS.summary()"
      ]
    },
    {
      "cell_type": "markdown",
      "id": "lH35AIM_tfW1",
      "metadata": {
        "editable": true,
        "deletable": true,
        "id": "lH35AIM_tfW1"
      },
      "source": [
        "From Figure 7, we can see *X10Y_TBY* still has a positive coefficient and the coefficient is still significant. The $R^2$ also improves a lot from 0.03 to 0.10. Now, let's look at the residuals and fitted values from WLS to see if we can correct the heteroskedasticity issue."
      ]
    },
    {
      "cell_type": "markdown",
      "id": "nKyCydTkPM2q",
      "metadata": {
        "editable": true,
        "deletable": true,
        "id": "nKyCydTkPM2q"
      },
      "source": [
        "**Figure 8: WLS Standardized Residuals and Fitted Values Scatter Plot**\n"
      ]
    },
    {
      "cell_type": "code",
      "execution_count": null,
      "id": "b49eaf33-9e67-4a8e-bf5f-8d8a286e4211",
      "metadata": {
        "editable": true,
        "deletable": true,
        "id": "b49eaf33-9e67-4a8e-bf5f-8d8a286e4211",
        "outputId": "66d35261-b871-4345-e6cc-bce4da1aa6bf"
      },
      "outputs": [
        {
          "data": {
            "image/png": "[encoded data removed]",
            "text/plain": [
              "<Figure size 1400x800 with 1 Axes>"
            ]
          },
          "metadata": {},
          "output_type": "display_data"
        }
      ],
      "source": [
        "# WLS fitted values and standardized residuals\n",
        "fitted_valuesWLS = model_WLS.fittedvalues\n",
        "model_residWLS = model_WLS.resid\n",
        "std_model_residWLS = model_residWLS / model_residWLS.std(ddof=1)\n",
        "\n",
        "# Plot WLS fitted v. vs standardized res. scatterplot\n",
        "plt.scatter(fitted_valuesWLS, std_model_residWLS)\n",
        "plt.xlabel(\"WLS fitted Values\")\n",
        "plt.ylabel(\"WLS Standardized Residuals\")\n",
        "plt.show()"
      ]
    },
    {
      "cell_type": "markdown",
      "id": "1TjtwcPste_m",
      "metadata": {
        "editable": true,
        "deletable": true,
        "id": "1TjtwcPste_m"
      },
      "source": [
        "## **4. Derivation of Coefficients for Weighted Least Square Regression**"
      ]
    },
    {
      "cell_type": "markdown",
      "id": "b7904db4",
      "metadata": {
        "editable": true,
        "deletable": true,
        "id": "b7904db4"
      },
      "source": [
        "We first use a single regression model to derive coefficients for weighted least square regression.\n",
        "\n",
        "Assume we have the following simple regression model for n observations:\n",
        "\n",
        "$$\n",
        "Y_{i} = \\beta_{0} + \\beta_{1} X_{i} + e_{i}, \\quad  i = 1, …, n  \n",
        "$$\n",
        "\n",
        "Where $ e \\sim N( 0, \\frac{\\sigma ^{2}}{w_{i}} ) $ and $w_1,…,w_n $ are known positive numbers\n",
        "\n",
        "For weighted least square regression, we are looking for $\\beta_{0}$ and $\\beta_{1}$ that will minimize the sum of weighted squared residuals. Here is the objective function:\n",
        "\n",
        "$$\n",
        "RSS (\\beta_{0}, \\beta_{1})= \\sum_{i=1}^{n}w_{i} ( Y_{i} - \\beta_{0} - \\beta_{1} X_{i} )^{2}\n",
        "$$\n",
        "\n",
        "We take partial derivatives of the objective function with respect to $\\beta_{0}$ and $\\beta_{1}$ to get the WLS estimates of $\\hat{\\beta_{0}}$ and $\\hat{\\beta_{1}}$\n",
        "\n",
        "$$\n",
        "\\begin{align*}\n",
        "  \\hat{\\beta_{0}}  &= \\overline{Y_{w}} - \\hat{\\beta_{1}} \\overline{X_{w}} \\\\\n",
        "  \\hat{\\beta_{1}}  &= \\frac{\\sum_{i=1}^{n}  w_{i}  (X_{i} - \\overline{X_{w}}) (Y_{i} -\\overline{Y_{w}})}{\\sum_{i=1}^{n}  w_{i}  (X_{i} - \\overline{X_{w}})^{2}}\n",
        "\\end{align*}\n",
        "$$\n",
        "\n",
        "Where $\\overline{X_{w}}$ and $\\overline{Y_{w}}$ are weighted averages of $X$ and $Y$ with weights $w$.\n",
        "\n",
        "$$\n",
        "\\overline{X_{w}} = \\frac{\\sum_{i=1}^{n} X_{i} w_{i}}{\\sum_{i=1}^{n} w_{i}}  \\quad \\text{  and  } \\quad  \\overline{Y_{w}} = \\frac{\\sum_{i=1}^{n} Y_{i} w_{i}}{\\sum_{i=1}^{n} w_{i}}\n",
        "$$\n",
        "\n",
        "We can apply the same process above to solve for coefficients for weighted least square regression with multiple independent variables. This is a general form of derivation because we don't restrict the number of independent variables. Since we have multiple independent variables now, we will use the matrix form to solve the minimization problem.\n",
        "\n",
        "For multiple weighted least regression, we have the model:\n",
        "\n",
        "$$\n",
        "\\mathbf{Y} = \\mathbf{X} \\boldsymbol{\\beta } + \\mathbf{e}\n",
        "$$\n",
        "\n",
        "$$\n",
        "\\mathrm{Var}(e) = \\sigma^{2} \\mathbf{W}^{-1}\n",
        "$$\n",
        "\n",
        "We minimize the following sum of weighted squared residuals in matrix form for multiple weighted least square regression models. Here is the objective function:\n",
        "\n",
        "$$\n",
        "RSS(\\boldsymbol{\\beta }) = \\sum_{i=1}^{n} w_{i} (Y_{i} - X_{i}^{t} \\boldsymbol{\\beta})^{2} = (\\mathbf{Y} - \\mathbf{X} \\boldsymbol{\\beta})^{t} \\mathbf{W} (\\mathbf{Y} - \\mathbf{X} \\boldsymbol{\\beta})\n",
        "$$\n",
        "\n",
        "We take the partial derivatives of the above objective function with respect to $\\boldsymbol{\\beta}$ and set the equations to $0$ to solve for $\\boldsymbol{\\beta}$.\n",
        "\n",
        "$$\n",
        "\\sum_{i=1}^{n} w_{i} e_{i} X_{i}^{t}= 0\n",
        "$$\n",
        "\n",
        "The general form of WLS estimator is given by\n",
        "\n",
        "$$\n",
        "\\hat{\\boldsymbol{\\beta}} = (\\mathbf{X}^{t} \\mathbf{W} \\mathbf{X})^{-1}  (\\mathbf{X}^{t} \\mathbf{W \\textbf{Y}})\n",
        "$$\n",
        "\n",
        "<span style='color: transparent; font-size:1%'>All rights reserved WQU WorldQuant University QQQQ</span>"
      ]
    },
    {
      "cell_type": "markdown",
      "id": "5f29b50d",
      "metadata": {
        "editable": true,
        "deletable": true,
        "id": "5f29b50d"
      },
      "source": [
        "## **5. Conclusion**\n",
        "\n",
        "In this lesson, we first reviewed the key assumptions for an ordinary least square regression model. We then relaxed the assumption of homoscedasticity. If the data shows heteroskedasticity, which is a violation of homoscedasticity, we will use a weighted least square regression model to handle the issue.\n",
        "\n",
        "We pointed out that OLS is a special case for WLS when the weight is $1$, which means the data is unweighted. We then introduced the basics of WLS and the steps to run WLS. We finished the lesson with one example from the foreign exchange market. In the next lesson, we will introduce another regression method when the assumptions of OLS do not hold up well in the dataset.\n",
        "\n"
      ]
    }
  ],
  "metadata": {
    "colab": {
      "provenance": [],
      "include_colab_link": true
    },
    "kernelspec": {
      "display_name": "Python 3 (ipykernel)",
      "language": "python",
      "name": "python3"
    },
    "language_info": {
      "codemirror_mode": {
        "name": "ipython",
        "version": 3
      },
      "file_extension": ".py",
      "mimetype": "text/x-python",
      "name": "python",
      "nbconvert_exporter": "python",
      "pygments_lexer": "ipython3",
      "version": "3.11.0"
    }
  },
  "nbformat": 4,
  "nbformat_minor": 5
}